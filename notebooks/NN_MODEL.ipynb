{
 "cells": [
  {
   "cell_type": "code",
   "execution_count": 248,
   "metadata": {
    "id": "FZ3uPDa-sENJ"
   },
   "outputs": [],
   "source": [
    "import torch\n",
    "import numpy as np\n",
    "import pandas as pd\n",
    "from sklearn.model_selection import train_test_split\n",
    "from torch.utils.data import Dataset\n",
    "from torch.utils.data import DataLoader\n",
    "import torch.nn as nn\n",
    "import torch.optim as optim\n",
    "import matplotlib.pyplot as plt\n",
    "import pickle "
   ]
  },
  {
   "cell_type": "code",
   "execution_count": 2,
   "metadata": {},
   "outputs": [],
   "source": [
    "class Covid_Dataset(Dataset):\n",
    "    def __init__(self, data, targets):\n",
    "        super(Covid_Dataset, self)\n",
    "        self.data = data\n",
    "        self.targets = targets\n",
    "    def __getitem__(self, idx):\n",
    "        return self.data[idx], self.targets[idx]\n",
    "    def __len__(self):\n",
    "        return len(self.targets)"
   ]
  },
  {
   "cell_type": "markdown",
   "metadata": {},
   "source": [
    "**Importing Data**"
   ]
  },
  {
   "cell_type": "code",
   "execution_count": 3,
   "metadata": {
    "id": "Qe3HFD33sEYm"
   },
   "outputs": [],
   "source": [
    "#load the original data and the new prepared data\n",
    "df = pd.read_excel(\"../CSV/Data-FakeRealCOVID.xlsx\")\n",
    "newDF = pd.read_csv(\"../CSV/newDF.csv\")"
   ]
  },
  {
   "cell_type": "code",
   "execution_count": 4,
   "metadata": {
    "id": "lBhZ6rdYsiq3"
   },
   "outputs": [],
   "source": [
    "#drop a column that contains indexs (it is created automatically when saving a dataFrame to a csv file)\n",
    "newDF = newDF.drop('Unnamed: 0',axis=1)"
   ]
  },
  {
   "cell_type": "code",
   "execution_count": 5,
   "metadata": {},
   "outputs": [
    {
     "data": {
      "text/plain": [
       "<AxesSubplot:>"
      ]
     },
     "execution_count": 5,
     "metadata": {},
     "output_type": "execute_result"
    },
    {
     "data": {
      "image/png": "[encoded data removed]",
      "text/plain": [
       "<Figure size 360x360 with 1 Axes>"
      ]
     },
     "metadata": {
      "needs_background": "light"
     },
     "output_type": "display_data"
    }
   ],
   "source": [
    "#pourcentage of fake and real news \n",
    "df.label.hist(xlabelsize=20,figsize=[5,5])"
   ]
  },
  {
   "cell_type": "code",
   "execution_count": 6,
   "metadata": {
    "colab": {
     "base_uri": "https://localhost:8080/",
     "height": 487
    },
    "id": "wOV71dtes3kg",
    "outputId": "8ba24130-679a-4e54-e35a-3540a77ce486"
   },
   "outputs": [
    {
     "data": {
      "text/html": [
       "<div>\n",
       "<style scoped>\n",
       "    .dataframe tbody tr th:only-of-type {\n",
       "        vertical-align: middle;\n",
       "    }\n",
       "\n",
       "    .dataframe tbody tr th {\n",
       "        vertical-align: top;\n",
       "    }\n",
       "\n",
       "    .dataframe thead th {\n",
       "        text-align: right;\n",
       "    }\n",
       "</style>\n",
       "<table border=\"1\" class=\"dataframe\">\n",
       "  <thead>\n",
       "    <tr style=\"text-align: right;\">\n",
       "      <th></th>\n",
       "      <th>aa</th>\n",
       "      <th>aadajoli</th>\n",
       "      <th>aai</th>\n",
       "      <th>aaj</th>\n",
       "      <th>aajtak</th>\n",
       "      <th>aamaadmiparti</th>\n",
       "      <th>aamctoday</th>\n",
       "      <th>aamir</th>\n",
       "      <th>aaradhya</th>\n",
       "      <th>ab</th>\n",
       "      <th>...</th>\n",
       "      <th>zombi</th>\n",
       "      <th>zone</th>\n",
       "      <th>zoo</th>\n",
       "      <th>zoodirector</th>\n",
       "      <th>zookeep</th>\n",
       "      <th>zoolog</th>\n",
       "      <th>zoom</th>\n",
       "      <th>zubymus</th>\n",
       "      <th>zydu</th>\n",
       "      <th>zyphr</th>\n",
       "    </tr>\n",
       "  </thead>\n",
       "  <tbody>\n",
       "    <tr>\n",
       "      <th>0</th>\n",
       "      <td>0.0</td>\n",
       "      <td>0.0</td>\n",
       "      <td>0.0</td>\n",
       "      <td>0.0</td>\n",
       "      <td>0.0</td>\n",
       "      <td>0.0</td>\n",
       "      <td>0.0</td>\n",
       "      <td>0.000000</td>\n",
       "      <td>0.0</td>\n",
       "      <td>0.0</td>\n",
       "      <td>...</td>\n",
       "      <td>0.0</td>\n",
       "      <td>0.0</td>\n",
       "      <td>0.0</td>\n",
       "      <td>0.0</td>\n",
       "      <td>0.0</td>\n",
       "      <td>0.0</td>\n",
       "      <td>0.0</td>\n",
       "      <td>0.0</td>\n",
       "      <td>0.0</td>\n",
       "      <td>0.0</td>\n",
       "    </tr>\n",
       "    <tr>\n",
       "      <th>1</th>\n",
       "      <td>0.0</td>\n",
       "      <td>0.0</td>\n",
       "      <td>0.0</td>\n",
       "      <td>0.0</td>\n",
       "      <td>0.0</td>\n",
       "      <td>0.0</td>\n",
       "      <td>0.0</td>\n",
       "      <td>0.000000</td>\n",
       "      <td>0.0</td>\n",
       "      <td>0.0</td>\n",
       "      <td>...</td>\n",
       "      <td>0.0</td>\n",
       "      <td>0.0</td>\n",
       "      <td>0.0</td>\n",
       "      <td>0.0</td>\n",
       "      <td>0.0</td>\n",
       "      <td>0.0</td>\n",
       "      <td>0.0</td>\n",
       "      <td>0.0</td>\n",
       "      <td>0.0</td>\n",
       "      <td>0.0</td>\n",
       "    </tr>\n",
       "    <tr>\n",
       "      <th>2</th>\n",
       "      <td>0.0</td>\n",
       "      <td>0.0</td>\n",
       "      <td>0.0</td>\n",
       "      <td>0.0</td>\n",
       "      <td>0.0</td>\n",
       "      <td>0.0</td>\n",
       "      <td>0.0</td>\n",
       "      <td>0.000000</td>\n",
       "      <td>0.0</td>\n",
       "      <td>0.0</td>\n",
       "      <td>...</td>\n",
       "      <td>0.0</td>\n",
       "      <td>0.0</td>\n",
       "      <td>0.0</td>\n",
       "      <td>0.0</td>\n",
       "      <td>0.0</td>\n",
       "      <td>0.0</td>\n",
       "      <td>0.0</td>\n",
       "      <td>0.0</td>\n",
       "      <td>0.0</td>\n",
       "      <td>0.0</td>\n",
       "    </tr>\n",
       "    <tr>\n",
       "      <th>3</th>\n",
       "      <td>0.0</td>\n",
       "      <td>0.0</td>\n",
       "      <td>0.0</td>\n",
       "      <td>0.0</td>\n",
       "      <td>0.0</td>\n",
       "      <td>0.0</td>\n",
       "      <td>0.0</td>\n",
       "      <td>0.000000</td>\n",
       "      <td>0.0</td>\n",
       "      <td>0.0</td>\n",
       "      <td>...</td>\n",
       "      <td>0.0</td>\n",
       "      <td>0.0</td>\n",
       "      <td>0.0</td>\n",
       "      <td>0.0</td>\n",
       "      <td>0.0</td>\n",
       "      <td>0.0</td>\n",
       "      <td>0.0</td>\n",
       "      <td>0.0</td>\n",
       "      <td>0.0</td>\n",
       "      <td>0.0</td>\n",
       "    </tr>\n",
       "    <tr>\n",
       "      <th>4</th>\n",
       "      <td>0.0</td>\n",
       "      <td>0.0</td>\n",
       "      <td>0.0</td>\n",
       "      <td>0.0</td>\n",
       "      <td>0.0</td>\n",
       "      <td>0.0</td>\n",
       "      <td>0.0</td>\n",
       "      <td>0.000000</td>\n",
       "      <td>0.0</td>\n",
       "      <td>0.0</td>\n",
       "      <td>...</td>\n",
       "      <td>0.0</td>\n",
       "      <td>0.0</td>\n",
       "      <td>0.0</td>\n",
       "      <td>0.0</td>\n",
       "      <td>0.0</td>\n",
       "      <td>0.0</td>\n",
       "      <td>0.0</td>\n",
       "      <td>0.0</td>\n",
       "      <td>0.0</td>\n",
       "      <td>0.0</td>\n",
       "    </tr>\n",
       "    <tr>\n",
       "      <th>...</th>\n",
       "      <td>...</td>\n",
       "      <td>...</td>\n",
       "      <td>...</td>\n",
       "      <td>...</td>\n",
       "      <td>...</td>\n",
       "      <td>...</td>\n",
       "      <td>...</td>\n",
       "      <td>...</td>\n",
       "      <td>...</td>\n",
       "      <td>...</td>\n",
       "      <td>...</td>\n",
       "      <td>...</td>\n",
       "      <td>...</td>\n",
       "      <td>...</td>\n",
       "      <td>...</td>\n",
       "      <td>...</td>\n",
       "      <td>...</td>\n",
       "      <td>...</td>\n",
       "      <td>...</td>\n",
       "      <td>...</td>\n",
       "      <td>...</td>\n",
       "    </tr>\n",
       "    <tr>\n",
       "      <th>6415</th>\n",
       "      <td>0.0</td>\n",
       "      <td>0.0</td>\n",
       "      <td>0.0</td>\n",
       "      <td>0.0</td>\n",
       "      <td>0.0</td>\n",
       "      <td>0.0</td>\n",
       "      <td>0.0</td>\n",
       "      <td>0.000000</td>\n",
       "      <td>0.0</td>\n",
       "      <td>0.0</td>\n",
       "      <td>...</td>\n",
       "      <td>0.0</td>\n",
       "      <td>0.0</td>\n",
       "      <td>0.0</td>\n",
       "      <td>0.0</td>\n",
       "      <td>0.0</td>\n",
       "      <td>0.0</td>\n",
       "      <td>0.0</td>\n",
       "      <td>0.0</td>\n",
       "      <td>0.0</td>\n",
       "      <td>0.0</td>\n",
       "    </tr>\n",
       "    <tr>\n",
       "      <th>6416</th>\n",
       "      <td>0.0</td>\n",
       "      <td>0.0</td>\n",
       "      <td>0.0</td>\n",
       "      <td>0.0</td>\n",
       "      <td>0.0</td>\n",
       "      <td>0.0</td>\n",
       "      <td>0.0</td>\n",
       "      <td>0.000000</td>\n",
       "      <td>0.0</td>\n",
       "      <td>0.0</td>\n",
       "      <td>...</td>\n",
       "      <td>0.0</td>\n",
       "      <td>0.0</td>\n",
       "      <td>0.0</td>\n",
       "      <td>0.0</td>\n",
       "      <td>0.0</td>\n",
       "      <td>0.0</td>\n",
       "      <td>0.0</td>\n",
       "      <td>0.0</td>\n",
       "      <td>0.0</td>\n",
       "      <td>0.0</td>\n",
       "    </tr>\n",
       "    <tr>\n",
       "      <th>6417</th>\n",
       "      <td>0.0</td>\n",
       "      <td>0.0</td>\n",
       "      <td>0.0</td>\n",
       "      <td>0.0</td>\n",
       "      <td>0.0</td>\n",
       "      <td>0.0</td>\n",
       "      <td>0.0</td>\n",
       "      <td>0.000000</td>\n",
       "      <td>0.0</td>\n",
       "      <td>0.0</td>\n",
       "      <td>...</td>\n",
       "      <td>0.0</td>\n",
       "      <td>0.0</td>\n",
       "      <td>0.0</td>\n",
       "      <td>0.0</td>\n",
       "      <td>0.0</td>\n",
       "      <td>0.0</td>\n",
       "      <td>0.0</td>\n",
       "      <td>0.0</td>\n",
       "      <td>0.0</td>\n",
       "      <td>0.0</td>\n",
       "    </tr>\n",
       "    <tr>\n",
       "      <th>6418</th>\n",
       "      <td>0.0</td>\n",
       "      <td>0.0</td>\n",
       "      <td>0.0</td>\n",
       "      <td>0.0</td>\n",
       "      <td>0.0</td>\n",
       "      <td>0.0</td>\n",
       "      <td>0.0</td>\n",
       "      <td>0.419268</td>\n",
       "      <td>0.0</td>\n",
       "      <td>0.0</td>\n",
       "      <td>...</td>\n",
       "      <td>0.0</td>\n",
       "      <td>0.0</td>\n",
       "      <td>0.0</td>\n",
       "      <td>0.0</td>\n",
       "      <td>0.0</td>\n",
       "      <td>0.0</td>\n",
       "      <td>0.0</td>\n",
       "      <td>0.0</td>\n",
       "      <td>0.0</td>\n",
       "      <td>0.0</td>\n",
       "    </tr>\n",
       "    <tr>\n",
       "      <th>6419</th>\n",
       "      <td>0.0</td>\n",
       "      <td>0.0</td>\n",
       "      <td>0.0</td>\n",
       "      <td>0.0</td>\n",
       "      <td>0.0</td>\n",
       "      <td>0.0</td>\n",
       "      <td>0.0</td>\n",
       "      <td>0.000000</td>\n",
       "      <td>0.0</td>\n",
       "      <td>0.0</td>\n",
       "      <td>...</td>\n",
       "      <td>0.0</td>\n",
       "      <td>0.0</td>\n",
       "      <td>0.0</td>\n",
       "      <td>0.0</td>\n",
       "      <td>0.0</td>\n",
       "      <td>0.0</td>\n",
       "      <td>0.0</td>\n",
       "      <td>0.0</td>\n",
       "      <td>0.0</td>\n",
       "      <td>0.0</td>\n",
       "    </tr>\n",
       "  </tbody>\n",
       "</table>\n",
       "<p>6420 rows × 9065 columns</p>\n",
       "</div>"
      ],
      "text/plain": [
       "       aa  aadajoli  aai  aaj  aajtak  aamaadmiparti  aamctoday     aamir  \\\n",
       "0     0.0       0.0  0.0  0.0     0.0            0.0        0.0  0.000000   \n",
       "1     0.0       0.0  0.0  0.0     0.0            0.0        0.0  0.000000   \n",
       "2     0.0       0.0  0.0  0.0     0.0            0.0        0.0  0.000000   \n",
       "3     0.0       0.0  0.0  0.0     0.0            0.0        0.0  0.000000   \n",
       "4     0.0       0.0  0.0  0.0     0.0            0.0        0.0  0.000000   \n",
       "...   ...       ...  ...  ...     ...            ...        ...       ...   \n",
       "6415  0.0       0.0  0.0  0.0     0.0            0.0        0.0  0.000000   \n",
       "6416  0.0       0.0  0.0  0.0     0.0            0.0        0.0  0.000000   \n",
       "6417  0.0       0.0  0.0  0.0     0.0            0.0        0.0  0.000000   \n",
       "6418  0.0       0.0  0.0  0.0     0.0            0.0        0.0  0.419268   \n",
       "6419  0.0       0.0  0.0  0.0     0.0            0.0        0.0  0.000000   \n",
       "\n",
       "      aaradhya   ab  ...  zombi  zone  zoo  zoodirector  zookeep  zoolog  \\\n",
       "0          0.0  0.0  ...    0.0   0.0  0.0          0.0      0.0     0.0   \n",
       "1          0.0  0.0  ...    0.0   0.0  0.0          0.0      0.0     0.0   \n",
       "2          0.0  0.0  ...    0.0   0.0  0.0          0.0      0.0     0.0   \n",
       "3          0.0  0.0  ...    0.0   0.0  0.0          0.0      0.0     0.0   \n",
       "4          0.0  0.0  ...    0.0   0.0  0.0          0.0      0.0     0.0   \n",
       "...        ...  ...  ...    ...   ...  ...          ...      ...     ...   \n",
       "6415       0.0  0.0  ...    0.0   0.0  0.0          0.0      0.0     0.0   \n",
       "6416       0.0  0.0  ...    0.0   0.0  0.0          0.0      0.0     0.0   \n",
       "6417       0.0  0.0  ...    0.0   0.0  0.0          0.0      0.0     0.0   \n",
       "6418       0.0  0.0  ...    0.0   0.0  0.0          0.0      0.0     0.0   \n",
       "6419       0.0  0.0  ...    0.0   0.0  0.0          0.0      0.0     0.0   \n",
       "\n",
       "      zoom  zubymus  zydu  zyphr  \n",
       "0      0.0      0.0   0.0    0.0  \n",
       "1      0.0      0.0   0.0    0.0  \n",
       "2      0.0      0.0   0.0    0.0  \n",
       "3      0.0      0.0   0.0    0.0  \n",
       "4      0.0      0.0   0.0    0.0  \n",
       "...    ...      ...   ...    ...  \n",
       "6415   0.0      0.0   0.0    0.0  \n",
       "6416   0.0      0.0   0.0    0.0  \n",
       "6417   0.0      0.0   0.0    0.0  \n",
       "6418   0.0      0.0   0.0    0.0  \n",
       "6419   0.0      0.0   0.0    0.0  \n",
       "\n",
       "[6420 rows x 9065 columns]"
      ]
     },
     "execution_count": 6,
     "metadata": {},
     "output_type": "execute_result"
    }
   ],
   "source": [
    "newDF"
   ]
  },
  {
   "cell_type": "code",
   "execution_count": 7,
   "metadata": {},
   "outputs": [],
   "source": [
    "#we already defined this function on Vecotrization file\n",
    "def redDim(dfVec,seuil1,seuil2):\n",
    "    subDf = dfVec[dfVec != 0]\n",
    "    map = subDf.count(axis = 0) <= seuil1 \n",
    "    map2 = subDf.count(axis = 0) >= (dfVec.shape[0] - seuil2) \n",
    "    resultDf = dfVec.drop(dfVec.columns[map+map2],axis=1)\n",
    "    columns_dropped=dfVec.columns[map+map2]\n",
    "    \n",
    "    return resultDf,columns_dropped"
   ]
  },
  {
   "cell_type": "code",
   "execution_count": 8,
   "metadata": {
    "colab": {
     "base_uri": "https://localhost:8080/"
    },
    "id": "KzM25Jlb61y9",
    "outputId": "e918e3de-3d8d-4df6-f795-2540e0dfa482"
   },
   "outputs": [
    {
     "data": {
      "text/plain": [
       "tensor([1, 1, 0,  ..., 0, 0, 1])"
      ]
     },
     "execution_count": 8,
     "metadata": {},
     "output_type": "execute_result"
    }
   ],
   "source": [
    "#creating a tensor containing targets(fake,real)\n",
    "labels = []\n",
    "for label in df.label.to_numpy():\n",
    "  if label == 'real':\n",
    "    labels.append(1)\n",
    "  else:\n",
    "    labels.append(0)\n",
    "targets=torch.tensor(labels)\n",
    "targets"
   ]
  },
  {
   "cell_type": "code",
   "execution_count": 9,
   "metadata": {
    "colab": {
     "base_uri": "https://localhost:8080/"
    },
    "id": "xWC7l7AlrRvY",
    "outputId": "0e17615b-bd57-4ef9-9464-487849f545cf"
   },
   "outputs": [
    {
     "data": {
      "text/plain": [
       "torch.int64"
      ]
     },
     "execution_count": 9,
     "metadata": {},
     "output_type": "execute_result"
    }
   ],
   "source": [
    "targets.dtype"
   ]
  },
  {
   "cell_type": "code",
   "execution_count": 10,
   "metadata": {
    "id": "_cRVsJ5P61wJ"
   },
   "outputs": [],
   "source": [
    "data=torch.tensor(newDF.to_numpy())\n"
   ]
  },
  {
   "cell_type": "code",
   "execution_count": 11,
   "metadata": {
    "colab": {
     "base_uri": "https://localhost:8080/"
    },
    "id": "tFo0D2UDrL9f",
    "outputId": "4dd9c4d3-3044-4df3-f7b7-80ac8ce04d7c"
   },
   "outputs": [
    {
     "data": {
      "text/plain": [
       "tensor([[0., 0., 0.,  ..., 0., 0., 0.],\n",
       "        [0., 0., 0.,  ..., 0., 0., 0.],\n",
       "        [0., 0., 0.,  ..., 0., 0., 0.],\n",
       "        ...,\n",
       "        [0., 0., 0.,  ..., 0., 0., 0.],\n",
       "        [0., 0., 0.,  ..., 0., 0., 0.],\n",
       "        [0., 0., 0.,  ..., 0., 0., 0.]], dtype=torch.float64)"
      ]
     },
     "execution_count": 11,
     "metadata": {},
     "output_type": "execute_result"
    }
   ],
   "source": [
    "data"
   ]
  },
  {
   "cell_type": "code",
   "execution_count": 12,
   "metadata": {
    "id": "_LqR9Z4fsEbQ"
   },
   "outputs": [],
   "source": [
    "# Importer la fonction de splitting des données de scikit learn\n",
    "from sklearn.model_selection import train_test_split\n"
   ]
  },
  {
   "cell_type": "code",
   "execution_count": 13,
   "metadata": {
    "colab": {
     "base_uri": "https://localhost:8080/"
    },
    "id": "k9FvJq-RJxxX",
    "outputId": "db9716d2-df2b-41b8-a902-529ce0debb9a"
   },
   "outputs": [
    {
     "data": {
      "text/plain": [
       "torch.Size([5136, 9065])"
      ]
     },
     "execution_count": 13,
     "metadata": {},
     "output_type": "execute_result"
    }
   ],
   "source": [
    "# Créer 4 tensors en résultat du splitting: données d'apprentissage, données de test, labels d'apprentissage, et labels de test  \n",
    "atrain_data, test_data, atrain_targets, test_targets = train_test_split(data, targets, test_size=0.2)\n",
    "atrain_data.shape"
   ]
  },
  {
   "cell_type": "code",
   "execution_count": 14,
   "metadata": {
    "colab": {
     "base_uri": "https://localhost:8080/"
    },
    "id": "avlRzUHBsEd0",
    "outputId": "c28991ec-d8a0-4919-94d8-4e87fb9c73ce"
   },
   "outputs": [
    {
     "data": {
      "text/plain": [
       "torch.Size([4136, 9065])"
      ]
     },
     "execution_count": 14,
     "metadata": {},
     "output_type": "execute_result"
    }
   ],
   "source": [
    "# Créer 4 tensors en résultat du splitting: données d'apprentissage, données de validation, labels d'apprentissage, et labels de validation  \n",
    "train_data, validation_data, train_targets, validation_targets = train_test_split(atrain_data, atrain_targets, test_size=1000)\n",
    "train_data.shape"
   ]
  },
  {
   "cell_type": "code",
   "execution_count": 15,
   "metadata": {
    "colab": {
     "base_uri": "https://localhost:8080/"
    },
    "id": "V7D9yvLbsEjV",
    "outputId": "3eab84ea-06aa-4025-9aa5-b66a43a35551"
   },
   "outputs": [
    {
     "name": "stdout",
     "output_type": "stream",
     "text": [
      "torch.Size([4136, 9065]) torch.Size([4136])\n",
      "torch.Size([1000, 9065]) torch.Size([1000])\n",
      "torch.Size([1284, 9065]) torch.Size([1284])\n"
     ]
    }
   ],
   "source": [
    "# Afficher la taille de chaque tensor\n",
    "print(train_data.shape, train_targets.shape)\n",
    "print(validation_data.shape, validation_targets.shape)\n",
    "print(test_data.shape,test_targets.shape)"
   ]
  },
  {
   "cell_type": "code",
   "execution_count": 16,
   "metadata": {
    "id": "CoS4SEElK18d"
   },
   "outputs": [],
   "source": [
    "# Importer Dataset de torch.utils.data\n",
    "from torch.utils.data import Dataset"
   ]
  },
  {
   "cell_type": "code",
   "execution_count": 17,
   "metadata": {
    "id": "p00R4rbYLHy6"
   },
   "outputs": [],
   "source": [
    "# Créer une classe qui hérite de Dataset et redéfinit les méthodes \n",
    "class Covid_Dataset(Dataset):\n",
    "    def __init__(self, data, targets):\n",
    "        super(Covid_Dataset, self)\n",
    "        self.data = data\n",
    "        self.targets = targets\n",
    "    def __getitem__(self, idx):\n",
    "        return self.data[idx], self.targets[idx]\n",
    "    def __len__(self):\n",
    "        return len(self.targets)\n"
   ]
  },
  {
   "cell_type": "code",
   "execution_count": 18,
   "metadata": {
    "id": "n5NcCk_gLR0P"
   },
   "outputs": [],
   "source": [
    "# Créer les 3 objets en instantiant votre classe\n",
    "train_dataset = Covid_Dataset(train_data, train_targets)\n",
    "test_dataset = Covid_Dataset(test_data, test_targets)\n",
    "validation_dataset = Covid_Dataset(validation_data, validation_targets)"
   ]
  },
  {
   "cell_type": "code",
   "execution_count": 19,
   "metadata": {
    "id": "ZnltqtTlLlSP"
   },
   "outputs": [],
   "source": [
    "# Importer DataLoader de torch.utils.data\n",
    "from torch.utils.data import DataLoader"
   ]
  },
  {
   "cell_type": "code",
   "execution_count": 20,
   "metadata": {
    "id": "IIParFTvLn8i"
   },
   "outputs": [],
   "source": [
    "# Créer une variable pour la taille du batch\n",
    "batch_size = 64"
   ]
  },
  {
   "cell_type": "code",
   "execution_count": 21,
   "metadata": {
    "id": "NiBGAcYgL5GV"
   },
   "outputs": [],
   "source": [
    "# Créer les objets DataLoader pour vos datasets d'apprentissage, test et validation en lui donner la taille du batch convenue\n",
    "\n",
    "train_DL = DataLoader(train_dataset, batch_size=batch_size)\n",
    "test_DL = DataLoader(test_dataset, batch_size=batch_size)\n",
    "validation_DL = DataLoader(validation_dataset, batch_size=batch_size)\n"
   ]
  },
  {
   "cell_type": "code",
   "execution_count": 22,
   "metadata": {
    "colab": {
     "base_uri": "https://localhost:8080/"
    },
    "id": "wzmpmmyEf_pt",
    "outputId": "e2bc1ab7-c5cb-4836-fcc9-2556fb26445d"
   },
   "outputs": [
    {
     "data": {
      "text/plain": [
       "65"
      ]
     },
     "execution_count": 22,
     "metadata": {},
     "output_type": "execute_result"
    }
   ],
   "source": [
    "len(train_DL)"
   ]
  },
  {
   "cell_type": "code",
   "execution_count": 23,
   "metadata": {
    "id": "7yQIn6kpgGtG"
   },
   "outputs": [],
   "source": [
    "# Importer le module nn\n",
    "import torch.nn as nn"
   ]
  },
  {
   "cell_type": "code",
   "execution_count": 24,
   "metadata": {},
   "outputs": [
    {
     "data": {
      "text/plain": [
       "9065"
      ]
     },
     "execution_count": 24,
     "metadata": {},
     "output_type": "execute_result"
    }
   ],
   "source": [
    "train_data.shape[1]"
   ]
  },
  {
   "cell_type": "code",
   "execution_count": 25,
   "metadata": {
    "id": "ZdLwPkOSj20C"
   },
   "outputs": [],
   "source": [
    "# En utilisant Sequential(), créer un modèle avec l'architecture susmentionnée\n",
    "CovidNN = nn.Sequential(nn.Linear(train_data.shape[1], 64),nn.ReLU(),nn.Linear(64, 2))"
   ]
  },
  {
   "cell_type": "code",
   "execution_count": 26,
   "metadata": {
    "id": "nKcOOgT6mLLV"
   },
   "outputs": [],
   "source": [
    "# Définir la fonction du coût. On peut choisir CrossEntropyLoss\n",
    "loss_function = nn.CrossEntropyLoss()"
   ]
  },
  {
   "cell_type": "code",
   "execution_count": 27,
   "metadata": {
    "id": "2eK8iWgXm1NK"
   },
   "outputs": [],
   "source": [
    "# Définir une fonction d'optimisation des coût: Adam par exemple. On devra définir un learning rate. On choisira 0.001.\n",
    "import torch.optim as optim\n",
    "\n",
    "optimizer = optim.Adam(CovidNN.parameters(), lr=0.0001)"
   ]
  },
  {
   "cell_type": "code",
   "execution_count": 28,
   "metadata": {
    "colab": {
     "base_uri": "https://localhost:8080/",
     "height": 394
    },
    "id": "2NrocaPSpPet",
    "outputId": "8e4cd098-8f2f-418b-d3a6-800b197605d3"
   },
   "outputs": [],
   "source": [
    "#cette fonction permet de faire le training\n",
    "def training(model,train_DL,validation_DL,nb_epochs,optimizer,loss_function):\n",
    "    # Créer une boucle sur les epochs:\n",
    "    for i in range(nb_epochs):\n",
    "        # Spécifier qu'on est sur le mode entraînement\n",
    "        model.train()\n",
    "        # initialiser notre coût d'apprentissage à 0.0\n",
    "        cout_appr = 0\n",
    "        # Boucler sur les minibatchs des données d'entaînement (les données et leurs targets):\n",
    "        for data,targets in train_DL:    \n",
    "            # le vecteur des labels prédites par le modèle est le résultat de l'application du modèle sur le minibatch en cours. \n",
    "            output = model(data.float())\n",
    "            # Calculer le coût en comparant les labels prédits aux targets du minibatch\n",
    "            loss = loss_function(output,targets)\n",
    "            # Backpropagation: \n",
    "            # Réinitialiser l'optimiseur\n",
    "            optimizer.zero_grad()\n",
    "            # Faire la backpropagation\n",
    "            loss.backward()\n",
    "            # Effectuer un pas d'optimisation\n",
    "            optimizer.step()\n",
    "            # Mettre à jour votre coût d'apprentissage en lui ajoutant le coût du data batch\n",
    "            cout_appr += loss.item()\n",
    "        # A la sortie de la boucle de l'entraînement, on calcule le coût moyen pour toutes les données training\n",
    "        cout_moyen = cout_appr/len(train_DL.dataset)\n",
    "        print('Train_Loss:',cout_moyen)\n",
    "        # Initiliser le coût de validation à 0.0\n",
    "        cout_valid = 0\n",
    "        # Initialiser le nombre de prévisions correctes à 0\n",
    "        prevision_correcte = 0\n",
    "        # Spécifier qu'on est sur le mode d'évaluation\n",
    "        model.eval()\n",
    "        # Indiquer à Pytorch qu'on ne va pas faire de Gradient descent (comme on est dans l'évaluation)\n",
    "        with torch.no_grad():\n",
    "            # Boucler sur les minibatchs des données de validation (les données et leurs targets):\n",
    "            for data,targets in validation_DL:  \n",
    "                # le vecteur des labels prédites par le modèle est le résultat de l'application du modèle sur le minibatch en cours. \n",
    "                output = model(data.float())\n",
    "                # Calculer le coût en comparant les labels prédits aux targets du minibatch\n",
    "                loss = loss_function(output,targets)\n",
    "                # Mettre à jour votre coût de validation en lui ajoutant le coût du data batch\n",
    "                cout_valid += loss.item()\n",
    "                # Mettre à jour le nombre de prévision correctes en y ajoutant le nombre des bonnes prévision sur ce batch\n",
    "                # On y compare le label prédit avec le labels du minibatch. \n",
    "                # Penser à utiliser argmax pour avoir la prévision finale à partir du vecteur de prévision\n",
    "                #prevision_correcte += len(output[output == targets])\n",
    "                prevision_correcte += torch.sum((torch.argmax(output, dim=1) == targets)).item()\n",
    "            # A la sortie de cette boucle, calculer le coût moyen de validation\n",
    "            cout_valid_moyenne = cout_valid/len(validation_DL.dataset)\n",
    "            print('Valid_Loss:',cout_valid_moyenne)\n",
    "            # Calculer la précision: la moyenne des prévisions correctes sur l'ensemble des observations dans le dataset validation \n",
    "            prevision_correcte_moyenne = prevision_correcte/len(validation_DL.dataset)\n",
    "            print('Accuracy:',prevision_correcte_moyenne*100,'%\\n')\n",
    "            \n",
    "        # Afficher pour chaque itération le coût d'entraînement, le coût de validation, et la précision.\n",
    "\n"
   ]
  },
  {
   "cell_type": "code",
   "execution_count": 31,
   "metadata": {},
   "outputs": [],
   "source": [
    "#reinstialiser le model\n",
    "for layer in CovidNN.children():\n",
    "    if hasattr(layer, 'reset_parameters'):\n",
    "        layer.reset_parameters()"
   ]
  },
  {
   "cell_type": "code",
   "execution_count": 32,
   "metadata": {},
   "outputs": [
    {
     "name": "stdout",
     "output_type": "stream",
     "text": [
      "Train_Loss: 0.01091643980554732\n",
      "Valid_Loss: 0.010990489780902862\n",
      "Accuracy: 49.8 %\n",
      "\n",
      "Train_Loss: 0.010684486327249722\n",
      "Valid_Loss: 0.010682378947734833\n",
      "Accuracy: 76.8 %\n",
      "\n",
      "Train_Loss: 0.01027294011999145\n",
      "Valid_Loss: 0.010245365023612975\n",
      "Accuracy: 89.5 %\n",
      "\n",
      "Train_Loss: 0.009747811540874798\n",
      "Valid_Loss: 0.009735360324382781\n",
      "Accuracy: 91.10000000000001 %\n",
      "\n",
      "Train_Loss: 0.009153237497898781\n",
      "Valid_Loss: 0.009181139767169952\n",
      "Accuracy: 91.4 %\n",
      "\n",
      "Train_Loss: 0.008523816498612528\n",
      "Valid_Loss: 0.008613723814487457\n",
      "Accuracy: 91.60000000000001 %\n",
      "\n",
      "Train_Loss: 0.007889681306579358\n",
      "Valid_Loss: 0.008055426090955733\n",
      "Accuracy: 91.7 %\n",
      "\n",
      "Train_Loss: 0.007272684013532255\n",
      "Valid_Loss: 0.007522849678993225\n",
      "Accuracy: 91.7 %\n",
      "\n",
      "Train_Loss: 0.006688509676857659\n",
      "Valid_Loss: 0.007027397215366363\n",
      "Accuracy: 91.8 %\n",
      "\n"
     ]
    }
   ],
   "source": [
    "#tester la fonction training avec un nombre d'epochs 9\n",
    "training(CovidNN,train_DL,validation_DL,9,optimizer,loss_function)"
   ]
  },
  {
   "cell_type": "code",
   "execution_count": 33,
   "metadata": {},
   "outputs": [],
   "source": [
    "#fonction qui permet de test le model\n",
    "def testModel(model,test_DL,loss_function):\n",
    "    # Initiliser le coût de test à 0.0\n",
    "    cout_test = 0\n",
    "    # Initialiser le nombre de prévisions correctes à 0\n",
    "    prevision_correcte = 0\n",
    "    with torch.no_grad():\n",
    "        # Boucler sur les minibatchs des données de test (les données et leurs targets):\n",
    "        for data,targets in test_DL:  \n",
    "            # le vecteur des labels prédites par le modèle est le résultat de l'application du modèle sur le minibatch en cours. \n",
    "            output = model(data.float())\n",
    "            # Calculer le coût en comparant les labels prédits aux targets du minibatch\n",
    "            loss = loss_function(output,targets)\n",
    "            # Mettre à jour votre coût de test en lui ajoutant le coût du data batch\n",
    "            cout_test += loss.item()\n",
    "            # Mettre à jour le nombre de prévision correctes en y ajoutant le nombre des bonnes prévision sur ce batch\n",
    "            # On y compare le label prédit avec le labels du minibatch. \n",
    "            # Penser à utiliser argmax pour avoir la prévision finale à partir du vecteur de prévision\n",
    "            #prevision_correcte += len(output[output == targets])\n",
    "            prevision_correcte += torch.sum((torch.argmax(output, dim=1) == targets)).item()\n",
    "        # A la sortie de cette boucle, calculer le coût moyen de test\n",
    "        cout_test_moyenne = cout_test/len(test_DL.dataset)\n",
    "\n",
    "        # Calculer la précision: la moyenne des prévisions correctes sur l'ensemble des observations dans le dataset test \n",
    "        prevision_correcte_moyenne = prevision_correcte/len(test_DL.dataset)\n",
    "        print(\"Testing results :\\nLoss : \",cout_test_moyenne,\"\\nAccuracy : \",prevision_correcte_moyenne*100,\"%\\n\")\n",
    "        \n",
    "        return cout_test_moyenne,prevision_correcte_moyenne"
   ]
  },
  {
   "cell_type": "code",
   "execution_count": 34,
   "metadata": {},
   "outputs": [
    {
     "name": "stdout",
     "output_type": "stream",
     "text": [
      "Testing results :\n",
      "Loss :  0.007512089828278788 \n",
      "Accuracy :  89.56386292834891 %\n",
      "\n"
     ]
    },
    {
     "data": {
      "text/plain": [
       "(0.007512089828278788, 0.8956386292834891)"
      ]
     },
     "execution_count": 34,
     "metadata": {},
     "output_type": "execute_result"
    }
   ],
   "source": [
    "testModel(CovidNN,test_DL,loss_function)"
   ]
  },
  {
   "cell_type": "code",
   "execution_count": 66,
   "metadata": {},
   "outputs": [],
   "source": [
    "#fonction qui permet de creer un model et faire le test avec differents hyperparametres en entré et retroune le model + les columns qui ont été supprimer\n",
    "#du dataFrame avant d'entamer la phase d'apprentissage\n",
    "def createModel(dataDF,targets,batch_size,neuronesNb,learning_rate,epochs,activationFunction,seuil1=0,seuil2=0):\n",
    "    \n",
    "    newDF,columnsToDrop = redDim(dataDF,seuil1,seuil2)\n",
    "    data=torch.tensor(newDF.to_numpy())\n",
    "\n",
    "\n",
    "    # Créer 4 tensors en résultat du splitting: données d'apprentissage, données de test, labels d'apprentissage, et labels de test  \n",
    "    atrain_data, test_data, atrain_targets, test_targets = train_test_split(data, targets, test_size=0.3)\n",
    "\n",
    "    # Créer 4 tensors en résultat du splitting: données d'apprentissage, données de validation, labels d'apprentissage, et labels de validation  \n",
    "    train_data, validation_data, train_targets, validation_targets = train_test_split(atrain_data, atrain_targets, test_size=700)\n",
    "\n",
    "    # Créer les 3 objets en instantiant votre classe\n",
    "    train_dataset = Covid_Dataset(train_data, train_targets)\n",
    "    test_dataset = Covid_Dataset(test_data, test_targets)\n",
    "    validation_dataset = Covid_Dataset(validation_data, validation_targets)\n",
    "\n",
    "\n",
    "    # Créer les objets DataLoader pour vos datasets d'apprentissage, test et validation en lui donner la taille du batch convenue\n",
    "\n",
    "    train_DL = DataLoader(train_dataset, batch_size=batch_size)\n",
    "    test_DL = DataLoader(test_dataset, batch_size=batch_size)\n",
    "    validation_DL = DataLoader(validation_dataset, batch_size=batch_size)\n",
    "\n",
    "    # En utilisant Sequential(), créer un modèle avec l'architecture susmentionnée\n",
    "    CovidNN = nn.Sequential(nn.Linear(train_data.shape[1], neuronesNb),activationFunction,nn.Linear(neuronesNb, 2))\n",
    "    \n",
    "    #move model to cuda\n",
    "    #CovidNN.cuda()\n",
    "    # Définir la fonction du coût. On peut choisir CrossEntropyLoss\n",
    "    loss_function = nn.CrossEntropyLoss()\n",
    "\n",
    "    optimizer = optim.Adam(CovidNN.parameters(), lr=learning_rate)\n",
    "    \n",
    "\n",
    "    for layer in CovidNN.children():\n",
    "        if hasattr(layer, 'reset_parameters'):\n",
    "            layer.reset_parameters()\n",
    "\n",
    "    training(CovidNN,train_DL,validation_DL,epochs,optimizer,loss_function)\n",
    "\n",
    "    loss,accuracy = testModel(CovidNN,test_DL,loss_function)\n",
    "    \n",
    "    return CovidNN,columnsToDrop,loss,accuracy"
   ]
  },
  {
   "cell_type": "markdown",
   "metadata": {},
   "source": [
    "**Let's make some models**"
   ]
  },
  {
   "cell_type": "markdown",
   "metadata": {},
   "source": [
    "Le prototype de la fonction est le suivant :\n",
    "```createModel(dataDF,targets,batch_size,neuronesNb,learning_rate,epochs,activationFunction,seuil1=0,seuil2=0)```"
   ]
  },
  {
   "cell_type": "code",
   "execution_count": 203,
   "metadata": {},
   "outputs": [
    {
     "name": "stdout",
     "output_type": "stream",
     "text": [
      "Train_Loss: 0.010967445580910304\n",
      "Valid_Loss: 0.010883181606020247\n",
      "Accuracy: 44.57142857142857 %\n",
      "\n",
      "Train_Loss: 0.010776439370390108\n",
      "Valid_Loss: 0.010612174357686724\n",
      "Accuracy: 63.857142857142854 %\n",
      "\n",
      "Train_Loss: 0.010439056280605655\n",
      "Valid_Loss: 0.010232124413762774\n",
      "Accuracy: 84.28571428571429 %\n",
      "\n",
      "Train_Loss: 0.009990298345834252\n",
      "Valid_Loss: 0.009780841044017247\n",
      "Accuracy: 88.85714285714286 %\n",
      "\n",
      "Train_Loss: 0.009471486493921556\n",
      "Valid_Loss: 0.009287793721471514\n",
      "Accuracy: 90.71428571428571 %\n",
      "\n",
      "Train_Loss: 0.008910505801172211\n",
      "Valid_Loss: 0.008774340067590985\n",
      "Accuracy: 91.28571428571428 %\n",
      "\n",
      "Train_Loss: 0.008330139192582181\n",
      "Valid_Loss: 0.008259796925953456\n",
      "Accuracy: 91.42857142857143 %\n",
      "\n",
      "Train_Loss: 0.007750681028531989\n",
      "Valid_Loss: 0.007760056895869119\n",
      "Accuracy: 91.42857142857143 %\n",
      "\n",
      "Testing results :\n",
      "Loss :  0.00810621417323872 \n",
      "Accuracy :  89.92731048805815 %\n",
      "\n"
     ]
    }
   ],
   "source": [
    "#Pour le learning rate lr = 0.0001\n",
    "model1 = createModel(newDF,targets,64,64,0.0001,8,nn.ReLU())"
   ]
  },
  {
   "cell_type": "markdown",
   "metadata": {},
   "source": [
    "Le model 1 est plus au moins bon"
   ]
  },
  {
   "cell_type": "code",
   "execution_count": 204,
   "metadata": {},
   "outputs": [
    {
     "name": "stdout",
     "output_type": "stream",
     "text": [
      "Train_Loss: 0.010785934072956012\n",
      "Valid_Loss: 0.010328278115817479\n",
      "Accuracy: 84.14285714285714 %\n",
      "\n",
      "Train_Loss: 0.009709479121327337\n",
      "Valid_Loss: 0.00909774465220315\n",
      "Accuracy: 90.42857142857143 %\n",
      "\n",
      "Train_Loss: 0.008073646306174645\n",
      "Valid_Loss: 0.007653374671936036\n",
      "Accuracy: 90.57142857142857 %\n",
      "\n",
      "Train_Loss: 0.006412433113747669\n",
      "Valid_Loss: 0.006393137872219085\n",
      "Accuracy: 90.85714285714286 %\n",
      "\n",
      "Train_Loss: 0.005056143938144006\n",
      "Valid_Loss: 0.005460210016795567\n",
      "Accuracy: 90.85714285714286 %\n",
      "\n",
      "Train_Loss: 0.004052250104542463\n",
      "Valid_Loss: 0.004812441383089338\n",
      "Accuracy: 91.0 %\n",
      "\n",
      "Train_Loss: 0.003321837596536374\n",
      "Valid_Loss: 0.004364733844995499\n",
      "Accuracy: 91.57142857142857 %\n",
      "\n",
      "Train_Loss: 0.002779282998680503\n",
      "Valid_Loss: 0.004049745521375111\n",
      "Accuracy: 92.14285714285714 %\n",
      "\n",
      "Testing results :\n",
      "Loss :  0.003959898439430373 \n",
      "Accuracy :  91.58878504672897 %\n",
      "\n"
     ]
    }
   ],
   "source": [
    "model2 = createModel(newDF,targets,64,64,0.0003,8,nn.ReLU())"
   ]
  },
  {
   "cell_type": "code",
   "execution_count": 205,
   "metadata": {},
   "outputs": [
    {
     "name": "stdout",
     "output_type": "stream",
     "text": [
      "Train_Loss: 0.010516754736948089\n",
      "Valid_Loss: 0.009666163325309753\n",
      "Accuracy: 84.71428571428572 %\n",
      "\n",
      "Train_Loss: 0.008406974237783369\n",
      "Valid_Loss: 0.00723417009626116\n",
      "Accuracy: 92.14285714285714 %\n",
      "\n",
      "Train_Loss: 0.005786157402165261\n",
      "Valid_Loss: 0.005299603981631143\n",
      "Accuracy: 92.42857142857143 %\n",
      "\n",
      "Train_Loss: 0.0039709765006506765\n",
      "Valid_Loss: 0.004249074139765331\n",
      "Accuracy: 93.14285714285714 %\n",
      "\n",
      "Train_Loss: 0.0028913530511766846\n",
      "Valid_Loss: 0.0037014818404402052\n",
      "Accuracy: 93.0 %\n",
      "\n",
      "Train_Loss: 0.0022104247249800342\n",
      "Valid_Loss: 0.0033994396456650325\n",
      "Accuracy: 93.14285714285714 %\n",
      "\n",
      "Train_Loss: 0.0017449702865271802\n",
      "Valid_Loss: 0.0032247290653841837\n",
      "Accuracy: 93.14285714285714 %\n",
      "\n",
      "Train_Loss: 0.0014082785012395872\n",
      "Valid_Loss: 0.0031227409413882665\n",
      "Accuracy: 92.85714285714286 %\n",
      "\n",
      "Testing results :\n",
      "Loss :  0.0031858651743097346 \n",
      "Accuracy :  92.5233644859813 %\n",
      "\n"
     ]
    }
   ],
   "source": [
    "#pour un lr = 0.0005\n",
    "model3 = createModel(newDF,targets,64,64,0.0005,8,nn.ReLU())"
   ]
  },
  {
   "cell_type": "markdown",
   "metadata": {},
   "source": [
    "On est tombé sur l'overfitting il faut diminuer le nombre d'epochs "
   ]
  },
  {
   "cell_type": "code",
   "execution_count": 206,
   "metadata": {},
   "outputs": [
    {
     "name": "stdout",
     "output_type": "stream",
     "text": [
      "Train_Loss: 0.010497487354856701\n",
      "Valid_Loss: 0.0097938414982387\n",
      "Accuracy: 67.57142857142857 %\n",
      "\n",
      "Train_Loss: 0.00837560945362811\n",
      "Valid_Loss: 0.007524925768375396\n",
      "Accuracy: 88.28571428571429 %\n",
      "\n",
      "Train_Loss: 0.0057639340994291455\n",
      "Valid_Loss: 0.005719107048852103\n",
      "Accuracy: 89.57142857142857 %\n",
      "\n",
      "Train_Loss: 0.003956216327064466\n",
      "Valid_Loss: 0.004727859646081924\n",
      "Accuracy: 90.28571428571428 %\n",
      "\n",
      "Train_Loss: 0.002882125707412935\n",
      "Valid_Loss: 0.0042015449064118525\n",
      "Accuracy: 90.42857142857143 %\n",
      "\n",
      "Testing results :\n",
      "Loss :  0.004027503595792864 \n",
      "Accuracy :  91.74454828660437 %\n",
      "\n"
     ]
    }
   ],
   "source": [
    "model4 = createModel(newDF,targets,64,64,0.0005,5,nn.ReLU())"
   ]
  },
  {
   "cell_type": "code",
   "execution_count": 207,
   "metadata": {},
   "outputs": [
    {
     "name": "stdout",
     "output_type": "stream",
     "text": [
      "Train_Loss: 0.009828901221768506\n",
      "Valid_Loss: 0.007668731808662415\n",
      "Accuracy: 92.14285714285714 %\n",
      "\n",
      "Train_Loss: 0.005455136142030916\n",
      "Valid_Loss: 0.004224628337791988\n",
      "Accuracy: 92.42857142857143 %\n",
      "\n",
      "Train_Loss: 0.0028274276332598833\n",
      "Valid_Loss: 0.003107279645545142\n",
      "Accuracy: 93.28571428571428 %\n",
      "\n",
      "Train_Loss: 0.001745155123374182\n",
      "Valid_Loss: 0.002687812564628465\n",
      "Accuracy: 93.85714285714286 %\n",
      "\n",
      "Testing results :\n",
      "Loss :  0.003352198119227884 \n",
      "Accuracy :  92.78296988577362 %\n",
      "\n"
     ]
    }
   ],
   "source": [
    "model4_2 = createModel(newDF,targets,64,64,0.001,4,nn.ReLU())"
   ]
  },
  {
   "cell_type": "markdown",
   "metadata": {},
   "source": [
    "Un modèle mieux du premier model"
   ]
  },
  {
   "cell_type": "code",
   "execution_count": 208,
   "metadata": {},
   "outputs": [
    {
     "name": "stdout",
     "output_type": "stream",
     "text": [
      "Train_Loss: 0.00980691469589157\n",
      "Valid_Loss: 0.007838329119341713\n",
      "Accuracy: 89.0 %\n",
      "\n",
      "Train_Loss: 0.005624869519242752\n",
      "Valid_Loss: 0.004671305077416556\n",
      "Accuracy: 89.0 %\n",
      "\n",
      "Train_Loss: 0.003094330818859225\n",
      "Valid_Loss: 0.0036340646871498654\n",
      "Accuracy: 90.57142857142857 %\n",
      "\n",
      "Train_Loss: 0.002045567815609838\n",
      "Valid_Loss: 0.0032436626510960716\n",
      "Accuracy: 91.57142857142857 %\n",
      "\n",
      "Testing results :\n",
      "Loss :  0.00305951849159979 \n",
      "Accuracy :  93.04257528556595 %\n",
      "\n"
     ]
    }
   ],
   "source": [
    "#tester avec seuil 1\n",
    "model5 = createModel(newDF,targets,64,64,0.001,4,nn.ReLU(),seuil1=1,seuil2=1)"
   ]
  },
  {
   "cell_type": "markdown",
   "metadata": {},
   "source": [
    "Le model precedent est mieu de ceci"
   ]
  },
  {
   "cell_type": "code",
   "execution_count": 209,
   "metadata": {
    "scrolled": true
   },
   "outputs": [
    {
     "name": "stdout",
     "output_type": "stream",
     "text": [
      "Train_Loss: 0.00999860359482471\n",
      "Valid_Loss: 0.008314544303076607\n",
      "Accuracy: 87.28571428571429 %\n",
      "\n",
      "Train_Loss: 0.005924440284088278\n",
      "Valid_Loss: 0.0049507341640336175\n",
      "Accuracy: 90.0 %\n",
      "\n",
      "Train_Loss: 0.003312550701149904\n",
      "Valid_Loss: 0.0038105356054646627\n",
      "Accuracy: 90.57142857142857 %\n",
      "\n",
      "Train_Loss: 0.0022284222200206535\n",
      "Valid_Loss: 0.003411377604518618\n",
      "Accuracy: 90.71428571428571 %\n",
      "\n",
      "Testing results :\n",
      "Loss :  0.0031782921968436066 \n",
      "Accuracy :  92.1079958463136 %\n",
      "\n"
     ]
    }
   ],
   "source": [
    "#on ajoute des seuils pour diminuer le nombre de features\n",
    "model6 = createModel(newDF,targets,64,64,0.001,4,nn.ReLU(),seuil1=2,seuil2=2)"
   ]
  },
  {
   "cell_type": "code",
   "execution_count": 210,
   "metadata": {},
   "outputs": [
    {
     "name": "stdout",
     "output_type": "stream",
     "text": [
      "Train_Loss: 0.009866667056184225\n",
      "Valid_Loss: 0.007875155934265682\n",
      "Accuracy: 91.14285714285715 %\n",
      "\n",
      "Train_Loss: 0.005888953259039001\n",
      "Valid_Loss: 0.004670231470039913\n",
      "Accuracy: 91.0 %\n",
      "\n",
      "Train_Loss: 0.003541246959895414\n",
      "Valid_Loss: 0.0036589468376977104\n",
      "Accuracy: 91.28571428571428 %\n",
      "\n",
      "Train_Loss: 0.002579585487552235\n",
      "Valid_Loss: 0.0033083916774817876\n",
      "Accuracy: 92.42857142857143 %\n",
      "\n",
      "Testing results :\n",
      "Loss :  0.003324758978067343 \n",
      "Accuracy :  91.74454828660437 %\n",
      "\n"
     ]
    }
   ],
   "source": [
    "#augmenter les seuils\n",
    "model7 = createModel(newDF,targets,64,64,0.001,4,nn.ReLU(),seuil1=5,seuil2=5)"
   ]
  },
  {
   "cell_type": "markdown",
   "metadata": {},
   "source": [
    "On peut conclure que c'est mieux de ne pas inclure les seuils"
   ]
  },
  {
   "cell_type": "code",
   "execution_count": 229,
   "metadata": {},
   "outputs": [
    {
     "name": "stdout",
     "output_type": "stream",
     "text": [
      "Train_Loss: 0.005093567501449183\n",
      "Valid_Loss: 0.0048268427167619974\n",
      "Accuracy: 87.71428571428571 %\n",
      "\n",
      "Train_Loss: 0.0034439740648505935\n",
      "Valid_Loss: 0.0031599090780530656\n",
      "Accuracy: 89.14285714285714 %\n",
      "\n",
      "Train_Loss: 0.0019417563723336411\n",
      "Valid_Loss: 0.002330020900283541\n",
      "Accuracy: 89.42857142857143 %\n",
      "\n",
      "Train_Loss: 0.00122196484959999\n",
      "Valid_Loss: 0.002037140407732555\n",
      "Accuracy: 90.28571428571428 %\n",
      "\n",
      "Testing results :\n",
      "Loss :  0.001788954195389495 \n",
      "Accuracy :  92.57528556593977 %\n",
      "\n"
     ]
    }
   ],
   "source": [
    "#augmenter le batch size\n",
    "model8 = createModel(newDF,targets,128,128,0.001,4,nn.ReLU(),seuil1=1,seuil2=1)"
   ]
  },
  {
   "cell_type": "code",
   "execution_count": 230,
   "metadata": {},
   "outputs": [
    {
     "name": "stdout",
     "output_type": "stream",
     "text": [
      "Train_Loss: 0.0026284486573812014\n",
      "Valid_Loss: 0.0026300292355673654\n",
      "Accuracy: 79.14285714285715 %\n",
      "\n",
      "Train_Loss: 0.0021160493870440067\n",
      "Valid_Loss: 0.001997732605252947\n",
      "Accuracy: 88.57142857142857 %\n",
      "\n",
      "Train_Loss: 0.001424080425648546\n",
      "Valid_Loss: 0.0014165828483445305\n",
      "Accuracy: 90.57142857142857 %\n",
      "\n",
      "Train_Loss: 0.0009009743410785636\n",
      "Valid_Loss: 0.001086778278861727\n",
      "Accuracy: 90.71428571428571 %\n",
      "\n",
      "Testing results :\n",
      "Loss :  0.0010049000599055028 \n",
      "Accuracy :  91.79646936656283 %\n",
      "\n"
     ]
    }
   ],
   "source": [
    "#augmenter le batch size plus\n",
    "model9 = createModel(newDF,targets,256,256,0.001,4,nn.ReLU(),seuil1=1,seuil2=1)"
   ]
  },
  {
   "cell_type": "code",
   "execution_count": 164,
   "metadata": {},
   "outputs": [
    {
     "name": "stdout",
     "output_type": "stream",
     "text": [
      "Train_Loss: 0.011023066973271468\n",
      "Valid_Loss: 0.010832649724824088\n",
      "Accuracy: 52.42857142857142 %\n",
      "\n",
      "Train_Loss: 0.010866331234063735\n",
      "Valid_Loss: 0.010758639659200396\n",
      "Accuracy: 52.42857142857142 %\n",
      "\n",
      "Train_Loss: 0.01079126661491193\n",
      "Valid_Loss: 0.010699083123888288\n",
      "Accuracy: 52.42857142857142 %\n",
      "\n",
      "Train_Loss: 0.010722575011100025\n",
      "Valid_Loss: 0.010639277526310512\n",
      "Accuracy: 52.42857142857142 %\n",
      "\n",
      "Train_Loss: 0.010653544348921346\n",
      "Valid_Loss: 0.010578550355775016\n",
      "Accuracy: 52.85714285714286 %\n",
      "\n",
      "Train_Loss: 0.010583197577224635\n",
      "Valid_Loss: 0.01051643865449088\n",
      "Accuracy: 55.285714285714285 %\n",
      "\n",
      "Train_Loss: 0.010510951343434827\n",
      "Valid_Loss: 0.010452483807291304\n",
      "Accuracy: 60.0 %\n",
      "\n",
      "Train_Loss: 0.01043629641588198\n",
      "Valid_Loss: 0.010386256149836948\n",
      "Accuracy: 66.28571428571428 %\n",
      "\n",
      "Testing results :\n",
      "Loss :  0.010646163612635089 \n",
      "Accuracy :  63.2398753894081 %\n",
      "\n"
     ]
    }
   ],
   "source": [
    "#Pour le learning rate lr = 0.0001\n",
    "model10 = createModel(newDF,targets,64,64,0.0001,8,nn.Sigmoid())"
   ]
  },
  {
   "cell_type": "markdown",
   "metadata": {},
   "source": [
    "Le model 1 est plus au moins bon"
   ]
  },
  {
   "cell_type": "code",
   "execution_count": 165,
   "metadata": {},
   "outputs": [
    {
     "name": "stdout",
     "output_type": "stream",
     "text": [
      "Train_Loss: 0.010915802146613002\n",
      "Valid_Loss: 0.010718232137816293\n",
      "Accuracy: 56.99999999999999 %\n",
      "\n",
      "Train_Loss: 0.010683304677841596\n",
      "Valid_Loss: 0.010548514127731324\n",
      "Accuracy: 69.85714285714286 %\n",
      "\n",
      "Train_Loss: 0.010474779697613271\n",
      "Valid_Loss: 0.010371654544557844\n",
      "Accuracy: 83.71428571428572 %\n",
      "\n",
      "Train_Loss: 0.010245540202386641\n",
      "Valid_Loss: 0.01017250256878989\n",
      "Accuracy: 89.14285714285714 %\n",
      "\n",
      "Train_Loss: 0.009984793698215836\n",
      "Valid_Loss: 0.009943412116595676\n",
      "Accuracy: 89.85714285714286 %\n",
      "\n",
      "Train_Loss: 0.00968450353405761\n",
      "Valid_Loss: 0.009678817050797598\n",
      "Accuracy: 90.28571428571428 %\n",
      "\n",
      "Train_Loss: 0.009339896986593871\n",
      "Valid_Loss: 0.009376359496797835\n",
      "Accuracy: 90.0 %\n",
      "\n",
      "Train_Loss: 0.008950739784748477\n",
      "Valid_Loss: 0.009037735547338213\n",
      "Accuracy: 90.14285714285715 %\n",
      "\n",
      "Testing results :\n",
      "Loss :  0.009201372957180098 \n",
      "Accuracy :  90.2907580477674 %\n",
      "\n"
     ]
    }
   ],
   "source": [
    "model11 = createModel(newDF,targets,64,64,0.0003,8,nn.Sigmoid())"
   ]
  },
  {
   "cell_type": "code",
   "execution_count": 166,
   "metadata": {},
   "outputs": [
    {
     "name": "stdout",
     "output_type": "stream",
     "text": [
      "Train_Loss: 0.010842776779256246\n",
      "Valid_Loss: 0.010626199926648821\n",
      "Accuracy: 52.85714285714286 %\n",
      "\n",
      "Train_Loss: 0.010558932438359238\n",
      "Valid_Loss: 0.010352012770516532\n",
      "Accuracy: 56.99999999999999 %\n",
      "\n",
      "Train_Loss: 0.01021991117916801\n",
      "Valid_Loss: 0.009996294719832283\n",
      "Accuracy: 73.14285714285714 %\n",
      "\n",
      "Train_Loss: 0.00976691784265485\n",
      "Valid_Loss: 0.009520629644393921\n",
      "Accuracy: 86.14285714285714 %\n",
      "\n",
      "Train_Loss: 0.009168382421819297\n",
      "Valid_Loss: 0.008915234208106994\n",
      "Accuracy: 90.42857142857143 %\n",
      "\n",
      "Train_Loss: 0.008432338653455362\n",
      "Valid_Loss: 0.008213649945599692\n",
      "Accuracy: 91.42857142857143 %\n",
      "\n",
      "Train_Loss: 0.007611876853403444\n",
      "Valid_Loss: 0.007481383255549839\n",
      "Accuracy: 90.28571428571428 %\n",
      "\n",
      "Train_Loss: 0.006782330953578416\n",
      "Valid_Loss: 0.006784783644335611\n",
      "Accuracy: 90.85714285714286 %\n",
      "\n",
      "Testing results :\n",
      "Loss :  0.007072509124271595 \n",
      "Accuracy :  90.96573208722741 %\n",
      "\n"
     ]
    }
   ],
   "source": [
    "#pour un lr = 0.0005\n",
    "model12 = createModel(newDF,targets,64,64,0.0005,8,nn.Sigmoid())"
   ]
  },
  {
   "cell_type": "markdown",
   "metadata": {},
   "source": [
    "On est tombé sur l'overfitting il faut diminuer le nombre d'epochs "
   ]
  },
  {
   "cell_type": "code",
   "execution_count": 167,
   "metadata": {},
   "outputs": [
    {
     "name": "stdout",
     "output_type": "stream",
     "text": [
      "Train_Loss: 0.010880856794876114\n",
      "Valid_Loss: 0.010593617728778294\n",
      "Accuracy: 56.99999999999999 %\n",
      "\n",
      "Train_Loss: 0.010596210163520648\n",
      "Valid_Loss: 0.010339279089655195\n",
      "Accuracy: 59.42857142857143 %\n",
      "\n",
      "Train_Loss: 0.010261078853637341\n",
      "Valid_Loss: 0.010005729453904289\n",
      "Accuracy: 76.85714285714286 %\n",
      "\n",
      "Train_Loss: 0.009797021220342449\n",
      "Valid_Loss: 0.009545646480151585\n",
      "Accuracy: 86.85714285714286 %\n",
      "\n",
      "Train_Loss: 0.009172323806447988\n",
      "Valid_Loss: 0.008950068695204599\n",
      "Accuracy: 89.14285714285714 %\n",
      "\n",
      "Testing results :\n",
      "Loss :  0.009140161524680545 \n",
      "Accuracy :  88.94080996884736 %\n",
      "\n"
     ]
    }
   ],
   "source": [
    "model13 = createModel(newDF,targets,64,64,0.0005,5,nn.Sigmoid())"
   ]
  },
  {
   "cell_type": "markdown",
   "metadata": {},
   "source": [
    "Un modèle mieux du premier model"
   ]
  },
  {
   "cell_type": "code",
   "execution_count": 168,
   "metadata": {},
   "outputs": [
    {
     "name": "stdout",
     "output_type": "stream",
     "text": [
      "Train_Loss: 0.010793614227267774\n",
      "Valid_Loss: 0.010465908476284572\n",
      "Accuracy: 57.99999999999999 %\n",
      "\n",
      "Train_Loss: 0.010201479628894224\n",
      "Valid_Loss: 0.00980945084776197\n",
      "Accuracy: 86.0 %\n",
      "\n",
      "Train_Loss: 0.009174300390101761\n",
      "Valid_Loss: 0.008667353476796832\n",
      "Accuracy: 88.85714285714286 %\n",
      "\n",
      "Train_Loss: 0.007657712353928566\n",
      "Valid_Loss: 0.007269129753112793\n",
      "Accuracy: 88.14285714285714 %\n",
      "\n",
      "Testing results :\n",
      "Loss :  0.007368023738435248 \n",
      "Accuracy :  89.66770508826583 %\n",
      "\n"
     ]
    }
   ],
   "source": [
    "#tester avec seuil 1\n",
    "model14 = createModel(newDF,targets,64,64,0.001,4,nn.Sigmoid(),seuil1=1,seuil2=1)"
   ]
  },
  {
   "cell_type": "markdown",
   "metadata": {},
   "source": [
    "Le model precedent est mieu de ceci"
   ]
  },
  {
   "cell_type": "code",
   "execution_count": 169,
   "metadata": {
    "scrolled": true
   },
   "outputs": [
    {
     "name": "stdout",
     "output_type": "stream",
     "text": [
      "Train_Loss: 0.010828621760128545\n",
      "Valid_Loss: 0.010360557862690517\n",
      "Accuracy: 59.71428571428572 %\n",
      "\n",
      "Train_Loss: 0.010197564967381181\n",
      "Valid_Loss: 0.009708308151790074\n",
      "Accuracy: 85.71428571428571 %\n",
      "\n",
      "Train_Loss: 0.009340574223554065\n",
      "Valid_Loss: 0.008666567036083766\n",
      "Accuracy: 91.71428571428571 %\n",
      "\n",
      "Train_Loss: 0.008084981950195325\n",
      "Valid_Loss: 0.0073388204404285975\n",
      "Accuracy: 91.71428571428571 %\n",
      "\n",
      "Testing results :\n",
      "Loss :  0.007664392082366864 \n",
      "Accuracy :  90.7061266874351 %\n",
      "\n"
     ]
    }
   ],
   "source": [
    "#on ajoute des seuils pour diminuer le nombre de features\n",
    "model15 = createModel(newDF,targets,64,64,0.001,4,nn.Sigmoid(),seuil1=2,seuil2=2)"
   ]
  },
  {
   "cell_type": "code",
   "execution_count": 170,
   "metadata": {},
   "outputs": [
    {
     "name": "stdout",
     "output_type": "stream",
     "text": [
      "Train_Loss: 0.010860347345620629\n",
      "Valid_Loss: 0.010426934787205288\n",
      "Accuracy: 89.28571428571429 %\n",
      "\n",
      "Train_Loss: 0.010208386918024195\n",
      "Valid_Loss: 0.009766039422580175\n",
      "Accuracy: 88.85714285714286 %\n",
      "\n",
      "Train_Loss: 0.009347403904105968\n",
      "Valid_Loss: 0.00870754224913461\n",
      "Accuracy: 89.0 %\n",
      "\n",
      "Train_Loss: 0.008089555986127416\n",
      "Valid_Loss: 0.007376293540000915\n",
      "Accuracy: 89.28571428571429 %\n",
      "\n",
      "Testing results :\n",
      "Loss :  0.007718233629550518 \n",
      "Accuracy :  88.5773624091381 %\n",
      "\n"
     ]
    }
   ],
   "source": [
    "#augmenter les seuils\n",
    "model16 = createModel(newDF,targets,64,64,0.001,4,nn.Sigmoid(),seuil1=5,seuil2=5)"
   ]
  },
  {
   "cell_type": "markdown",
   "metadata": {},
   "source": [
    "On peut conclure que c'est mieux de ne pas inclure les seuils"
   ]
  },
  {
   "cell_type": "code",
   "execution_count": 226,
   "metadata": {},
   "outputs": [
    {
     "name": "stdout",
     "output_type": "stream",
     "text": [
      "Train_Loss: 0.005384472007806765\n",
      "Valid_Loss: 0.005677004797118051\n",
      "Accuracy: 54.85714285714286 %\n",
      "\n",
      "Train_Loss: 0.005096474759630235\n",
      "Valid_Loss: 0.005378427164895194\n",
      "Accuracy: 90.14285714285715 %\n",
      "\n",
      "Train_Loss: 0.004717737263481932\n",
      "Valid_Loss: 0.004933067985943385\n",
      "Accuracy: 90.28571428571428 %\n",
      "\n",
      "Train_Loss: 0.004178533459187308\n",
      "Valid_Loss: 0.0043445298501423426\n",
      "Accuracy: 89.85714285714286 %\n",
      "\n",
      "Testing results :\n",
      "Loss :  0.004237245315703276 \n",
      "Accuracy :  89.82346832814122 %\n",
      "\n"
     ]
    }
   ],
   "source": [
    "#augmenter le batch size\n",
    "model17 = createModel(newDF,targets,128,128,0.001,4,nn.Sigmoid(),seuil1=1,seuil2=1)"
   ]
  },
  {
   "cell_type": "code",
   "execution_count": 227,
   "metadata": {},
   "outputs": [
    {
     "name": "stdout",
     "output_type": "stream",
     "text": [
      "Train_Loss: 0.0027221757201816637\n",
      "Valid_Loss: 0.002995188236236572\n",
      "Accuracy: 49.857142857142854 %\n",
      "\n",
      "Train_Loss: 0.0026331235216238277\n",
      "Valid_Loss: 0.002835767354284014\n",
      "Accuracy: 49.857142857142854 %\n",
      "\n",
      "Train_Loss: 0.0025272256113946217\n",
      "Valid_Loss: 0.0026889318227767945\n",
      "Accuracy: 82.85714285714286 %\n",
      "\n",
      "Train_Loss: 0.0023901379133565337\n",
      "Valid_Loss: 0.0025697905676705496\n",
      "Accuracy: 84.71428571428572 %\n",
      "\n",
      "Testing results :\n",
      "Loss :  0.0024709203285344047 \n",
      "Accuracy :  83.85254413291796 %\n",
      "\n"
     ]
    }
   ],
   "source": [
    "#augmenter le batch size plus\n",
    "model18 = createModel(newDF,targets,256,256,0.001,4,nn.Sigmoid(),seuil1=1,seuil2=1)"
   ]
  },
  {
   "cell_type": "markdown",
   "metadata": {},
   "source": [
    "ReLU marche mieux que sigmoid"
   ]
  },
  {
   "cell_type": "markdown",
   "metadata": {},
   "source": [
    "**Classifie models we created into groups to make charts**"
   ]
  },
  {
   "cell_type": "code",
   "execution_count": 231,
   "metadata": {},
   "outputs": [],
   "source": [
    "reluModels = [model1,model2,model3,model4,model5,model6,model7,model8,model9]"
   ]
  },
  {
   "cell_type": "code",
   "execution_count": 232,
   "metadata": {},
   "outputs": [],
   "source": [
    "sigmoidModels = [model10,model11,model12,model13,model14,model15,model16,model17,model18]"
   ]
  },
  {
   "cell_type": "code",
   "execution_count": 233,
   "metadata": {},
   "outputs": [],
   "source": [
    "thresholdsModels = [model4,model5,model6,model7]"
   ]
  },
  {
   "cell_type": "code",
   "execution_count": 234,
   "metadata": {},
   "outputs": [],
   "source": [
    "batchSize_HiddenNN = [model4,model8,model9]"
   ]
  },
  {
   "cell_type": "code",
   "execution_count": 235,
   "metadata": {},
   "outputs": [],
   "source": [
    "lrModels = [model1,model2,model4,model4_2]"
   ]
  },
  {
   "cell_type": "markdown",
   "metadata": {},
   "source": [
    "**Make Charts**"
   ]
  },
  {
   "cell_type": "code",
   "execution_count": 244,
   "metadata": {},
   "outputs": [
    {
     "data": {
      "image/png": "[encoded data removed]",
      "text/plain": [
       "<Figure size 432x288 with 1 Axes>"
      ]
     },
     "metadata": {
      "needs_background": "light"
     },
     "output_type": "display_data"
    }
   ],
   "source": [
    "# Dataset\n",
    "x = []\n",
    "y = []\n",
    "for i in range(len(reluModels)):\n",
    "    x.append(i+1)\n",
    "    y.append(reluModels[i][3])\n",
    "plt.plot(x, y,label=\"Relu\")\n",
    "\n",
    "x2 = []\n",
    "y2 = []\n",
    "for i in range(len(sigmoidModels)):\n",
    "    x2.append(i+1)\n",
    "    y2.append(sigmoidModels[i][3])\n",
    "plt.plot(x2, y2,label=\"Sigmoid\")\n",
    "\n",
    "plt.title(\"Compare Relu with sigmoid\")\n",
    "plt.xlabel(\"model\")\n",
    "plt.ylabel(\"accuracy\")\n",
    "plt.legend()\n",
    "plt.show()\n"
   ]
  },
  {
   "cell_type": "code",
   "execution_count": 245,
   "metadata": {},
   "outputs": [
    {
     "data": {
      "image/png": "[encoded data removed]",
      "text/plain": [
       "<Figure size 432x288 with 1 Axes>"
      ]
     },
     "metadata": {
      "needs_background": "light"
     },
     "output_type": "display_data"
    }
   ],
   "source": [
    "# Dataset\n",
    "x = []\n",
    "y = []\n",
    "for i in range(len(reluModels)):\n",
    "    x.append(i+1)\n",
    "    y.append(reluModels[i][2])\n",
    "plt.plot(x, y,label=\"Relu\")\n",
    "\n",
    "x2 = []\n",
    "y2 = []\n",
    "for i in range(len(sigmoidModels)):\n",
    "    x2.append(i+1)\n",
    "    y2.append(sigmoidModels[i][2])\n",
    "plt.plot(x2, y2,label=\"Sigmoid\")\n",
    "\n",
    "plt.title(\"Compare Relu with sigmoid\")\n",
    "plt.xlabel(\"model\")\n",
    "plt.ylabel(\"loss\")\n",
    "plt.legend()\n",
    "plt.show()\n"
   ]
  },
  {
   "cell_type": "code",
   "execution_count": 238,
   "metadata": {},
   "outputs": [
    {
     "data": {
      "image/png": "[encoded data removed]",
      "text/plain": [
       "<Figure size 432x288 with 1 Axes>"
      ]
     },
     "metadata": {
      "needs_background": "light"
     },
     "output_type": "display_data"
    }
   ],
   "source": [
    "# Dataset\n",
    "x = [0,1,2,5]\n",
    "y = []\n",
    "for model in thresholdsModels:\n",
    "    y.append(model[3])\n",
    "plt.plot(x, y,label=\"Relu\")\n",
    "\n",
    "\n",
    "plt.title(\"Compare thresholds\")\n",
    "plt.xlabel(\"threshold\")\n",
    "plt.ylabel(\"accuracy\")\n",
    "plt.show()"
   ]
  },
  {
   "cell_type": "code",
   "execution_count": 239,
   "metadata": {},
   "outputs": [
    {
     "data": {
      "image/png": "[encoded data removed]",
      "text/plain": [
       "<Figure size 432x288 with 1 Axes>"
      ]
     },
     "metadata": {
      "needs_background": "light"
     },
     "output_type": "display_data"
    }
   ],
   "source": [
    "# Dataset\n",
    "x = [0,1,2,5]\n",
    "y = []\n",
    "for model in thresholdsModels:\n",
    "    y.append(model[2])\n",
    "plt.plot(x, y,label=\"Relu\")\n",
    "\n",
    "\n",
    "plt.title(\"Compare thresholds\")\n",
    "plt.xlabel(\"thresholds\")\n",
    "plt.ylabel(\"loss\")\n",
    "plt.show()"
   ]
  },
  {
   "cell_type": "code",
   "execution_count": 240,
   "metadata": {},
   "outputs": [
    {
     "data": {
      "image/png": "[encoded data removed]",
      "text/plain": [
       "<Figure size 432x288 with 1 Axes>"
      ]
     },
     "metadata": {
      "needs_background": "light"
     },
     "output_type": "display_data"
    }
   ],
   "source": [
    "# Dataset\n",
    "x = [64,128,256]\n",
    "y = []\n",
    "for model in batchSize_HiddenNN:\n",
    "    y.append(model[2])\n",
    "plt.plot(x, y,label=\"Relu\")\n",
    "\n",
    "\n",
    "plt.title(\"Compare batch_sizes \")\n",
    "plt.xlabel(\"batch size\")\n",
    "plt.ylabel(\"loss\")\n",
    "plt.show()"
   ]
  },
  {
   "cell_type": "code",
   "execution_count": 241,
   "metadata": {},
   "outputs": [
    {
     "data": {
      "image/png": "[encoded data removed]",
      "text/plain": [
       "<Figure size 432x288 with 1 Axes>"
      ]
     },
     "metadata": {
      "needs_background": "light"
     },
     "output_type": "display_data"
    }
   ],
   "source": [
    "# Dataset\n",
    "x = [64,128,256]\n",
    "y = []\n",
    "for model in batchSize_HiddenNN:\n",
    "    y.append(model[3])\n",
    "plt.plot(x, y,label=\"Relu\")\n",
    "\n",
    "\n",
    "plt.title(\"Compare batch_sizes \")\n",
    "plt.xlabel(\"batch size\")\n",
    "plt.ylabel(\"accuracy\")\n",
    "plt.show()"
   ]
  },
  {
   "cell_type": "code",
   "execution_count": 242,
   "metadata": {},
   "outputs": [
    {
     "data": {
      "image/png": "[encoded data removed]",
      "text/plain": [
       "<Figure size 432x288 with 1 Axes>"
      ]
     },
     "metadata": {
      "needs_background": "light"
     },
     "output_type": "display_data"
    }
   ],
   "source": [
    "# Dataset\n",
    "x = [0.0001,0.0003,0.0005,0.001]\n",
    "y = []\n",
    "for model in lrModels:\n",
    "    y.append(model[2])\n",
    "plt.plot(x, y,label=\"Relu\")\n",
    "\n",
    "\n",
    "plt.title(\"Compare Learning rates\")\n",
    "plt.xlabel(\"Learning rate\")\n",
    "plt.ylabel(\"loss\")\n",
    "plt.show()"
   ]
  },
  {
   "cell_type": "code",
   "execution_count": 243,
   "metadata": {},
   "outputs": [
    {
     "data": {
      "image/png": "[encoded data removed]",
      "text/plain": [
       "<Figure size 432x288 with 1 Axes>"
      ]
     },
     "metadata": {
      "needs_background": "light"
     },
     "output_type": "display_data"
    }
   ],
   "source": [
    "# Dataset\n",
    "x = [0.0001,0.0003,0.0005,0.001]\n",
    "y = []\n",
    "for model in lrModels:\n",
    "    y.append(model[3])\n",
    "plt.plot(x, y,label=\"Relu\")\n",
    "\n",
    "\n",
    "plt.title(\"Compare Learning rates\")\n",
    "plt.xlabel(\"Learning rate\")\n",
    "plt.ylabel(\"accuracy\")\n",
    "plt.show()"
   ]
  },
  {
   "cell_type": "markdown",
   "metadata": {},
   "source": [
    "**Sauvegarder tous les modèles sous fichier pkl**"
   ]
  },
  {
   "cell_type": "code",
   "execution_count": 247,
   "metadata": {},
   "outputs": [
    {
     "data": {
      "text/plain": [
       "(Sequential(\n",
       "   (0): Linear(in_features=9065, out_features=64, bias=True)\n",
       "   (1): ReLU()\n",
       "   (2): Linear(in_features=64, out_features=2, bias=True)\n",
       " ),\n",
       " Index([], dtype='object'),\n",
       " 0.00810621417323872,\n",
       " 0.8992731048805815)"
      ]
     },
     "execution_count": 247,
     "metadata": {},
     "output_type": "execute_result"
    }
   ],
   "source": [
    "globals()['model1']"
   ]
  },
  {
   "cell_type": "code",
   "execution_count": 258,
   "metadata": {},
   "outputs": [],
   "source": [
    "for i in range(1,19):\n",
    "    i = str(i)\n",
    "    torch.save(globals()['model'+i][0],\"../models/model\"+i+\"/model\"+i+\".pkl\")\n",
    "    pickle.dump(globals()['model'+i][1], open(\"../models/model\"+i+\"/columns\"+i+\".pkl\", \"wb\"))"
   ]
  },
  {
   "cell_type": "code",
   "execution_count": 252,
   "metadata": {},
   "outputs": [
    {
     "data": {
      "text/plain": [
       "'../models/model1/model1.pkl'"
      ]
     },
     "execution_count": 252,
     "metadata": {},
     "output_type": "execute_result"
    }
   ],
   "source": [
    "i = 1\n",
    "\"../models/model\"+str(i)+\"/model\"+str(i)+\".pkl\""
   ]
  },
  {
   "cell_type": "code",
   "execution_count": null,
   "metadata": {},
   "outputs": [],
   "source": []
  }
 ],
 "metadata": {
  "colab": {
   "name": "NN_MODEL.ipynb",
   "provenance": []
  },
  "kernelspec": {
   "display_name": "Python 3 (ipykernel)",
   "language": "python",
   "name": "python3"
  },
  "language_info": {
   "codemirror_mode": {
    "name": "ipython",
    "version": 3
   },
   "file_extension": ".py",
   "mimetype": "text/x-python",
   "name": "python",
   "nbconvert_exporter": "python",
   "pygments_lexer": "ipython3",
   "version": "3.9.7"
  }
 },
 "nbformat": 4,
 "nbformat_minor": 1
}
