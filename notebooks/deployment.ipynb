{
 "cells": [
  {
   "cell_type": "code",
   "execution_count": 13,
   "id": "952a4645",
   "metadata": {},
   "outputs": [],
   "source": [
    "import sys\n",
    "  \n",
    "# adding pyFiles to the system path\n",
    "sys.path.insert(0, '../pyFiles')"
   ]
  },
  {
   "cell_type": "code",
   "execution_count": 14,
   "id": "77f8a5fe",
   "metadata": {},
   "outputs": [],
   "source": [
    "import torch\n",
    "import OurFunctions as F"
   ]
  },
  {
   "cell_type": "code",
   "execution_count": 15,
   "id": "a72bbdfc",
   "metadata": {},
   "outputs": [],
   "source": [
    "tfidf = pickle.load(open(\"../models/tfidf.pkl\",'rb'))"
   ]
  },
  {
   "cell_type": "code",
   "execution_count": 16,
   "id": "13b2d971",
   "metadata": {},
   "outputs": [],
   "source": [
    "CovidModel = torch.load('../models/model18/model18.pkl')"
   ]
  },
  {
   "cell_type": "code",
   "execution_count": 17,
   "id": "3e690d31",
   "metadata": {},
   "outputs": [],
   "source": [
    "columnsToDrop = pickle.load(open(\"../models/model18/columns18.pkl\",'rb'))"
   ]
  },
  {
   "cell_type": "code",
   "execution_count": 18,
   "id": "274d2a0b",
   "metadata": {},
   "outputs": [
    {
     "name": "stdout",
     "output_type": "stream",
     "text": [
      "Past tweet :We launched the #COVID19 Solidarity Response Fund which has so far mobilized $225+M from more than 563000 individuals companies &amp; philanthropies. In addition we mobilized $1+ billion from Member States &amp; other generous to support countries-@DrTedros https://t.co/xgPkPdvn0r\n"
     ]
    }
   ],
   "source": [
    "text = input('Past tweet :')"
   ]
  },
  {
   "cell_type": "code",
   "execution_count": 19,
   "id": "f4eb2777",
   "metadata": {},
   "outputs": [],
   "source": [
    "data = F.transformInput(text,tfidf,columnsToDrop)"
   ]
  },
  {
   "cell_type": "code",
   "execution_count": 20,
   "id": "d7b2495b",
   "metadata": {},
   "outputs": [
    {
     "data": {
      "text/plain": [
       "tensor([[0., 0., 0.,  ..., 0., 0., 0.]], dtype=torch.float64)"
      ]
     },
     "execution_count": 20,
     "metadata": {},
     "output_type": "execute_result"
    }
   ],
   "source": [
    "data"
   ]
  },
  {
   "cell_type": "code",
   "execution_count": 21,
   "id": "3e6da3ca",
   "metadata": {},
   "outputs": [],
   "source": [
    "output = CovidModel(data.float())"
   ]
  },
  {
   "cell_type": "code",
   "execution_count": 22,
   "id": "835b3d7e",
   "metadata": {},
   "outputs": [
    {
     "data": {
      "text/plain": [
       "tensor(1)"
      ]
     },
     "execution_count": 22,
     "metadata": {},
     "output_type": "execute_result"
    }
   ],
   "source": [
    "torch.argmax(output)"
   ]
  }
 ],
 "metadata": {
  "kernelspec": {
   "display_name": "Python 3 (ipykernel)",
   "language": "python",
   "name": "python3"
  },
  "language_info": {
   "codemirror_mode": {
    "name": "ipython",
    "version": 3
   },
   "file_extension": ".py",
   "mimetype": "text/x-python",
   "name": "python",
   "nbconvert_exporter": "python",
   "pygments_lexer": "ipython3",
   "version": "3.9.7"
  }
 },
 "nbformat": 4,
 "nbformat_minor": 5
}
