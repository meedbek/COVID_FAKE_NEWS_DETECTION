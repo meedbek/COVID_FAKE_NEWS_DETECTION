{
 "cells": [
  {
   "cell_type": "code",
   "execution_count": 126,
   "id": "77f8a5fe",
   "metadata": {},
   "outputs": [],
   "source": [
    "import OurFunctions as F\n",
    "import pickle\n",
    "import numpy as np\n",
    "import torch\n",
    "from torch.utils.data import Dataset\n",
    "from torch.utils.data import DataLoader"
   ]
  },
  {
   "cell_type": "code",
   "execution_count": 127,
   "id": "4063864c",
   "metadata": {},
   "outputs": [],
   "source": [
    "tfidf = pickle.load(open(\"tfidf.pkl\",'rb'))"
   ]
  },
  {
   "cell_type": "code",
   "execution_count": 128,
   "id": "059c7906",
   "metadata": {},
   "outputs": [],
   "source": [
    "CovidModel = torch.load('CovidNN.pkl')"
   ]
  },
  {
   "cell_type": "code",
   "execution_count": 129,
   "id": "0b158472",
   "metadata": {},
   "outputs": [
    {
     "data": {
      "text/plain": [
       "Sequential(\n",
       "  (0): Linear(in_features=9638, out_features=64, bias=True)\n",
       "  (1): ReLU()\n",
       "  (2): Linear(in_features=64, out_features=32, bias=True)\n",
       "  (3): ReLU()\n",
       "  (4): Linear(in_features=32, out_features=2, bias=True)\n",
       ")"
      ]
     },
     "execution_count": 129,
     "metadata": {},
     "output_type": "execute_result"
    }
   ],
   "source": [
    "CovidModel.eval()\n"
   ]
  },
  {
   "cell_type": "code",
   "execution_count": 141,
   "id": "274d2a0b",
   "metadata": {},
   "outputs": [
    {
     "name": "stdout",
     "output_type": "stream",
     "text": [
      "Past tweet :Amitabh Bachchan visited Haji Ali Dargah after recovering from COVID-19\n"
     ]
    }
   ],
   "source": [
    "text = input('Past tweet :')"
   ]
  },
  {
   "cell_type": "code",
   "execution_count": 142,
   "id": "0af633aa",
   "metadata": {},
   "outputs": [],
   "source": [
    "processedText = F.preprocess(text)"
   ]
  },
  {
   "cell_type": "code",
   "execution_count": 143,
   "id": "1186e991",
   "metadata": {},
   "outputs": [
    {
     "data": {
      "text/plain": [
       "'amitabh bachchan visit haji ali dargah recov covid'"
      ]
     },
     "execution_count": 143,
     "metadata": {},
     "output_type": "execute_result"
    }
   ],
   "source": [
    "processedText"
   ]
  },
  {
   "cell_type": "code",
   "execution_count": 144,
   "id": "f4eb2777",
   "metadata": {},
   "outputs": [],
   "source": [
    "data = torch.tensor(tfidf.transform([processedText]).toarray()[0])"
   ]
  },
  {
   "cell_type": "code",
   "execution_count": 145,
   "id": "d7b2495b",
   "metadata": {},
   "outputs": [
    {
     "data": {
      "text/plain": [
       "tensor([0., 0., 0.,  ..., 0., 0., 0.], dtype=torch.float64)"
      ]
     },
     "execution_count": 145,
     "metadata": {},
     "output_type": "execute_result"
    }
   ],
   "source": [
    "data"
   ]
  },
  {
   "cell_type": "code",
   "execution_count": 146,
   "id": "3e6da3ca",
   "metadata": {},
   "outputs": [],
   "source": [
    "output = CovidModel(data.float())"
   ]
  },
  {
   "cell_type": "code",
   "execution_count": 147,
   "id": "835b3d7e",
   "metadata": {},
   "outputs": [
    {
     "data": {
      "text/plain": [
       "tensor(0)"
      ]
     },
     "execution_count": 147,
     "metadata": {},
     "output_type": "execute_result"
    }
   ],
   "source": [
    "torch.argmax(output)"
   ]
  }
 ],
 "metadata": {
  "kernelspec": {
   "display_name": "Python 3 (ipykernel)",
   "language": "python",
   "name": "python3"
  },
  "language_info": {
   "codemirror_mode": {
    "name": "ipython",
    "version": 3
   },
   "file_extension": ".py",
   "mimetype": "text/x-python",
   "name": "python",
   "nbconvert_exporter": "python",
   "pygments_lexer": "ipython3",
   "version": "3.9.7"
  }
 },
 "nbformat": 4,
 "nbformat_minor": 5
}
