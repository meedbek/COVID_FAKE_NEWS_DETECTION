{
 "cells": [
  {
   "cell_type": "code",
   "execution_count": 1,
   "metadata": {
    "id": "FZ3uPDa-sENJ"
   },
   "outputs": [],
   "source": [
    "import torch\n",
    "import numpy as np\n",
    "import pandas as pd"
   ]
  },
  {
   "cell_type": "code",
   "execution_count": 2,
   "metadata": {
    "id": "Qe3HFD33sEYm"
   },
   "outputs": [],
   "source": [
    "df = pd.read_excel(\"Data-FakeRealCOVID.xlsx\")\n",
    "newDF = pd.read_csv(\"newDF.csv\")"
   ]
  },
  {
   "cell_type": "code",
   "execution_count": 3,
   "metadata": {
    "id": "lBhZ6rdYsiq3"
   },
   "outputs": [],
   "source": [
    "newDF = newDF.drop('Unnamed: 0',axis=1)"
   ]
  },
  {
   "cell_type": "code",
   "execution_count": 4,
   "metadata": {
    "colab": {
     "base_uri": "https://localhost:8080/",
     "height": 487
    },
    "id": "wOV71dtes3kg",
    "outputId": "8ba24130-679a-4e54-e35a-3540a77ce486"
   },
   "outputs": [
    {
     "data": {
      "text/html": [
       "<div>\n",
       "<style scoped>\n",
       "    .dataframe tbody tr th:only-of-type {\n",
       "        vertical-align: middle;\n",
       "    }\n",
       "\n",
       "    .dataframe tbody tr th {\n",
       "        vertical-align: top;\n",
       "    }\n",
       "\n",
       "    .dataframe thead th {\n",
       "        text-align: right;\n",
       "    }\n",
       "</style>\n",
       "<table border=\"1\" class=\"dataframe\">\n",
       "  <thead>\n",
       "    <tr style=\"text-align: right;\">\n",
       "      <th></th>\n",
       "      <th>abia</th>\n",
       "      <th>abl</th>\n",
       "      <th>acc</th>\n",
       "      <th>acceler</th>\n",
       "      <th>access</th>\n",
       "      <th>accord</th>\n",
       "      <th>account</th>\n",
       "      <th>accur</th>\n",
       "      <th>achiev</th>\n",
       "      <th>acquir</th>\n",
       "      <th>...</th>\n",
       "      <th>yesterday</th>\n",
       "      <th>yet</th>\n",
       "      <th>yobe</th>\n",
       "      <th>york</th>\n",
       "      <th>young</th>\n",
       "      <th>your</th>\n",
       "      <th>youtub</th>\n",
       "      <th>zealand</th>\n",
       "      <th>zero</th>\n",
       "      <th>zone</th>\n",
       "    </tr>\n",
       "  </thead>\n",
       "  <tbody>\n",
       "    <tr>\n",
       "      <th>0</th>\n",
       "      <td>0.0</td>\n",
       "      <td>0.0</td>\n",
       "      <td>0.0</td>\n",
       "      <td>0.0</td>\n",
       "      <td>0.0</td>\n",
       "      <td>0.0</td>\n",
       "      <td>0.0</td>\n",
       "      <td>0.0</td>\n",
       "      <td>0.0</td>\n",
       "      <td>0.000000</td>\n",
       "      <td>...</td>\n",
       "      <td>0.0</td>\n",
       "      <td>0.0</td>\n",
       "      <td>0.0</td>\n",
       "      <td>0.0</td>\n",
       "      <td>0.0</td>\n",
       "      <td>0.0</td>\n",
       "      <td>0.0</td>\n",
       "      <td>0.000000</td>\n",
       "      <td>0.0</td>\n",
       "      <td>0.0</td>\n",
       "    </tr>\n",
       "    <tr>\n",
       "      <th>1</th>\n",
       "      <td>0.0</td>\n",
       "      <td>0.0</td>\n",
       "      <td>0.0</td>\n",
       "      <td>0.0</td>\n",
       "      <td>0.0</td>\n",
       "      <td>0.0</td>\n",
       "      <td>0.0</td>\n",
       "      <td>0.0</td>\n",
       "      <td>0.0</td>\n",
       "      <td>0.000000</td>\n",
       "      <td>...</td>\n",
       "      <td>0.0</td>\n",
       "      <td>0.0</td>\n",
       "      <td>0.0</td>\n",
       "      <td>0.0</td>\n",
       "      <td>0.0</td>\n",
       "      <td>0.0</td>\n",
       "      <td>0.0</td>\n",
       "      <td>0.000000</td>\n",
       "      <td>0.0</td>\n",
       "      <td>0.0</td>\n",
       "    </tr>\n",
       "    <tr>\n",
       "      <th>2</th>\n",
       "      <td>0.0</td>\n",
       "      <td>0.0</td>\n",
       "      <td>0.0</td>\n",
       "      <td>0.0</td>\n",
       "      <td>0.0</td>\n",
       "      <td>0.0</td>\n",
       "      <td>0.0</td>\n",
       "      <td>0.0</td>\n",
       "      <td>0.0</td>\n",
       "      <td>0.000000</td>\n",
       "      <td>...</td>\n",
       "      <td>0.0</td>\n",
       "      <td>0.0</td>\n",
       "      <td>0.0</td>\n",
       "      <td>0.0</td>\n",
       "      <td>0.0</td>\n",
       "      <td>0.0</td>\n",
       "      <td>0.0</td>\n",
       "      <td>0.000000</td>\n",
       "      <td>0.0</td>\n",
       "      <td>0.0</td>\n",
       "    </tr>\n",
       "    <tr>\n",
       "      <th>3</th>\n",
       "      <td>0.0</td>\n",
       "      <td>0.0</td>\n",
       "      <td>0.0</td>\n",
       "      <td>0.0</td>\n",
       "      <td>0.0</td>\n",
       "      <td>0.0</td>\n",
       "      <td>0.0</td>\n",
       "      <td>0.0</td>\n",
       "      <td>0.0</td>\n",
       "      <td>0.000000</td>\n",
       "      <td>...</td>\n",
       "      <td>0.0</td>\n",
       "      <td>0.0</td>\n",
       "      <td>0.0</td>\n",
       "      <td>0.0</td>\n",
       "      <td>0.0</td>\n",
       "      <td>0.0</td>\n",
       "      <td>0.0</td>\n",
       "      <td>0.000000</td>\n",
       "      <td>0.0</td>\n",
       "      <td>0.0</td>\n",
       "    </tr>\n",
       "    <tr>\n",
       "      <th>4</th>\n",
       "      <td>0.0</td>\n",
       "      <td>0.0</td>\n",
       "      <td>0.0</td>\n",
       "      <td>0.0</td>\n",
       "      <td>0.0</td>\n",
       "      <td>0.0</td>\n",
       "      <td>0.0</td>\n",
       "      <td>0.0</td>\n",
       "      <td>0.0</td>\n",
       "      <td>0.000000</td>\n",
       "      <td>...</td>\n",
       "      <td>0.0</td>\n",
       "      <td>0.0</td>\n",
       "      <td>0.0</td>\n",
       "      <td>0.0</td>\n",
       "      <td>0.0</td>\n",
       "      <td>0.0</td>\n",
       "      <td>0.0</td>\n",
       "      <td>0.000000</td>\n",
       "      <td>0.0</td>\n",
       "      <td>0.0</td>\n",
       "    </tr>\n",
       "    <tr>\n",
       "      <th>...</th>\n",
       "      <td>...</td>\n",
       "      <td>...</td>\n",
       "      <td>...</td>\n",
       "      <td>...</td>\n",
       "      <td>...</td>\n",
       "      <td>...</td>\n",
       "      <td>...</td>\n",
       "      <td>...</td>\n",
       "      <td>...</td>\n",
       "      <td>...</td>\n",
       "      <td>...</td>\n",
       "      <td>...</td>\n",
       "      <td>...</td>\n",
       "      <td>...</td>\n",
       "      <td>...</td>\n",
       "      <td>...</td>\n",
       "      <td>...</td>\n",
       "      <td>...</td>\n",
       "      <td>...</td>\n",
       "      <td>...</td>\n",
       "      <td>...</td>\n",
       "    </tr>\n",
       "    <tr>\n",
       "      <th>6415</th>\n",
       "      <td>0.0</td>\n",
       "      <td>0.0</td>\n",
       "      <td>0.0</td>\n",
       "      <td>0.0</td>\n",
       "      <td>0.0</td>\n",
       "      <td>0.0</td>\n",
       "      <td>0.0</td>\n",
       "      <td>0.0</td>\n",
       "      <td>0.0</td>\n",
       "      <td>0.000000</td>\n",
       "      <td>...</td>\n",
       "      <td>0.0</td>\n",
       "      <td>0.0</td>\n",
       "      <td>0.0</td>\n",
       "      <td>0.0</td>\n",
       "      <td>0.0</td>\n",
       "      <td>0.0</td>\n",
       "      <td>0.0</td>\n",
       "      <td>0.000000</td>\n",
       "      <td>0.0</td>\n",
       "      <td>0.0</td>\n",
       "    </tr>\n",
       "    <tr>\n",
       "      <th>6416</th>\n",
       "      <td>0.0</td>\n",
       "      <td>0.0</td>\n",
       "      <td>0.0</td>\n",
       "      <td>0.0</td>\n",
       "      <td>0.0</td>\n",
       "      <td>0.0</td>\n",
       "      <td>0.0</td>\n",
       "      <td>0.0</td>\n",
       "      <td>0.0</td>\n",
       "      <td>0.000000</td>\n",
       "      <td>...</td>\n",
       "      <td>0.0</td>\n",
       "      <td>0.0</td>\n",
       "      <td>0.0</td>\n",
       "      <td>0.0</td>\n",
       "      <td>0.0</td>\n",
       "      <td>0.0</td>\n",
       "      <td>0.0</td>\n",
       "      <td>0.000000</td>\n",
       "      <td>0.0</td>\n",
       "      <td>0.0</td>\n",
       "    </tr>\n",
       "    <tr>\n",
       "      <th>6417</th>\n",
       "      <td>0.0</td>\n",
       "      <td>0.0</td>\n",
       "      <td>0.0</td>\n",
       "      <td>0.0</td>\n",
       "      <td>0.0</td>\n",
       "      <td>0.0</td>\n",
       "      <td>0.0</td>\n",
       "      <td>0.0</td>\n",
       "      <td>0.0</td>\n",
       "      <td>0.000000</td>\n",
       "      <td>...</td>\n",
       "      <td>0.0</td>\n",
       "      <td>0.0</td>\n",
       "      <td>0.0</td>\n",
       "      <td>0.0</td>\n",
       "      <td>0.0</td>\n",
       "      <td>0.0</td>\n",
       "      <td>0.0</td>\n",
       "      <td>0.000000</td>\n",
       "      <td>0.0</td>\n",
       "      <td>0.0</td>\n",
       "    </tr>\n",
       "    <tr>\n",
       "      <th>6418</th>\n",
       "      <td>0.0</td>\n",
       "      <td>0.0</td>\n",
       "      <td>0.0</td>\n",
       "      <td>0.0</td>\n",
       "      <td>0.0</td>\n",
       "      <td>0.0</td>\n",
       "      <td>0.0</td>\n",
       "      <td>0.0</td>\n",
       "      <td>0.0</td>\n",
       "      <td>0.000000</td>\n",
       "      <td>...</td>\n",
       "      <td>0.0</td>\n",
       "      <td>0.0</td>\n",
       "      <td>0.0</td>\n",
       "      <td>0.0</td>\n",
       "      <td>0.0</td>\n",
       "      <td>0.0</td>\n",
       "      <td>0.0</td>\n",
       "      <td>0.000000</td>\n",
       "      <td>0.0</td>\n",
       "      <td>0.0</td>\n",
       "    </tr>\n",
       "    <tr>\n",
       "      <th>6419</th>\n",
       "      <td>0.0</td>\n",
       "      <td>0.0</td>\n",
       "      <td>0.0</td>\n",
       "      <td>0.0</td>\n",
       "      <td>0.0</td>\n",
       "      <td>0.0</td>\n",
       "      <td>0.0</td>\n",
       "      <td>0.0</td>\n",
       "      <td>0.0</td>\n",
       "      <td>0.323644</td>\n",
       "      <td>...</td>\n",
       "      <td>0.0</td>\n",
       "      <td>0.0</td>\n",
       "      <td>0.0</td>\n",
       "      <td>0.0</td>\n",
       "      <td>0.0</td>\n",
       "      <td>0.0</td>\n",
       "      <td>0.0</td>\n",
       "      <td>0.243707</td>\n",
       "      <td>0.0</td>\n",
       "      <td>0.0</td>\n",
       "    </tr>\n",
       "  </tbody>\n",
       "</table>\n",
       "<p>6420 rows × 1381 columns</p>\n",
       "</div>"
      ],
      "text/plain": [
       "      abia  abl  acc  acceler  access  accord  account  accur  achiev  \\\n",
       "0      0.0  0.0  0.0      0.0     0.0     0.0      0.0    0.0     0.0   \n",
       "1      0.0  0.0  0.0      0.0     0.0     0.0      0.0    0.0     0.0   \n",
       "2      0.0  0.0  0.0      0.0     0.0     0.0      0.0    0.0     0.0   \n",
       "3      0.0  0.0  0.0      0.0     0.0     0.0      0.0    0.0     0.0   \n",
       "4      0.0  0.0  0.0      0.0     0.0     0.0      0.0    0.0     0.0   \n",
       "...    ...  ...  ...      ...     ...     ...      ...    ...     ...   \n",
       "6415   0.0  0.0  0.0      0.0     0.0     0.0      0.0    0.0     0.0   \n",
       "6416   0.0  0.0  0.0      0.0     0.0     0.0      0.0    0.0     0.0   \n",
       "6417   0.0  0.0  0.0      0.0     0.0     0.0      0.0    0.0     0.0   \n",
       "6418   0.0  0.0  0.0      0.0     0.0     0.0      0.0    0.0     0.0   \n",
       "6419   0.0  0.0  0.0      0.0     0.0     0.0      0.0    0.0     0.0   \n",
       "\n",
       "        acquir  ...  yesterday  yet  yobe  york  young  your  youtub  \\\n",
       "0     0.000000  ...        0.0  0.0   0.0   0.0    0.0   0.0     0.0   \n",
       "1     0.000000  ...        0.0  0.0   0.0   0.0    0.0   0.0     0.0   \n",
       "2     0.000000  ...        0.0  0.0   0.0   0.0    0.0   0.0     0.0   \n",
       "3     0.000000  ...        0.0  0.0   0.0   0.0    0.0   0.0     0.0   \n",
       "4     0.000000  ...        0.0  0.0   0.0   0.0    0.0   0.0     0.0   \n",
       "...        ...  ...        ...  ...   ...   ...    ...   ...     ...   \n",
       "6415  0.000000  ...        0.0  0.0   0.0   0.0    0.0   0.0     0.0   \n",
       "6416  0.000000  ...        0.0  0.0   0.0   0.0    0.0   0.0     0.0   \n",
       "6417  0.000000  ...        0.0  0.0   0.0   0.0    0.0   0.0     0.0   \n",
       "6418  0.000000  ...        0.0  0.0   0.0   0.0    0.0   0.0     0.0   \n",
       "6419  0.323644  ...        0.0  0.0   0.0   0.0    0.0   0.0     0.0   \n",
       "\n",
       "       zealand  zero  zone  \n",
       "0     0.000000   0.0   0.0  \n",
       "1     0.000000   0.0   0.0  \n",
       "2     0.000000   0.0   0.0  \n",
       "3     0.000000   0.0   0.0  \n",
       "4     0.000000   0.0   0.0  \n",
       "...        ...   ...   ...  \n",
       "6415  0.000000   0.0   0.0  \n",
       "6416  0.000000   0.0   0.0  \n",
       "6417  0.000000   0.0   0.0  \n",
       "6418  0.000000   0.0   0.0  \n",
       "6419  0.243707   0.0   0.0  \n",
       "\n",
       "[6420 rows x 1381 columns]"
      ]
     },
     "execution_count": 4,
     "metadata": {},
     "output_type": "execute_result"
    }
   ],
   "source": [
    "newDF"
   ]
  },
  {
   "cell_type": "code",
   "execution_count": 5,
   "metadata": {
    "id": "_cRVsJ5P61wJ"
   },
   "outputs": [],
   "source": [
    "data=torch.tensor(newDF.to_numpy())\n"
   ]
  },
  {
   "cell_type": "code",
   "execution_count": 6,
   "metadata": {
    "colab": {
     "base_uri": "https://localhost:8080/"
    },
    "id": "tFo0D2UDrL9f",
    "outputId": "4dd9c4d3-3044-4df3-f7b7-80ac8ce04d7c"
   },
   "outputs": [
    {
     "data": {
      "text/plain": [
       "tensor([[0.0000, 0.0000, 0.0000,  ..., 0.0000, 0.0000, 0.0000],\n",
       "        [0.0000, 0.0000, 0.0000,  ..., 0.0000, 0.0000, 0.0000],\n",
       "        [0.0000, 0.0000, 0.0000,  ..., 0.0000, 0.0000, 0.0000],\n",
       "        ...,\n",
       "        [0.0000, 0.0000, 0.0000,  ..., 0.0000, 0.0000, 0.0000],\n",
       "        [0.0000, 0.0000, 0.0000,  ..., 0.0000, 0.0000, 0.0000],\n",
       "        [0.0000, 0.0000, 0.0000,  ..., 0.2437, 0.0000, 0.0000]],\n",
       "       dtype=torch.float64)"
      ]
     },
     "execution_count": 6,
     "metadata": {},
     "output_type": "execute_result"
    }
   ],
   "source": [
    "data"
   ]
  },
  {
   "cell_type": "code",
   "execution_count": 7,
   "metadata": {
    "colab": {
     "base_uri": "https://localhost:8080/"
    },
    "id": "KzM25Jlb61y9",
    "outputId": "e918e3de-3d8d-4df6-f795-2540e0dfa482"
   },
   "outputs": [
    {
     "data": {
      "text/plain": [
       "tensor([1, 1, 0,  ..., 0, 0, 1])"
      ]
     },
     "execution_count": 7,
     "metadata": {},
     "output_type": "execute_result"
    }
   ],
   "source": [
    "labels = []\n",
    "for label in df.label.to_numpy():\n",
    "  if label == 'real':\n",
    "    labels.append(1)\n",
    "  else:\n",
    "    labels.append(0)\n",
    "targets=torch.tensor(labels)\n",
    "targets"
   ]
  },
  {
   "cell_type": "code",
   "execution_count": 8,
   "metadata": {
    "colab": {
     "base_uri": "https://localhost:8080/"
    },
    "id": "xWC7l7AlrRvY",
    "outputId": "0e17615b-bd57-4ef9-9464-487849f545cf"
   },
   "outputs": [
    {
     "data": {
      "text/plain": [
       "torch.int64"
      ]
     },
     "execution_count": 8,
     "metadata": {},
     "output_type": "execute_result"
    }
   ],
   "source": [
    "targets.dtype"
   ]
  },
  {
   "cell_type": "code",
   "execution_count": 9,
   "metadata": {
    "id": "_LqR9Z4fsEbQ"
   },
   "outputs": [],
   "source": [
    "# Importer la fonction de splitting des données de scikit learn\n",
    "from sklearn.model_selection import train_test_split\n"
   ]
  },
  {
   "cell_type": "code",
   "execution_count": 10,
   "metadata": {
    "colab": {
     "base_uri": "https://localhost:8080/"
    },
    "id": "k9FvJq-RJxxX",
    "outputId": "db9716d2-df2b-41b8-a902-529ce0debb9a"
   },
   "outputs": [
    {
     "data": {
      "text/plain": [
       "torch.Size([5136, 1381])"
      ]
     },
     "execution_count": 10,
     "metadata": {},
     "output_type": "execute_result"
    }
   ],
   "source": [
    "# Créer 4 tensors en résultat du splitting: données d'apprentissage, données de test, labels d'apprentissage, et labels de test  \n",
    "atrain_data, test_data, atrain_targets, test_targets = train_test_split(data, targets, test_size=0.2)\n",
    "atrain_data.shape"
   ]
  },
  {
   "cell_type": "code",
   "execution_count": 11,
   "metadata": {
    "colab": {
     "base_uri": "https://localhost:8080/"
    },
    "id": "avlRzUHBsEd0",
    "outputId": "c28991ec-d8a0-4919-94d8-4e87fb9c73ce"
   },
   "outputs": [
    {
     "data": {
      "text/plain": [
       "torch.Size([4136, 1381])"
      ]
     },
     "execution_count": 11,
     "metadata": {},
     "output_type": "execute_result"
    }
   ],
   "source": [
    "# Créer 4 tensors en résultat du splitting: données d'apprentissage, données de validation, labels d'apprentissage, et labels de validation  \n",
    "train_data, validation_data, train_targets, validation_targets = train_test_split(atrain_data, atrain_targets, test_size=1000)\n",
    "train_data.shape"
   ]
  },
  {
   "cell_type": "code",
   "execution_count": 12,
   "metadata": {
    "colab": {
     "base_uri": "https://localhost:8080/"
    },
    "id": "V7D9yvLbsEjV",
    "outputId": "3eab84ea-06aa-4025-9aa5-b66a43a35551"
   },
   "outputs": [
    {
     "name": "stdout",
     "output_type": "stream",
     "text": [
      "torch.Size([4136, 1381]) torch.Size([4136])\n",
      "torch.Size([1000, 1381]) torch.Size([1000])\n",
      "torch.Size([1284, 1381]) torch.Size([1284])\n",
      "1381\n"
     ]
    }
   ],
   "source": [
    "\n",
    "# Afficher la taille de chaque tensor\n",
    "print(train_data.shape, train_targets.shape)\n",
    "print(validation_data.shape, validation_targets.shape)\n",
    "print(test_data.shape,test_targets.shape)\n",
    "print(train_data.shape[1])"
   ]
  },
  {
   "cell_type": "code",
   "execution_count": 13,
   "metadata": {
    "id": "CoS4SEElK18d"
   },
   "outputs": [],
   "source": [
    "# Importer Dataset de torch.utils.data\n",
    "from torch.utils.data import Dataset"
   ]
  },
  {
   "cell_type": "code",
   "execution_count": 14,
   "metadata": {
    "id": "p00R4rbYLHy6"
   },
   "outputs": [],
   "source": [
    "# Créer une classe qui hérite de Dataset et redéfinit les méthodes \n",
    "class Covid_Dataset(Dataset):\n",
    "    def __init__(self, data, targets):\n",
    "        super(Covid_Dataset, self)\n",
    "        self.data = data\n",
    "        self.targets = targets\n",
    "    def __getitem__(self, idx):\n",
    "        return self.data[idx], self.targets[idx]\n",
    "    def __len__(self):\n",
    "        return len(self.targets)\n"
   ]
  },
  {
   "cell_type": "code",
   "execution_count": 15,
   "metadata": {
    "id": "n5NcCk_gLR0P"
   },
   "outputs": [],
   "source": [
    "# Créer les 3 objets en instantiant votre classe\n",
    "train_dataset = Covid_Dataset(train_data, train_targets)\n",
    "test_dataset = Covid_Dataset(test_data, test_targets)\n",
    "validation_dataset = Covid_Dataset(validation_data, validation_targets)"
   ]
  },
  {
   "cell_type": "code",
   "execution_count": 16,
   "metadata": {
    "id": "ZnltqtTlLlSP"
   },
   "outputs": [],
   "source": [
    "# Importer DataLoader de torch.utils.data\n",
    "from torch.utils.data import DataLoader"
   ]
  },
  {
   "cell_type": "code",
   "execution_count": 17,
   "metadata": {
    "id": "IIParFTvLn8i"
   },
   "outputs": [],
   "source": [
    "# Créer une variable pour la taille du batch\n",
    "batch_size = 64"
   ]
  },
  {
   "cell_type": "code",
   "execution_count": 18,
   "metadata": {
    "id": "NiBGAcYgL5GV"
   },
   "outputs": [],
   "source": [
    "# Créer les objets DataLoader pour vos datasets d'apprentissage, test et validation en lui donner la taille du batch convenue\n",
    "\n",
    "train_DL = DataLoader(train_dataset, batch_size=batch_size)\n",
    "test_DL = DataLoader(test_dataset, batch_size=batch_size)\n",
    "validation_DL = DataLoader(validation_dataset, batch_size=batch_size)\n"
   ]
  },
  {
   "cell_type": "code",
   "execution_count": 19,
   "metadata": {
    "colab": {
     "base_uri": "https://localhost:8080/"
    },
    "id": "wzmpmmyEf_pt",
    "outputId": "e2bc1ab7-c5cb-4836-fcc9-2556fb26445d"
   },
   "outputs": [
    {
     "data": {
      "text/plain": [
       "65"
      ]
     },
     "execution_count": 19,
     "metadata": {},
     "output_type": "execute_result"
    }
   ],
   "source": [
    "len(train_DL)"
   ]
  },
  {
   "cell_type": "code",
   "execution_count": 20,
   "metadata": {
    "id": "7yQIn6kpgGtG"
   },
   "outputs": [],
   "source": [
    "# Importer le module nn\n",
    "import torch.nn as nn"
   ]
  },
  {
   "cell_type": "code",
   "execution_count": 21,
   "metadata": {
    "id": "ZdLwPkOSj20C"
   },
   "outputs": [],
   "source": [
    "# En utilisant Sequential(), créer un modèle avec l'architecture susmentionnée\n",
    "CovidNN = nn.Sequential(nn.Linear(train_data.shape[1], 64),nn.ReLU(),nn.Linear(64, 32),nn.ReLU(),nn.Linear(32, 2))"
   ]
  },
  {
   "cell_type": "code",
   "execution_count": 22,
   "metadata": {
    "id": "nKcOOgT6mLLV"
   },
   "outputs": [],
   "source": [
    "# Définir la fonction du coût. On peut choisir CrossEntropyLoss\n",
    "loss_function = nn.CrossEntropyLoss()"
   ]
  },
  {
   "cell_type": "code",
   "execution_count": 23,
   "metadata": {
    "id": "2eK8iWgXm1NK"
   },
   "outputs": [],
   "source": [
    "# Définir une fonction d'optimisation des coût: Adam par exemple. On devra définir un learning rate. On choisira 0.001.\n",
    "import torch.optim as optim\n",
    "\n",
    "optimizer = optim.Adam(CovidNN.parameters(), lr=0.001)"
   ]
  },
  {
   "cell_type": "code",
   "execution_count": 24,
   "metadata": {
    "id": "bbOUvvIOm40W"
   },
   "outputs": [],
   "source": [
    "# Définir le nombre d'epochs. Commencer petit. \n",
    "nb_epochs = 10"
   ]
  },
  {
   "cell_type": "code",
   "execution_count": 25,
   "metadata": {
    "colab": {
     "base_uri": "https://localhost:8080/",
     "height": 224
    },
    "id": "qR_wViYbrfUj",
    "outputId": "ae8db469-bcba-4e6d-cc12-b4859cb38e86"
   },
   "outputs": [
    {
     "name": "stdout",
     "output_type": "stream",
     "text": [
      "tensor([[0., 0., 0.,  ..., 0., 0., 0.],\n",
      "        [0., 0., 0.,  ..., 0., 0., 0.],\n",
      "        [0., 0., 0.,  ..., 0., 0., 0.],\n",
      "        ...,\n",
      "        [0., 0., 0.,  ..., 0., 0., 0.],\n",
      "        [0., 0., 0.,  ..., 0., 0., 0.],\n",
      "        [0., 0., 0.,  ..., 0., 0., 0.]], dtype=torch.float64)\n"
     ]
    }
   ],
   "source": [
    "for data,targets in train_DL:\n",
    "  print(data)\n",
    "  break"
   ]
  },
  {
   "cell_type": "code",
   "execution_count": 26,
   "metadata": {
    "colab": {
     "base_uri": "https://localhost:8080/",
     "height": 394
    },
    "id": "2NrocaPSpPet",
    "outputId": "8e4cd098-8f2f-418b-d3a6-800b197605d3"
   },
   "outputs": [],
   "source": [
    "# Créer une boucle sur les epochs:\n",
    "for i in range(nb_epochs):\n",
    "    # Spécifier qu'on est sur le mode entraînement\n",
    "    CovidNN.train()\n",
    "    # initialiser notre coût d'apprentissage à 0.0\n",
    "    cout_appr = 0\n",
    "    # Boucler sur les minibatchs des données d'entaînement (les données et leurs targets):\n",
    "    for data,targets in train_DL:    \n",
    "        # le vecteur des labels prédites par le modèle est le résultat de l'application du modèle sur le minibatch en cours. \n",
    "        output = CovidNN(data.float())\n",
    "        # Calculer le coût en comparant les labels prédits aux targets du minibatch\n",
    "        loss = loss_function(output,targets)\n",
    "        # Backpropagation: \n",
    "        # Réinitialiser l'optimiseur\n",
    "        optimizer.zero_grad()\n",
    "        # Faire la backpropagation\n",
    "        loss.backward()\n",
    "        # Effectuer un pas d'optimisation\n",
    "        optimizer.step()\n",
    "        # Mettre à jour votre coût d'apprentissage en lui ajoutant le coût du data batch\n",
    "        cout_appr += loss.item()\n",
    "    # A la sortie de la boucle de l'entraînement, on calcule le coût moyen pour toutes les données training\n",
    "    cout_moyen = cout_appr/len(train_dataset)\n",
    "    # Initiliser le coût de validation à 0.0\n",
    "    cout_valid = 0\n",
    "    # Initialiser le nombre de prévisions correctes à 0\n",
    "    prevision_correcte = 0\n",
    "    # Spécifier qu'on est sur le mode d'évaluation\n",
    "    CovidNN.eval()\n",
    "    # Indiquer à Pytorch qu'on ne va pas faire de Gradient descent (comme on est dans l'évaluation)\n",
    "    with torch.no_grad():\n",
    "        # Boucler sur les minibatchs des données de validation (les données et leurs targets):\n",
    "        for data,targets in validation_DL:  \n",
    "            # le vecteur des labels prédites par le modèle est le résultat de l'application du modèle sur le minibatch en cours. \n",
    "            output = CovidNN(data.float())\n",
    "            # Calculer le coût en comparant les labels prédits aux targets du minibatch\n",
    "            loss = loss_function(output,targets)\n",
    "            # Mettre à jour votre coût de validation en lui ajoutant le coût du data batch\n",
    "            cout_valid += loss.item()\n",
    "            # Mettre à jour le nombre de prévision correctes en y ajoutant le nombre des bonnes prévision sur ce batch\n",
    "            # On y compare le label prédit avec le labels du minibatch. \n",
    "            # Penser à utiliser argmax pour avoir la prévision finale à partir du vecteur de prévision\n",
    "            #prevision_correcte += len(output[output == targets])\n",
    "            prevision_correcte += torch.sum((torch.argmax(output, dim=1) == targets)).item()\n",
    "        # A la sortie de cette boucle, calculer le coût moyen de validation\n",
    "        cout_valid_moyenne = cout_valid/len(validation_dataset)\n",
    "        \n",
    "        # Calculer la précision: la moyenne des prévisions correctes sur l'ensemble des observations dans le dataset validation \n",
    "        prevision_correcte_moyenne = prevision_correcte/len(validation_dataset)\n",
    "\n",
    "    # Afficher pour chaque itération le coût d'entraînement, le coût de validation, et la précision.\n",
    "    \n",
    "        "
   ]
  },
  {
   "cell_type": "code",
   "execution_count": 27,
   "metadata": {
    "id": "eY5KZLB_uPco"
   },
   "outputs": [
    {
     "data": {
      "text/plain": [
       "0.908"
      ]
     },
     "execution_count": 27,
     "metadata": {},
     "output_type": "execute_result"
    }
   ],
   "source": [
    "prevision_correcte_moyenne"
   ]
  },
  {
   "cell_type": "code",
   "execution_count": 28,
   "metadata": {},
   "outputs": [],
   "source": [
    "# Initiliser le coût de test à 0.0\n",
    "cout_loss = 0\n",
    "# Initialiser le nombre de prévisions correctes à 0\n",
    "prevision_correcte = 0\n",
    "with torch.no_grad():\n",
    "    # Boucler sur les minibatchs des données de test (les données et leurs targets):\n",
    "    for data,targets in test_DL:  \n",
    "        # le vecteur des labels prédites par le modèle est le résultat de l'application du modèle sur le minibatch en cours. \n",
    "        output = CovidNN(data.float())\n",
    "        # Calculer le coût en comparant les labels prédits aux targets du minibatch\n",
    "        loss = loss_function(output,targets)\n",
    "        # Mettre à jour votre coût de test en lui ajoutant le coût du data batch\n",
    "        cout_valid += loss.item()\n",
    "        # Mettre à jour le nombre de prévision correctes en y ajoutant le nombre des bonnes prévision sur ce batch\n",
    "        # On y compare le label prédit avec le labels du minibatch. \n",
    "        # Penser à utiliser argmax pour avoir la prévision finale à partir du vecteur de prévision\n",
    "        #prevision_correcte += len(output[output == targets])\n",
    "        prevision_correcte += torch.sum((torch.argmax(output, dim=1) == targets)).item()\n",
    "    # A la sortie de cette boucle, calculer le coût moyen de test\n",
    "    cout_valid_moyenne = cout_valid/len(test_dataset)\n",
    "\n",
    "    # Calculer la précision: la moyenne des prévisions correctes sur l'ensemble des observations dans le dataset test \n",
    "    prevision_correcte_moyenne = prevision_correcte/len(test_dataset)"
   ]
  },
  {
   "cell_type": "code",
   "execution_count": 29,
   "metadata": {},
   "outputs": [
    {
     "data": {
      "text/plain": [
       "0.897196261682243"
      ]
     },
     "execution_count": 29,
     "metadata": {},
     "output_type": "execute_result"
    }
   ],
   "source": [
    "prevision_correcte_moyenne"
   ]
  },
  {
   "cell_type": "code",
   "execution_count": 30,
   "metadata": {},
   "outputs": [],
   "source": [
    "# sauvegarder le modèle dans un fichier pickle\n",
    "torch.save(CovidNN,'CovidNN.pr')"
   ]
  }
 ],
 "metadata": {
  "colab": {
   "name": "NN_MODEL.ipynb",
   "provenance": []
  },
  "kernelspec": {
   "display_name": "Python 3 (ipykernel)",
   "language": "python",
   "name": "python3"
  },
  "language_info": {
   "codemirror_mode": {
    "name": "ipython",
    "version": 3
   },
   "file_extension": ".py",
   "mimetype": "text/x-python",
   "name": "python",
   "nbconvert_exporter": "python",
   "pygments_lexer": "ipython3",
   "version": "3.9.7"
  }
 },
 "nbformat": 4,
 "nbformat_minor": 1
}
