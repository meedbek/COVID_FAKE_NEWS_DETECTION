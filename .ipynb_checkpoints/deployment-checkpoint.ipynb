{
 "cells": [
  {
   "cell_type": "code",
   "execution_count": 2,
   "id": "77f8a5fe",
   "metadata": {},
   "outputs": [],
   "source": [
    "import Vectorization as Vec"
   ]
  },
  {
   "cell_type": "code",
   "execution_count": null,
   "id": "274d2a0b",
   "metadata": {},
   "outputs": [],
   "source": [
    "text = input('Past tweet :')"
   ]
  },
  {
   "cell_type": "code",
   "execution_count": null,
   "id": "1fb14313",
   "metadata": {},
   "outputs": [],
   "source": []
  }
 ],
 "metadata": {
  "kernelspec": {
   "display_name": "Python 3 (ipykernel)",
   "language": "python",
   "name": "python3"
  },
  "language_info": {
   "codemirror_mode": {
    "name": "ipython",
    "version": 3
   },
   "file_extension": ".py",
   "mimetype": "text/x-python",
   "name": "python",
   "nbconvert_exporter": "python",
   "pygments_lexer": "ipython3",
   "version": "3.9.7"
  }
 },
 "nbformat": 4,
 "nbformat_minor": 5
}
