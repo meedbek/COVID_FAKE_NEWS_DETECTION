{
  "nbformat": 4,
  "nbformat_minor": 0,
  "metadata": {
    "colab": {
      "name": "Projet_IA.ipynb",
      "provenance": [],
      "collapsed_sections": []
    },
    "kernelspec": {
      "name": "python3",
      "display_name": "Python 3"
    },
    "language_info": {
      "name": "python"
    }
  },
  "cells": [
    {
      "cell_type": "markdown",
      "source": [
        "# Import Data"
      ],
      "metadata": {
        "id": "LMKhqUT_PU0f"
      }
    },
    {
      "cell_type": "code",
      "execution_count": null,
      "metadata": {
        "id": "RKvkYzhJBh1S"
      },
      "outputs": [],
      "source": [
        "import pandas as pd\n",
        "import numpy as np\n",
        "import nltk as nk\n",
        "import re "
      ]
    },
    {
      "cell_type": "code",
      "execution_count": null,
      "metadata": {
        "id": "CYIrpUkuAK18"
      },
      "outputs": [],
      "source": [
        "from itertools import chain"
      ]
    },
    {
      "cell_type": "code",
      "execution_count": null,
      "metadata": {
        "colab": {
          "base_uri": "https://localhost:8080/"
        },
        "outputId": "71ac3907-4004-43a9-a126-a137246ee06f",
        "id": "FWb8XwL0Bh1V"
      },
      "outputs": [
        {
          "output_type": "stream",
          "name": "stdout",
          "text": [
            "Drive already mounted at /content/drive; to attempt to forcibly remount, call drive.mount(\"/content/drive\", force_remount=True).\n"
          ]
        }
      ],
      "source": [
        "from google.colab import drive\n",
        "drive.mount('/content/drive')"
      ]
    },
    {
      "cell_type": "code",
      "execution_count": null,
      "metadata": {
        "id": "VGQ5EhS1Bh1X"
      },
      "outputs": [],
      "source": [
        "#df = pd.read_excel(\"Data-FakeRealCOVID.xlsx\")\n",
        "df = pd.read_excel(\"/content/drive/MyDrive/PROJET_IA/Data-FakeRealCOVID.xlsx\")"
      ]
    },
    {
      "cell_type": "code",
      "execution_count": null,
      "metadata": {
        "colab": {
          "base_uri": "https://localhost:8080/",
          "height": 423
        },
        "id": "9uR7foXZBh1Y",
        "outputId": "b2b03387-fb17-4ca4-e59a-16d3a3698b81"
      },
      "outputs": [
        {
          "output_type": "execute_result",
          "data": {
            "text/html": [
              "\n",
              "  <div id=\"df-67660e07-2ecc-48f0-a897-3c48c48cbda4\">\n",
              "    <div class=\"colab-df-container\">\n",
              "      <div>\n",
              "<style scoped>\n",
              "    .dataframe tbody tr th:only-of-type {\n",
              "        vertical-align: middle;\n",
              "    }\n",
              "\n",
              "    .dataframe tbody tr th {\n",
              "        vertical-align: top;\n",
              "    }\n",
              "\n",
              "    .dataframe thead th {\n",
              "        text-align: right;\n",
              "    }\n",
              "</style>\n",
              "<table border=\"1\" class=\"dataframe\">\n",
              "  <thead>\n",
              "    <tr style=\"text-align: right;\">\n",
              "      <th></th>\n",
              "      <th>id</th>\n",
              "      <th>tweet</th>\n",
              "      <th>label</th>\n",
              "    </tr>\n",
              "  </thead>\n",
              "  <tbody>\n",
              "    <tr>\n",
              "      <th>0</th>\n",
              "      <td>1</td>\n",
              "      <td>The CDC currently reports 99031 deaths. In gen...</td>\n",
              "      <td>real</td>\n",
              "    </tr>\n",
              "    <tr>\n",
              "      <th>1</th>\n",
              "      <td>2</td>\n",
              "      <td>States reported 1121 deaths a small rise from ...</td>\n",
              "      <td>real</td>\n",
              "    </tr>\n",
              "    <tr>\n",
              "      <th>2</th>\n",
              "      <td>3</td>\n",
              "      <td>Politically Correct Woman (Almost) Uses Pandem...</td>\n",
              "      <td>fake</td>\n",
              "    </tr>\n",
              "    <tr>\n",
              "      <th>3</th>\n",
              "      <td>4</td>\n",
              "      <td>#IndiaFightsCorona: We have 1524 #COVID testin...</td>\n",
              "      <td>real</td>\n",
              "    </tr>\n",
              "    <tr>\n",
              "      <th>4</th>\n",
              "      <td>5</td>\n",
              "      <td>Populous states can generate large case counts...</td>\n",
              "      <td>real</td>\n",
              "    </tr>\n",
              "    <tr>\n",
              "      <th>...</th>\n",
              "      <td>...</td>\n",
              "      <td>...</td>\n",
              "      <td>...</td>\n",
              "    </tr>\n",
              "    <tr>\n",
              "      <th>6415</th>\n",
              "      <td>6416</td>\n",
              "      <td>A tiger tested positive for COVID-19 please st...</td>\n",
              "      <td>fake</td>\n",
              "    </tr>\n",
              "    <tr>\n",
              "      <th>6416</th>\n",
              "      <td>6417</td>\n",
              "      <td>???Autopsies prove that COVID-19 is??� a blood...</td>\n",
              "      <td>fake</td>\n",
              "    </tr>\n",
              "    <tr>\n",
              "      <th>6417</th>\n",
              "      <td>6418</td>\n",
              "      <td>_A post claims a COVID-19 vaccine has already ...</td>\n",
              "      <td>fake</td>\n",
              "    </tr>\n",
              "    <tr>\n",
              "      <th>6418</th>\n",
              "      <td>6419</td>\n",
              "      <td>Aamir Khan Donate 250 Cr. In PM Relief Cares Fund</td>\n",
              "      <td>fake</td>\n",
              "    </tr>\n",
              "    <tr>\n",
              "      <th>6419</th>\n",
              "      <td>6420</td>\n",
              "      <td>It has been 93 days since the last case of COV...</td>\n",
              "      <td>real</td>\n",
              "    </tr>\n",
              "  </tbody>\n",
              "</table>\n",
              "<p>6420 rows × 3 columns</p>\n",
              "</div>\n",
              "      <button class=\"colab-df-convert\" onclick=\"convertToInteractive('df-67660e07-2ecc-48f0-a897-3c48c48cbda4')\"\n",
              "              title=\"Convert this dataframe to an interactive table.\"\n",
              "              style=\"display:none;\">\n",
              "        \n",
              "  <svg xmlns=\"http://www.w3.org/2000/svg\" height=\"24px\"viewBox=\"0 0 24 24\"\n",
              "       width=\"24px\">\n",
              "    <path d=\"M0 0h24v24H0V0z\" fill=\"none\"/>\n",
              "    <path d=\"M18.56 5.44l.94 2.06.94-2.06 2.06-.94-2.06-.94-.94-2.06-.94 2.06-2.06.94zm-11 1L8.5 8.5l.94-2.06 2.06-.94-2.06-.94L8.5 2.5l-.94 2.06-2.06.94zm10 10l.94 2.06.94-2.06 2.06-.94-2.06-.94-.94-2.06-.94 2.06-2.06.94z\"/><path d=\"M17.41 7.96l-1.37-1.37c-.4-.4-.92-.59-1.43-.59-.52 0-1.04.2-1.43.59L10.3 9.45l-7.72 7.72c-.78.78-.78 2.05 0 2.83L4 21.41c.39.39.9.59 1.41.59.51 0 1.02-.2 1.41-.59l7.78-7.78 2.81-2.81c.8-.78.8-2.07 0-2.86zM5.41 20L4 18.59l7.72-7.72 1.47 1.35L5.41 20z\"/>\n",
              "  </svg>\n",
              "      </button>\n",
              "      \n",
              "  <style>\n",
              "    .colab-df-container {\n",
              "      display:flex;\n",
              "      flex-wrap:wrap;\n",
              "      gap: 12px;\n",
              "    }\n",
              "\n",
              "    .colab-df-convert {\n",
              "      background-color: #E8F0FE;\n",
              "      border: none;\n",
              "      border-radius: 50%;\n",
              "      cursor: pointer;\n",
              "      display: none;\n",
              "      fill: #1967D2;\n",
              "      height: 32px;\n",
              "      padding: 0 0 0 0;\n",
              "      width: 32px;\n",
              "    }\n",
              "\n",
              "    .colab-df-convert:hover {\n",
              "      background-color: #E2EBFA;\n",
              "      box-shadow: 0px 1px 2px rgba(60, 64, 67, 0.3), 0px 1px 3px 1px rgba(60, 64, 67, 0.15);\n",
              "      fill: #174EA6;\n",
              "    }\n",
              "\n",
              "    [theme=dark] .colab-df-convert {\n",
              "      background-color: #3B4455;\n",
              "      fill: #D2E3FC;\n",
              "    }\n",
              "\n",
              "    [theme=dark] .colab-df-convert:hover {\n",
              "      background-color: #434B5C;\n",
              "      box-shadow: 0px 1px 3px 1px rgba(0, 0, 0, 0.15);\n",
              "      filter: drop-shadow(0px 1px 2px rgba(0, 0, 0, 0.3));\n",
              "      fill: #FFFFFF;\n",
              "    }\n",
              "  </style>\n",
              "\n",
              "      <script>\n",
              "        const buttonEl =\n",
              "          document.querySelector('#df-67660e07-2ecc-48f0-a897-3c48c48cbda4 button.colab-df-convert');\n",
              "        buttonEl.style.display =\n",
              "          google.colab.kernel.accessAllowed ? 'block' : 'none';\n",
              "\n",
              "        async function convertToInteractive(key) {\n",
              "          const element = document.querySelector('#df-67660e07-2ecc-48f0-a897-3c48c48cbda4');\n",
              "          const dataTable =\n",
              "            await google.colab.kernel.invokeFunction('convertToInteractive',\n",
              "                                                     [key], {});\n",
              "          if (!dataTable) return;\n",
              "\n",
              "          const docLinkHtml = 'Like what you see? Visit the ' +\n",
              "            '<a target=\"_blank\" href=https://colab.research.google.com/notebooks/data_table.ipynb>data table notebook</a>'\n",
              "            + ' to learn more about interactive tables.';\n",
              "          element.innerHTML = '';\n",
              "          dataTable['output_type'] = 'display_data';\n",
              "          await google.colab.output.renderOutput(dataTable, element);\n",
              "          const docLink = document.createElement('div');\n",
              "          docLink.innerHTML = docLinkHtml;\n",
              "          element.appendChild(docLink);\n",
              "        }\n",
              "      </script>\n",
              "    </div>\n",
              "  </div>\n",
              "  "
            ],
            "text/plain": [
              "        id                                              tweet label\n",
              "0        1  The CDC currently reports 99031 deaths. In gen...  real\n",
              "1        2  States reported 1121 deaths a small rise from ...  real\n",
              "2        3  Politically Correct Woman (Almost) Uses Pandem...  fake\n",
              "3        4  #IndiaFightsCorona: We have 1524 #COVID testin...  real\n",
              "4        5  Populous states can generate large case counts...  real\n",
              "...    ...                                                ...   ...\n",
              "6415  6416  A tiger tested positive for COVID-19 please st...  fake\n",
              "6416  6417  ???Autopsies prove that COVID-19 is??� a blood...  fake\n",
              "6417  6418  _A post claims a COVID-19 vaccine has already ...  fake\n",
              "6418  6419  Aamir Khan Donate 250 Cr. In PM Relief Cares Fund  fake\n",
              "6419  6420  It has been 93 days since the last case of COV...  real\n",
              "\n",
              "[6420 rows x 3 columns]"
            ]
          },
          "metadata": {},
          "execution_count": 174
        }
      ],
      "source": [
        "df"
      ]
    },
    {
      "cell_type": "markdown",
      "source": [
        "# Data cleaning"
      ],
      "metadata": {
        "id": "svD7uZt6PgxM"
      }
    },
    {
      "cell_type": "markdown",
      "metadata": {
        "id": "IuaXGYdlAK2B"
      },
      "source": [
        "**Hamronization**"
      ]
    },
    {
      "cell_type": "code",
      "execution_count": null,
      "metadata": {
        "id": "d8MREbtdBh1a"
      },
      "outputs": [],
      "source": [
        "def lowerTweet(tweet):\n",
        "    return tweet.lower()"
      ]
    },
    {
      "cell_type": "code",
      "execution_count": null,
      "metadata": {
        "id": "h10LTyP8AK2G",
        "colab": {
          "base_uri": "https://localhost:8080/",
          "height": 52
        },
        "outputId": "459bb351-8913-4488-88f7-db50ee9795d5"
      },
      "outputs": [
        {
          "output_type": "execute_result",
          "data": {
            "application/vnd.google.colaboratory.intrinsic+json": {
              "type": "string"
            },
            "text/plain": [
              "'The CDC currently reports 99031 deaths. In general the discrepancies in death counts between different sources are small and explicable. The death toll stands at roughly 100000 people today.'"
            ]
          },
          "metadata": {},
          "execution_count": 176
        }
      ],
      "source": [
        "df.tweet.loc[0]"
      ]
    },
    {
      "cell_type": "code",
      "execution_count": null,
      "metadata": {
        "id": "SMwYKRrWAK2H",
        "colab": {
          "base_uri": "https://localhost:8080/",
          "height": 52
        },
        "outputId": "387a6ad6-0f1b-4be7-fd99-58c5bbd7a3b9"
      },
      "outputs": [
        {
          "output_type": "execute_result",
          "data": {
            "application/vnd.google.colaboratory.intrinsic+json": {
              "type": "string"
            },
            "text/plain": [
              "'the cdc currently reports 99031 deaths. in general the discrepancies in death counts between different sources are small and explicable. the death toll stands at roughly 100000 people today.'"
            ]
          },
          "metadata": {},
          "execution_count": 177
        }
      ],
      "source": [
        "lowerTweet(df.tweet.loc[0])"
      ]
    },
    {
      "cell_type": "markdown",
      "metadata": {
        "id": "rT1UKNIwAK2J"
      },
      "source": [
        "**Remove URLS**"
      ]
    },
    {
      "cell_type": "code",
      "execution_count": null,
      "metadata": {
        "id": "4H6l4kg_Bh1d"
      },
      "outputs": [],
      "source": [
        "# In order to remove any URL within a string in Python, you can use this RegEx function :\n",
        "def removeURLs(tweet):\n",
        "        return re.sub(r'''(?i)\\b((?:https?://|www\\d{0,3}[.]|[a-z0-9.\\-]+[.][a-z]{2,4}/)(?:[^\\s()<>]+|\\(([^\\s()<>]+|(\\([^\\s()<>]+\\)))*\\))+(?:\\(([^\\s()<>]+|(\\([^\\s()<>]+\\)))*\\)|[^\\s`!()\\[\\]{};:'\".,<>?«»“”‘’]))''', \" \", tweet)\n"
      ]
    },
    {
      "cell_type": "code",
      "execution_count": null,
      "metadata": {
        "id": "96VIbAd_AK2L",
        "colab": {
          "base_uri": "https://localhost:8080/",
          "height": 52
        },
        "outputId": "5104ede5-8936-466b-ecb4-2c8192eb3990"
      },
      "outputs": [
        {
          "output_type": "execute_result",
          "data": {
            "application/vnd.google.colaboratory.intrinsic+json": {
              "type": "string"
            },
            "text/plain": [
              "'Populous states can generate large case counts but if you look at the new cases per million today 9 smaller states are showing more cases per million than California or Texas: AL AR ID KS KY LA MS NV and SC. https://t.co/1pYW6cWRaS'"
            ]
          },
          "metadata": {},
          "execution_count": 179
        }
      ],
      "source": [
        "df.loc[4,'tweet']"
      ]
    },
    {
      "cell_type": "code",
      "execution_count": null,
      "metadata": {
        "colab": {
          "base_uri": "https://localhost:8080/",
          "height": 52
        },
        "id": "jb4ZbzuGBh1g",
        "outputId": "ae626272-1a79-4c39-e9a1-cd30c2f5b417"
      },
      "outputs": [
        {
          "output_type": "execute_result",
          "data": {
            "application/vnd.google.colaboratory.intrinsic+json": {
              "type": "string"
            },
            "text/plain": [
              "'Populous states can generate large case counts but if you look at the new cases per million today 9 smaller states are showing more cases per million than California or Texas: AL AR ID KS KY LA MS NV and SC.  '"
            ]
          },
          "metadata": {},
          "execution_count": 180
        }
      ],
      "source": [
        "removeURLs(df.loc[4,'tweet'])"
      ]
    },
    {
      "cell_type": "markdown",
      "metadata": {
        "id": "XiUWKGfaBh1g"
      },
      "source": [
        "**Remove emojis**"
      ]
    },
    {
      "cell_type": "code",
      "execution_count": null,
      "metadata": {
        "colab": {
          "base_uri": "https://localhost:8080/",
          "height": 52
        },
        "id": "_nMd6A1uBh1h",
        "outputId": "dd971388-6e12-41a2-911a-cfea2317c921"
      },
      "outputs": [
        {
          "output_type": "execute_result",
          "data": {
            "application/vnd.google.colaboratory.intrinsic+json": {
              "type": "string"
            },
            "text/plain": [
              "'📢#CoronaVirusUpdates: 📍#COVID19 India Tracker (As on 7 September 2020 08:00 AM) ➡️Confirmed cases: 4204613 ➡️Recovered: 3250429 (77.3%)👍 ➡️Active cases: 882542 (21.0%) ➡️Deaths: 71642 (1.7%) #IndiaFightsCorona #IndiaWillWin #StaySafe Via @MoHFW_INDIA https://t.co/WVQslxqBPC'"
            ]
          },
          "metadata": {},
          "execution_count": 181
        }
      ],
      "source": [
        "#i took an example to work on \n",
        "example = df.loc[89,'tweet']\n",
        "example"
      ]
    },
    {
      "cell_type": "code",
      "execution_count": null,
      "metadata": {
        "id": "nBl6paisAK2O",
        "colab": {
          "base_uri": "https://localhost:8080/",
          "height": 122
        },
        "outputId": "735c5cab-6396-4ae9-99f8-a408ef42092f"
      },
      "outputs": [
        {
          "output_type": "execute_result",
          "data": {
            "application/vnd.google.colaboratory.intrinsic+json": {
              "type": "string"
            },
            "text/plain": [
              "'def remove_emoji(string):\\n    emoji_pattern = re.compile(\"[\"\\n                               u\"😀-🙏\"  # emoticons\\n                               u\"🌀-🗿\"  # symbols & pictographs\\n                               u\"🚀-\\U0001f6ff\"  # transport & map symbols\\n                               u\"\\U0001f1e0-🇿\"  # flags (iOS)\\n                               u\"─-⯯\"  # chinese char\\n                               u\"✂-➰\"\\n                               u\"✂-➰\"\\n                               u\"Ⓜ-🉑\"\\n                               u\"🤦-🤷\"\\n                               u\"𐀀-\\U0010ffff\"\\n                               u\"♀-♂\"\\n                               u\"☀-⭕\"\\n                               u\"\\u200d\"\\n                               u\"⏏\"\\n                               u\"⏩\"\\n                               u\"⌚\"\\n                               u\"️\"  # dingbats\\n                               u\"〰\"\\n                               \"]+\", flags=re.UNICODE)\\n    return emoji_pattern.sub(r\\'\\', string)\\nremove_emoji(df.loc[6416,\\'tweet\\'])'"
            ]
          },
          "metadata": {},
          "execution_count": 182
        }
      ],
      "source": [
        "# Remove all traces of emoji from a text file.\n",
        "\n",
        "'''def remove_emoji(string):\n",
        "    emoji_pattern = re.compile(\"[\"\n",
        "                               u\"\\U0001F600-\\U0001F64F\"  # emoticons\n",
        "                               u\"\\U0001F300-\\U0001F5FF\"  # symbols & pictographs\n",
        "                               u\"\\U0001F680-\\U0001F6FF\"  # transport & map symbols\n",
        "                               u\"\\U0001F1E0-\\U0001F1FF\"  # flags (iOS)\n",
        "                               u\"\\U00002500-\\U00002BEF\"  # chinese char\n",
        "                               u\"\\U00002702-\\U000027B0\"\n",
        "                               u\"\\U00002702-\\U000027B0\"\n",
        "                               u\"\\U000024C2-\\U0001F251\"\n",
        "                               u\"\\U0001f926-\\U0001f937\"\n",
        "                               u\"\\U00010000-\\U0010ffff\"\n",
        "                               u\"\\u2640-\\u2642\"\n",
        "                               u\"\\u2600-\\u2B55\"\n",
        "                               u\"\\u200d\"\n",
        "                               u\"\\u23cf\"\n",
        "                               u\"\\u23e9\"\n",
        "                               u\"\\u231a\"\n",
        "                               u\"\\ufe0f\"  # dingbats\n",
        "                               u\"\\u3030\"\n",
        "                               \"]+\", flags=re.UNICODE)\n",
        "    return emoji_pattern.sub(r'', string)\n",
        "remove_emoji(df.loc[6416,'tweet'])'''"
      ]
    },
    {
      "cell_type": "code",
      "execution_count": null,
      "metadata": {
        "id": "23hpmeK4Bh1j"
      },
      "outputs": [],
      "source": [
        "#the easiet solution we found is to turn text incode into ascii wich does not include emojis and ignore all other characters that are not defined on ascii encode\n",
        "#we use encode function which turns string into ascii code and ignoring none ascii characters\n",
        "#then decode to make the ascii code a string again\n",
        "def toAscii(tweet):\n",
        "  return  (tweet.encode('ascii',errors='ignore')).decode('ascii') \n"
      ]
    },
    {
      "cell_type": "code",
      "execution_count": null,
      "metadata": {
        "id": "5fC1-oelAK2Q",
        "colab": {
          "base_uri": "https://localhost:8080/",
          "height": 52
        },
        "outputId": "a7a1cdcf-4c14-4cca-9cae-b0258263465f"
      },
      "outputs": [
        {
          "output_type": "execute_result",
          "data": {
            "application/vnd.google.colaboratory.intrinsic+json": {
              "type": "string"
            },
            "text/plain": [
              "'#CoronaVirusUpdates: #COVID19 India Tracker (As on 7 September 2020 08:00 AM) Confirmed cases: 4204613 Recovered: 3250429 (77.3%) Active cases: 882542 (21.0%) Deaths: 71642 (1.7%) #IndiaFightsCorona #IndiaWillWin #StaySafe Via @MoHFW_INDIA https://t.co/WVQslxqBPC'"
            ]
          },
          "metadata": {},
          "execution_count": 184
        }
      ],
      "source": [
        "toAscii(example)"
      ]
    },
    {
      "cell_type": "markdown",
      "metadata": {
        "id": "fhWZSTsaAK2Q"
      },
      "source": [
        "**Remove punctuation**"
      ]
    },
    {
      "cell_type": "code",
      "execution_count": null,
      "metadata": {
        "id": "T_TEK1ZFAK2Q"
      },
      "outputs": [],
      "source": [
        "#removing all numbers ,ponctuation & special characters such as @ and #\n",
        "#refrence to https://www.kerryr.net/pioneers/ascii3.htm\n",
        "\n",
        "def removeSpecialChar(text):\n",
        "    text = list(text)\n",
        "    \n",
        "    #remove special character & ponctuations & numbers\n",
        "    listOfSpecialChars =  [*range(33,48),*range(58,65),*range(91,97),*range(123,127)]\n",
        "    listOfSpecialChars.remove(39) #dont include ' in the list\n",
        "    \n",
        "    text = [char for char in text if (ord(char) not in listOfSpecialChars and not char.isdigit())] \n",
        "    text = ''.join(text)\n",
        "    text = text.replace(\"'\",\" \")\n",
        "    \n",
        "    return text"
      ]
    },
    {
      "cell_type": "code",
      "execution_count": null,
      "metadata": {
        "id": "F6Xwd6YoAK2R",
        "colab": {
          "base_uri": "https://localhost:8080/",
          "height": 52
        },
        "outputId": "b5e7d2db-e78f-478a-92d4-d07b2e5d60db"
      },
      "outputs": [
        {
          "output_type": "execute_result",
          "data": {
            "application/vnd.google.colaboratory.intrinsic+json": {
              "type": "string"
            },
            "text/plain": [
              "\"More detail on this from one of @COVID19Tracking's sharpest observers @jordan_zino from @GavinNewsom's livestream. https://t.co/l2s3AloB28 https://t.co/oZuw8XckHd\""
            ]
          },
          "metadata": {},
          "execution_count": 186
        }
      ],
      "source": [
        "#lets test on this example\n",
        "df.loc[264].tweet"
      ]
    },
    {
      "cell_type": "code",
      "execution_count": null,
      "metadata": {
        "id": "1IdKq6JTAK2S",
        "colab": {
          "base_uri": "https://localhost:8080/",
          "height": 35
        },
        "outputId": "040bf1df-f491-4e5c-f288-e6a241dc061a"
      },
      "outputs": [
        {
          "output_type": "execute_result",
          "data": {
            "application/vnd.google.colaboratory.intrinsic+json": {
              "type": "string"
            },
            "text/plain": [
              "'More detail on this from one of COVIDTracking s sharpest observers jordanzino from GavinNewsom s livestream httpstcolsAloB httpstcooZuwXckHd'"
            ]
          },
          "metadata": {},
          "execution_count": 187
        }
      ],
      "source": [
        "removeSpecialChar(df.loc[264].tweet)"
      ]
    },
    {
      "cell_type": "code",
      "source": [
        "removeSpecialChar('i\\'ll see')"
      ],
      "metadata": {
        "colab": {
          "base_uri": "https://localhost:8080/",
          "height": 35
        },
        "id": "ZoQT6t4cLJaQ",
        "outputId": "08f342bb-e5b6-492d-f01f-0d27213614c7"
      },
      "execution_count": null,
      "outputs": [
        {
          "output_type": "execute_result",
          "data": {
            "application/vnd.google.colaboratory.intrinsic+json": {
              "type": "string"
            },
            "text/plain": [
              "'i ll see'"
            ]
          },
          "metadata": {},
          "execution_count": 188
        }
      ]
    },
    {
      "cell_type": "markdown",
      "metadata": {
        "id": "S4rmI9gQBh1r"
      },
      "source": [
        "**Data** **Preprocessing**:"
      ]
    },
    {
      "cell_type": "code",
      "execution_count": null,
      "metadata": {
        "id": "juS8Upz8Bh1s"
      },
      "outputs": [],
      "source": [
        "\n",
        "# def preprocess(text):\n",
        "  # lowercase the text\n",
        "  # text=text.lower()\n",
        "  # remove the words counting just one letter\n",
        "  # text = [t for t in text.split(\" \") if len(t) > 1]\n",
        "  # text = re.sub('https?://\\S+|www\\.\\S+', '', text)\n",
        "  # return text\n"
      ]
    },
    {
      "cell_type": "code",
      "execution_count": null,
      "metadata": {
        "id": "qJ7PX2UbBh1t"
      },
      "outputs": [],
      "source": [
        "# df = pd.read_excel(\"/content/drive/MyDrive/PROJET_IA/Data-FakeRealCOVID.xlsx\")\n",
        "\n",
        "# df['tweet']=df['tweet'].apply(preprocess)"
      ]
    },
    {
      "cell_type": "code",
      "execution_count": null,
      "metadata": {
        "id": "ODA_kQ4GBh1z"
      },
      "outputs": [],
      "source": [
        "def preprocess(text):\n",
        "    text = lowerTweet(text)\n",
        "    text = removeURLs(text)\n",
        "    text = toAscii(text)\n",
        "    text = removeSpecialChar(text)\n",
        "    return text"
      ]
    },
    {
      "cell_type": "code",
      "execution_count": null,
      "metadata": {
        "colab": {
          "base_uri": "https://localhost:8080/",
          "height": 52
        },
        "id": "BbkXq8umBh10",
        "outputId": "01918ef6-997b-4b48-a35c-5dbca1aff577"
      },
      "outputs": [
        {
          "output_type": "execute_result",
          "data": {
            "application/vnd.google.colaboratory.intrinsic+json": {
              "type": "string"
            },
            "text/plain": [
              "'Children under 18 years represent about 8.5% of reported #COVID19 cases with few deaths compared to other age groups &amp; usually mild disease. 👉 https://t.co/Cs7uxQRRMN https://t.co/l4gqfttYmg'"
            ]
          },
          "metadata": {},
          "execution_count": 192
        }
      ],
      "source": [
        "df.loc[209,'tweet']"
      ]
    },
    {
      "cell_type": "code",
      "execution_count": null,
      "metadata": {
        "colab": {
          "base_uri": "https://localhost:8080/",
          "height": 35
        },
        "id": "MoYV-TKYBh11",
        "outputId": "8916ec99-0a79-4e48-f34c-1f550ed6c3ee"
      },
      "outputs": [
        {
          "output_type": "execute_result",
          "data": {
            "application/vnd.google.colaboratory.intrinsic+json": {
              "type": "string"
            },
            "text/plain": [
              "'children under  years represent about  of reported covid cases with few deaths compared to other age groups amp usually mild disease     '"
            ]
          },
          "metadata": {},
          "execution_count": 193
        }
      ],
      "source": [
        "preprocess(df.loc[209,'tweet'])"
      ]
    },
    {
      "cell_type": "markdown",
      "source": [
        "# Tokenization"
      ],
      "metadata": {
        "id": "bZ6unuXQQQsf"
      }
    },
    {
      "cell_type": "markdown",
      "metadata": {
        "id": "6oZ8nAmpAK2W"
      },
      "source": [
        "**Tokenize**"
      ]
    },
    {
      "cell_type": "code",
      "execution_count": null,
      "metadata": {
        "id": "_bcp7KTQAK2W",
        "colab": {
          "base_uri": "https://localhost:8080/"
        },
        "outputId": "25294d80-523c-415f-b3ad-f2d8a472f3e8"
      },
      "outputs": [
        {
          "output_type": "stream",
          "name": "stdout",
          "text": [
            "[nltk_data] Downloading package punkt to /root/nltk_data...\n",
            "[nltk_data]   Package punkt is already up-to-date!\n"
          ]
        },
        {
          "output_type": "execute_result",
          "data": {
            "text/plain": [
              "True"
            ]
          },
          "metadata": {},
          "execution_count": 194
        }
      ],
      "source": [
        "nk.download('punkt')"
      ]
    },
    {
      "cell_type": "code",
      "execution_count": null,
      "metadata": {
        "id": "Edze_HVqAK2W"
      },
      "outputs": [],
      "source": [
        "def tokenize(text):\n",
        "    return nk.word_tokenize(text)"
      ]
    },
    {
      "cell_type": "code",
      "execution_count": null,
      "metadata": {
        "id": "27cbSYoQAK2X",
        "colab": {
          "base_uri": "https://localhost:8080/",
          "height": 52
        },
        "outputId": "2f7bd5be-b328-4c65-cb07-453c2ec60cc2"
      },
      "outputs": [
        {
          "output_type": "execute_result",
          "data": {
            "application/vnd.google.colaboratory.intrinsic+json": {
              "type": "string"
            },
            "text/plain": [
              "'132 new cases of #COVID19Nigeria; Lagos-52 Gombe-27 Plateau-17 Kwara-10 Enugu-9 Ogun-9 Katsina-3 Ekiti-2 Bauchi-1 Osun-1 Rivers-1 56388 confirmed 44337 discharged 1083 deaths https://t.co/Enpey5u7xh'"
            ]
          },
          "metadata": {},
          "execution_count": 196
        }
      ],
      "source": [
        "df.loc[51,'tweet']"
      ]
    },
    {
      "cell_type": "code",
      "execution_count": null,
      "metadata": {
        "id": "qkWFJCQHAK2X",
        "colab": {
          "base_uri": "https://localhost:8080/"
        },
        "outputId": "c71c31ff-6605-473c-c19a-e15d72d5a6ce"
      },
      "outputs": [
        {
          "output_type": "execute_result",
          "data": {
            "text/plain": [
              "['new',\n",
              " 'cases',\n",
              " 'of',\n",
              " 'covidnigeria',\n",
              " 'lagos',\n",
              " 'gombe',\n",
              " 'plateau',\n",
              " 'kwara',\n",
              " 'enugu',\n",
              " 'ogun',\n",
              " 'katsina',\n",
              " 'ekiti',\n",
              " 'bauchi',\n",
              " 'osun',\n",
              " 'rivers',\n",
              " 'confirmed',\n",
              " 'discharged',\n",
              " 'deaths']"
            ]
          },
          "metadata": {},
          "execution_count": 197
        }
      ],
      "source": [
        "tokenize(preprocess(df.loc[51,'tweet']))"
      ]
    },
    {
      "cell_type": "code",
      "source": [
        "tokenize('i\\'ll see what would this give me')"
      ],
      "metadata": {
        "colab": {
          "base_uri": "https://localhost:8080/"
        },
        "id": "WkCjKE6rLYrU",
        "outputId": "888d1352-e7b2-45b2-eb3c-3d4035aad6cd"
      },
      "execution_count": null,
      "outputs": [
        {
          "output_type": "execute_result",
          "data": {
            "text/plain": [
              "['i', \"'ll\", 'see', 'what', 'would', 'this', 'give', 'me']"
            ]
          },
          "metadata": {},
          "execution_count": 198
        }
      ]
    },
    {
      "cell_type": "markdown",
      "source": [
        "# Reduce dimension"
      ],
      "metadata": {
        "id": "Pv0ovHzLQ5Nw"
      }
    },
    {
      "cell_type": "markdown",
      "source": [
        "**Remove one letter words**"
      ],
      "metadata": {
        "id": "Xvtmhi-0TKVK"
      }
    },
    {
      "cell_type": "code",
      "source": [
        "def removeLetter(tokens):\n",
        "    return [token for token in tokens if  len(token) != 1]"
      ],
      "metadata": {
        "id": "zxzpbd_ETP7-"
      },
      "execution_count": null,
      "outputs": []
    },
    {
      "cell_type": "markdown",
      "metadata": {
        "id": "7w0yzUVTAK2S"
      },
      "source": [
        "**Remove stopWords**"
      ]
    },
    {
      "cell_type": "code",
      "execution_count": null,
      "metadata": {
        "id": "25i_Ef2-AK2T",
        "colab": {
          "base_uri": "https://localhost:8080/"
        },
        "outputId": "10f1f384-2198-4c41-ee13-00cce61e95f4"
      },
      "outputs": [
        {
          "output_type": "stream",
          "name": "stdout",
          "text": [
            "[nltk_data] Downloading package stopwords to /root/nltk_data...\n",
            "[nltk_data]   Package stopwords is already up-to-date!\n"
          ]
        }
      ],
      "source": [
        "nk.download('stopwords')\n",
        "\n",
        "from nltk.corpus import stopwords"
      ]
    },
    {
      "cell_type": "code",
      "execution_count": null,
      "metadata": {
        "id": "uF2Jpr9YAK2T"
      },
      "outputs": [],
      "source": [
        "def removeStopWords(listOfTokens):\n",
        "    sw = stopwords.words(\"english\")\n",
        "    return [token for token in listOfTokens if token not in sw]"
      ]
    },
    {
      "cell_type": "code",
      "execution_count": null,
      "metadata": {
        "id": "SjkwLOvwAK2U",
        "colab": {
          "base_uri": "https://localhost:8080/",
          "height": 52
        },
        "outputId": "cb0e36cc-c09c-4f0b-bdbb-318a2986a3ed"
      },
      "outputs": [
        {
          "output_type": "execute_result",
          "data": {
            "application/vnd.google.colaboratory.intrinsic+json": {
              "type": "string"
            },
            "text/plain": [
              "'132 new cases of #COVID19Nigeria; Lagos-52 Gombe-27 Plateau-17 Kwara-10 Enugu-9 Ogun-9 Katsina-3 Ekiti-2 Bauchi-1 Osun-1 Rivers-1 56388 confirmed 44337 discharged 1083 deaths https://t.co/Enpey5u7xh'"
            ]
          },
          "metadata": {},
          "execution_count": 202
        }
      ],
      "source": [
        "df.loc[51].tweet"
      ]
    },
    {
      "cell_type": "code",
      "execution_count": null,
      "metadata": {
        "id": "pr4WOn-QAK2U",
        "colab": {
          "base_uri": "https://localhost:8080/"
        },
        "outputId": "39156379-7c92-4856-fed6-93a90a762bce"
      },
      "outputs": [
        {
          "output_type": "execute_result",
          "data": {
            "text/plain": [
              "['new',\n",
              " 'cases',\n",
              " 'covidnigeria',\n",
              " 'lagos',\n",
              " 'gombe',\n",
              " 'plateau',\n",
              " 'kwara',\n",
              " 'enugu',\n",
              " 'ogun',\n",
              " 'katsina',\n",
              " 'ekiti',\n",
              " 'bauchi',\n",
              " 'osun',\n",
              " 'rivers',\n",
              " 'confirmed',\n",
              " 'discharged',\n",
              " 'deaths']"
            ]
          },
          "metadata": {},
          "execution_count": 203
        }
      ],
      "source": [
        "removeStopWords(tokenize(preprocess(df.loc[51].tweet)))"
      ]
    },
    {
      "cell_type": "markdown",
      "source": [
        "**reduce dimension**\n"
      ],
      "metadata": {
        "id": "FwwEnxg_UFEE"
      }
    },
    {
      "cell_type": "code",
      "source": [
        "def reduceDim(tokens):\n",
        "    tokens = removeStopWords(tokens)\n",
        "    tokens = removeLetter(tokens)\n",
        "    return tokens"
      ],
      "metadata": {
        "id": "3giRXlL4UJA0"
      },
      "execution_count": null,
      "outputs": []
    },
    {
      "cell_type": "markdown",
      "source": [
        "**Bag of Words**"
      ],
      "metadata": {
        "id": "OrBhTTHKHivv"
      }
    },
    {
      "cell_type": "code",
      "execution_count": null,
      "metadata": {
        "id": "Yz5P-tXXAK2X"
      },
      "outputs": [],
      "source": [
        "def bagOfWords(df):\n",
        "    tokens = []\n",
        "    bag = {}\n",
        "    for tweet in df.tweet:\n",
        "        tokens += reduceDim(tokenize(preprocess(tweet)))\n",
        "    for token in tokens:\n",
        "        if token not in bag.keys():\n",
        "            bag[token] = 1\n",
        "        else:\n",
        "            bag[token] += 1\n",
        "    return bag"
      ]
    },
    {
      "cell_type": "code",
      "execution_count": null,
      "metadata": {
        "id": "MzSoYzC1AK2Y",
        "colab": {
          "base_uri": "https://localhost:8080/"
        },
        "outputId": "35ad7486-6116-4f63-d3a4-0efe03a2b85d"
      },
      "outputs": [
        {
          "output_type": "execute_result",
          "data": {
            "text/plain": [
              "{'cdc': 159,\n",
              " 'currently': 81,\n",
              " 'reports': 84,\n",
              " 'deaths': 646,\n",
              " 'general': 26,\n",
              " 'discrepancies': 1,\n",
              " 'death': 168,\n",
              " 'counts': 15,\n",
              " 'different': 50,\n",
              " 'sources': 10,\n",
              " 'small': 29,\n",
              " 'explicable': 1,\n",
              " 'toll': 31,\n",
              " 'stands': 38,\n",
              " 'roughly': 10,\n",
              " 'people': 749,\n",
              " 'today': 395,\n",
              " 'states': 569,\n",
              " 'reported': 478,\n",
              " 'rise': 53,\n",
              " 'last': 226,\n",
              " 'tuesday': 16,\n",
              " 'southern': 6,\n",
              " 'politically': 2,\n",
              " 'correct': 9,\n",
              " 'woman': 51,\n",
              " 'almost': 40,\n",
              " 'uses': 5,\n",
              " 'pandemic': 311,\n",
              " 'excuse': 6,\n",
              " 'reuse': 1,\n",
              " 'plastic': 6,\n",
              " 'bag': 4,\n",
              " 'coronavirus': 1651,\n",
              " 'nashville': 16,\n",
              " 'indiafightscorona': 320,\n",
              " 'covid': 3855,\n",
              " 'testing': 467,\n",
              " 'laboratories': 74,\n",
              " 'india': 476,\n",
              " 'th': 122,\n",
              " 'august': 73,\n",
              " 'tests': 697,\n",
              " 'done': 45,\n",
              " 'profbhargava': 7,\n",
              " 'dg': 11,\n",
              " 'icmrdelhi': 105,\n",
              " 'staysafe': 137,\n",
              " 'indiawillwin': 116,\n",
              " 'populous': 2,\n",
              " 'generate': 2,\n",
              " 'large': 44,\n",
              " 'case': 297,\n",
              " 'look': 25,\n",
              " 'new': 1092,\n",
              " 'cases': 1722,\n",
              " 'per': 138,\n",
              " 'million': 189,\n",
              " 'smaller': 7,\n",
              " 'showing': 37,\n",
              " 'california': 60,\n",
              " 'texas': 53,\n",
              " 'al': 2,\n",
              " 'ar': 2,\n",
              " 'id': 4,\n",
              " 'ks': 3,\n",
              " 'ky': 3,\n",
              " 'la': 14,\n",
              " 'ms': 5,\n",
              " 'nv': 5,\n",
              " 'sc': 3,\n",
              " 'act': 47,\n",
              " 'found': 88,\n",
              " 'average': 115,\n",
              " 'person': 102,\n",
              " 'illinois': 11,\n",
              " 'infecting': 11,\n",
              " 'data': 273,\n",
              " 'shows': 191,\n",
              " 'infection': 97,\n",
              " 'growth': 11,\n",
              " 'rate': 215,\n",
              " 'declined': 12,\n",
              " 'time': 149,\n",
              " 'factors': 11,\n",
              " 'stayathome': 24,\n",
              " 'order': 33,\n",
              " 'restrictions': 82,\n",
              " 'put': 41,\n",
              " 'place': 34,\n",
              " 'tested': 265,\n",
              " 'positive': 262,\n",
              " 'symptoms': 118,\n",
              " 'stay': 95,\n",
              " 'home': 156,\n",
              " 'away': 45,\n",
              " 'learn': 128,\n",
              " 'cdcs': 15,\n",
              " 'recommendations': 13,\n",
              " 'around': 92,\n",
              " 'others': 90,\n",
              " 'obama': 28,\n",
              " 'calls': 11,\n",
              " 'trumps': 12,\n",
              " 'response': 67,\n",
              " 'chaotic': 1,\n",
              " 'disaster': 17,\n",
              " 'clearly': 9,\n",
              " 'administration': 29,\n",
              " 'leave': 11,\n",
              " 'kind': 13,\n",
              " 'game': 9,\n",
              " 'plan': 47,\n",
              " 'something': 22,\n",
              " 'like': 125,\n",
              " 'retractionhydroxychloroquine': 1,\n",
              " 'chloroquine': 42,\n",
              " 'without': 51,\n",
              " 'macrolide': 3,\n",
              " 'treatment': 84,\n",
              " 'multinational': 2,\n",
              " 'registry': 5,\n",
              " 'analysis': 18,\n",
              " 'lancet': 3,\n",
              " 'take': 132,\n",
              " 'simple': 14,\n",
              " 'daily': 234,\n",
              " 'precautions': 12,\n",
              " 'help': 152,\n",
              " 'prevent': 94,\n",
              " 'spread': 221,\n",
              " 'respiratory': 29,\n",
              " 'illnesses': 17,\n",
              " 'protect': 104,\n",
              " 'nba': 7,\n",
              " 'poised': 1,\n",
              " 'restart': 1,\n",
              " 'month': 23,\n",
              " 'march': 89,\n",
              " 'utah': 5,\n",
              " 'jazz': 2,\n",
              " 'got': 32,\n",
              " 'matter': 12,\n",
              " 'hours': 107,\n",
              " 'us': 302,\n",
              " 'sluggish': 2,\n",
              " 'announced': 59,\n",
              " 'first': 165,\n",
              " 'participants': 4,\n",
              " 'age': 34,\n",
              " 'cohort': 1,\n",
              " 'dosed': 1,\n",
              " 'phase': 36,\n",
              " 'study': 79,\n",
              " 'mrna': 10,\n",
              " 'vaccine': 286,\n",
              " 'novel': 108,\n",
              " 'read': 97,\n",
              " 'coronavirusupdates': 171,\n",
              " 'lakh': 133,\n",
              " 'rd': 18,\n",
              " 'successive': 4,\n",
              " 'day': 302,\n",
              " 'cumulative': 38,\n",
              " 'date': 107,\n",
              " 'reached': 20,\n",
              " 'tpm': 11,\n",
              " 'cross': 39,\n",
              " 'using': 64,\n",
              " 'public': 145,\n",
              " 'transportation': 9,\n",
              " 'practice': 26,\n",
              " 'social': 119,\n",
              " 'distancing': 80,\n",
              " 'avoid': 44,\n",
              " 'touching': 6,\n",
              " 'surfaces': 9,\n",
              " 'hand': 18,\n",
              " 'hygiene': 10,\n",
              " 'till': 45,\n",
              " 'total': 540,\n",
              " 'amp': 461,\n",
              " 'related': 47,\n",
              " 'manipur': 2,\n",
              " 'covidindia': 31,\n",
              " 'covidupdates': 45,\n",
              " 'coronaupdates': 39,\n",
              " 'corona': 141,\n",
              " 'coronavirusindia': 63,\n",
              " 'coronaviruspandemic': 28,\n",
              " 'donald': 92,\n",
              " 'trump': 247,\n",
              " 'negligence': 4,\n",
              " 'incompetence': 3,\n",
              " 'died': 129,\n",
              " 'nearly': 51,\n",
              " 'americans': 41,\n",
              " 'work': 101,\n",
              " 'yet': 58,\n",
              " 'hes': 10,\n",
              " 'patting': 1,\n",
              " 'back': 83,\n",
              " 'unbelievable': 2,\n",
              " 'continues': 49,\n",
              " 'scale': 16,\n",
              " 'peaks': 7,\n",
              " 'samples': 68,\n",
              " 'consecutive': 13,\n",
              " 'days': 258,\n",
              " 'country': 162,\n",
              " 'achieved': 1,\n",
              " 'levels': 38,\n",
              " 'high': 130,\n",
              " 'pmoindia': 43,\n",
              " 'drharshvardhan': 97,\n",
              " 'ashwinikchoubey': 30,\n",
              " 'pibindia': 83,\n",
              " 'ddnewslive': 32,\n",
              " 'shipped': 2,\n",
              " 'vials': 1,\n",
              " 'companys': 3,\n",
              " 'nih': 14,\n",
              " 'used': 83,\n",
              " 'planned': 9,\n",
              " 'multiple': 49,\n",
              " 'facebook': 105,\n",
              " 'posts': 58,\n",
              " 'claim': 128,\n",
              " 'aussies': 1,\n",
              " 'fined': 4,\n",
              " 'talking': 5,\n",
              " 'conspiracies': 1,\n",
              " 'included': 12,\n",
              " 'screenshot': 4,\n",
              " 'segment': 2,\n",
              " 'australian': 5,\n",
              " 'breakfast': 5,\n",
              " 'television': 5,\n",
              " 'show': 73,\n",
              " 'evidence': 63,\n",
              " 'nobel': 10,\n",
              " 'prize': 3,\n",
              " 'laureate': 6,\n",
              " 'tasuku': 8,\n",
              " 'honjo': 10,\n",
              " 'say': 50,\n",
              " 'natural': 10,\n",
              " 'post': 70,\n",
              " 'claims': 135,\n",
              " 'fact': 40,\n",
              " 'professor': 14,\n",
              " 'said': 160,\n",
              " 'greatly': 2,\n",
              " 'saddened': 2,\n",
              " 'name': 14,\n",
              " 'misinformation': 30,\n",
              " 'latest': 131,\n",
              " 'coronacheck': 16,\n",
              " 'nz': 35,\n",
              " 'tracker': 28,\n",
              " 'app': 23,\n",
              " 'remain': 53,\n",
              " 'important': 70,\n",
              " 'useful': 10,\n",
              " 'alert': 35,\n",
              " 'level': 76,\n",
              " 'encouraged': 11,\n",
              " 'download': 5,\n",
              " 'similar': 17,\n",
              " 'one': 333,\n",
              " 'keep': 73,\n",
              " 'record': 66,\n",
              " 'youre': 18,\n",
              " 'going': 70,\n",
              " 'breaking': 45,\n",
              " 'news': 175,\n",
              " 'president': 175,\n",
              " 'cryill': 1,\n",
              " 'ramaphosa': 1,\n",
              " 'asked': 29,\n",
              " 'foreign': 5,\n",
              " 'nations': 23,\n",
              " 'depart': 1,\n",
              " 'south': 66,\n",
              " 'africa': 18,\n",
              " 'june': 59,\n",
              " 'due': 157,\n",
              " 'increasing': 46,\n",
              " 'delighted': 1,\n",
              " 'uppermiddle': 1,\n",
              " 'countries': 107,\n",
              " 'economies': 9,\n",
              " 'confirmed': 515,\n",
              " 'participate': 2,\n",
              " 'covax': 27,\n",
              " 'facility': 75,\n",
              " 'number': 535,\n",
              " 'growing': 25,\n",
              " 'urge': 8,\n",
              " 'joined': 5,\n",
              " 'septemberdrtedros': 1,\n",
              " 'intriguing': 2,\n",
              " 'possibility': 3,\n",
              " 'mood': 1,\n",
              " 'changes': 19,\n",
              " 'anxiety': 5,\n",
              " 'may': 234,\n",
              " 'function': 6,\n",
              " 'invasion': 2,\n",
              " 'cns': 3,\n",
              " 'brain': 7,\n",
              " 'elon': 1,\n",
              " 'musck': 1,\n",
              " 'baby': 18,\n",
              " 'get': 171,\n",
              " 'job': 29,\n",
              " 'kid': 1,\n",
              " 'christmas': 3,\n",
              " 'elonmusk': 1,\n",
              " 'achristmascarol': 1,\n",
              " 'alcoholfree': 1,\n",
              " 'sanitizer': 7,\n",
              " 'developed': 45,\n",
              " 'dedan': 1,\n",
              " 'kimathi': 1,\n",
              " 'university': 33,\n",
              " 'kenya': 6,\n",
              " 'appendix': 2,\n",
              " 'gathering': 15,\n",
              " 'state': 356,\n",
              " 'orders': 20,\n",
              " 'huge': 25,\n",
              " 'chunk': 1,\n",
              " 'goes': 14,\n",
              " 'evaluation': 5,\n",
              " 'accessibility': 1,\n",
              " 'yesterday': 191,\n",
              " 'completed': 148,\n",
              " 'managed': 113,\n",
              " 'isolation': 170,\n",
              " 'quarantine': 111,\n",
              " 'routine': 18,\n",
              " 'either': 16,\n",
              " 'brings': 34,\n",
              " 'reusing': 1,\n",
              " 'masks': 126,\n",
              " 'vaporized': 1,\n",
              " 'hydrogen': 1,\n",
              " 'peroxide': 1,\n",
              " 'uv': 3,\n",
              " 'light': 3,\n",
              " 'heat': 4,\n",
              " 'effective': 55,\n",
              " 'sanitizers': 4,\n",
              " 'realdonaldtrump': 20,\n",
              " 'shifted': 3,\n",
              " 'focus': 16,\n",
              " 'moments': 6,\n",
              " 'coronavirusoutbreak': 7,\n",
              " 'updated': 33,\n",
              " 'running': 4,\n",
              " 'timeline': 7,\n",
              " 'virus': 310,\n",
              " 'reply': 1,\n",
              " 'recent': 49,\n",
              " 'think': 44,\n",
              " 'belong': 6,\n",
              " 'list': 30,\n",
              " 'doctored': 2,\n",
              " 'image': 47,\n",
              " 'shared': 62,\n",
              " 'claiming': 34,\n",
              " 'chant': 1,\n",
              " 'hare': 2,\n",
              " 'krishna': 1,\n",
              " 'rama': 1,\n",
              " 'fourthofjuly': 1,\n",
              " 'weekend': 35,\n",
              " 'choose': 8,\n",
              " 'spend': 5,\n",
              " 'outdoors': 1,\n",
              " 'event': 13,\n",
              " 'ft': 12,\n",
              " 'apart': 14,\n",
              " 'wear': 85,\n",
              " 'cloth': 36,\n",
              " 'face': 107,\n",
              " 'cover': 15,\n",
              " 'slow': 58,\n",
              " 'recommends': 14,\n",
              " 'mothers': 8,\n",
              " 'stop': 55,\n",
              " 'breastfeeding': 5,\n",
              " 'boost': 8,\n",
              " 'efficacy': 5,\n",
              " 'singapore': 4,\n",
              " 'airlines': 6,\n",
              " 'haults': 1,\n",
              " 'flights': 5,\n",
              " 'outbreak': 119,\n",
              " 'florida': 62,\n",
              " 'governor': 24,\n",
              " 'ron': 3,\n",
              " 'desantis': 3,\n",
              " 'botches': 1,\n",
              " 'banning': 6,\n",
              " 'beer': 8,\n",
              " 'flatten': 1,\n",
              " 'curve': 8,\n",
              " 'apologise': 8,\n",
              " 'government': 170,\n",
              " 'ekiti': 74,\n",
              " 'error': 16,\n",
              " 'committed': 16,\n",
              " 'improving': 5,\n",
              " 'quality': 8,\n",
              " 'control': 49,\n",
              " 'processes': 4,\n",
              " 'ensure': 40,\n",
              " 'accurate': 11,\n",
              " 'transparent': 3,\n",
              " 'reporting': 135,\n",
              " 'nyt': 2,\n",
              " 'invented': 3,\n",
              " 'video': 212,\n",
              " 'doctor': 86,\n",
              " 'fighting': 7,\n",
              " 'hospital': 271,\n",
              " 'break': 14,\n",
              " 'alone': 18,\n",
              " 'cough': 22,\n",
              " 'directly': 5,\n",
              " 'onto': 5,\n",
              " 'launched': 19,\n",
              " 'solidarity': 5,\n",
              " 'fund': 17,\n",
              " 'far': 69,\n",
              " 'mobilized': 2,\n",
              " 'individuals': 12,\n",
              " 'companies': 5,\n",
              " 'philanthropies': 1,\n",
              " 'addition': 9,\n",
              " 'billion': 19,\n",
              " 'member': 19,\n",
              " 'generous': 2,\n",
              " 'support': 46,\n",
              " 'countriesdrtedros': 10,\n",
              " 'football': 3,\n",
              " 'player': 5,\n",
              " 'cristiano': 4,\n",
              " 'ronaldo': 5,\n",
              " 'turned': 4,\n",
              " 'hotels': 12,\n",
              " 'hospitals': 84,\n",
              " 'patients': 294,\n",
              " 'paying': 8,\n",
              " 'doctors': 83,\n",
              " 'staff': 63,\n",
              " 'including': 66,\n",
              " 'asymptomatic': 35,\n",
              " 'workers': 69,\n",
              " 'involved': 9,\n",
              " 'airport': 15,\n",
              " 'border': 13,\n",
              " 'part': 64,\n",
              " 'wider': 3,\n",
              " 'surveillance': 31,\n",
              " 'measures': 84,\n",
              " 'expected': 14,\n",
              " 'operational': 1,\n",
              " 'early': 59,\n",
              " 'july': 85,\n",
              " 'want': 43,\n",
              " 'national': 104,\n",
              " 'lockdown': 227,\n",
              " 'progress': 23,\n",
              " 'uk': 100,\n",
              " 'pm': 156,\n",
              " 'says': 284,\n",
              " 'govt': 46,\n",
              " 'insists': 10,\n",
              " 'second': 70,\n",
              " 'update': 285,\n",
              " 'published': 142,\n",
              " 'recoveries': 142,\n",
              " 'exceeded': 12,\n",
              " 'top': 26,\n",
              " 'active': 226,\n",
              " 'caseload': 6,\n",
              " 'also': 199,\n",
              " 'ones': 28,\n",
              " 'presently': 4,\n",
              " 'current': 70,\n",
              " 'capacity': 96,\n",
              " 'gives': 20,\n",
              " 'excess': 17,\n",
              " 'next': 63,\n",
              " 'week': 158,\n",
              " 'projecting': 7,\n",
              " 'arrivals': 7,\n",
              " 'departures': 7,\n",
              " 'facilities': 104,\n",
              " 'schools': 50,\n",
              " 'struggling': 6,\n",
              " 'cope': 7,\n",
              " 'lack': 20,\n",
              " 'infections': 68,\n",
              " 'since': 166,\n",
              " 'became': 6,\n",
              " 'compulsory': 5,\n",
              " 'pupils': 5,\n",
              " 'return': 17,\n",
              " 'child': 31,\n",
              " 'explainer': 1,\n",
              " 'scientists': 49,\n",
              " 'astrazeneca': 3,\n",
              " 'complain': 3,\n",
              " 'keeps': 10,\n",
              " 'delayed': 5,\n",
              " 'noddy': 1,\n",
              " 'holder': 1,\n",
              " 'ringing': 1,\n",
              " 'ask': 12,\n",
              " 'ready': 25,\n",
              " 'widely': 11,\n",
              " 'mask': 99,\n",
              " 'incl': 3,\n",
              " 'wearamask': 12,\n",
              " 'doyourpart': 1,\n",
              " 'worldmaskweek': 5,\n",
              " 'covidnigeria': 102,\n",
              " 'lagos': 173,\n",
              " 'gombe': 70,\n",
              " 'plateau': 90,\n",
              " 'kwara': 68,\n",
              " 'enugu': 75,\n",
              " 'ogun': 128,\n",
              " 'katsina': 65,\n",
              " 'bauchi': 92,\n",
              " 'osun': 79,\n",
              " 'rivers': 97,\n",
              " 'discharged': 157,\n",
              " 'already': 50,\n",
              " 'heres': 13,\n",
              " 'test': 251,\n",
              " 'rt': 266,\n",
              " 'mohfwindia': 162,\n",
              " 'sustained': 10,\n",
              " 'surges': 4,\n",
              " 'ahead': 16,\n",
              " 'highest': 86,\n",
              " 'single': 50,\n",
              " 'recovery': 99,\n",
              " 'nearl': 1,\n",
              " 'italy': 73,\n",
              " 'surrendered': 3,\n",
              " 'exhausted': 3,\n",
              " 'forced': 15,\n",
              " 'protective': 21,\n",
              " 'medical': 107,\n",
              " 'donaldtrump': 60,\n",
              " 'cia': 2,\n",
              " 'fbi': 4,\n",
              " 'iud': 1,\n",
              " 'ellencutch': 2,\n",
              " 'moving': 14,\n",
              " 'offline': 3,\n",
              " 'reddit': 1,\n",
              " 'user': 7,\n",
              " 'posted': 17,\n",
              " 'flyer': 1,\n",
              " 'site': 12,\n",
              " 'told': 23,\n",
              " 'delive': 1,\n",
              " 'orwell': 2,\n",
              " 'dead': 28,\n",
              " 'living': 25,\n",
              " 'bridge': 2,\n",
              " 'continued': 16,\n",
              " 'toiletpaper': 4,\n",
              " 'georgeorwell': 1,\n",
              " 'residents': 26,\n",
              " 'york': 84,\n",
              " 'rule': 17,\n",
              " 'allows': 9,\n",
              " 'england': 43,\n",
              " 'fail': 5,\n",
              " 'selfisolate': 14,\n",
              " 'click': 10,\n",
              " 'central': 17,\n",
              " 'given': 33,\n",
              " 'permission': 8,\n",
              " 'reopen': 26,\n",
              " 'approved': 21,\n",
              " 'labs': 82,\n",
              " 'consist': 1,\n",
              " 'pvt': 8,\n",
              " 'covidtesting': 2,\n",
              " 'come': 52,\n",
              " 'pressure': 8,\n",
              " 'availability': 17,\n",
              " 'fewer': 14,\n",
              " 'kids': 16,\n",
              " 'dying': 23,\n",
              " 'white': 35,\n",
              " 'paper': 13,\n",
              " 'examines': 3,\n",
              " 'although': 15,\n",
              " 'affected': 38,\n",
              " 'continue': 86,\n",
              " 'see': 222,\n",
              " 'intense': 6,\n",
              " 'transmission': 60,\n",
              " 'relatively': 7,\n",
              " 'group': 44,\n",
              " 'justin': 4,\n",
              " 'trudeau': 5,\n",
              " 'resigns': 1,\n",
              " 'amidst': 4,\n",
              " 'george': 4,\n",
              " 'soros': 5,\n",
              " 'responsible': 12,\n",
              " 'born': 3,\n",
              " 'laboratory': 31,\n",
              " 'johnkin': 1,\n",
              " 'sensitivity': 3,\n",
              " 'definitely': 5,\n",
              " 'specialists': 3,\n",
              " 'seen': 55,\n",
              " 'real': 45,\n",
              " 'havent': 7,\n",
              " 'looked': 15,\n",
              " 'hard': 27,\n",
              " 'weve': 85,\n",
              " 'thingsalexismadrigal': 1,\n",
              " 'experts': 28,\n",
              " 'call': 53,\n",
              " 'cow': 9,\n",
              " 'dungurine': 1,\n",
              " 'yoga': 3,\n",
              " 'ayush': 4,\n",
              " 'treat': 37,\n",
              " 'main': 18,\n",
              " 'mode': 4,\n",
              " 'droplets': 12,\n",
              " 'possible': 52,\n",
              " 'infected': 129,\n",
              " 'smokers': 3,\n",
              " 'blow': 1,\n",
              " 'carrying': 7,\n",
              " 'exhale': 1,\n",
              " 'regardless': 4,\n",
              " 'steer': 1,\n",
              " 'clear': 23,\n",
              " 'secondhand': 1,\n",
              " 'smoke': 10,\n",
              " 'cause': 43,\n",
              " 'various': 11,\n",
              " 'health': 421,\n",
              " 'problems': 21,\n",
              " 'article': 17,\n",
              " 'bill': 65,\n",
              " 'gates': 62,\n",
              " 'would': 99,\n",
              " 'modify': 2,\n",
              " 'human': 32,\n",
              " 'dna': 10,\n",
              " 'surgeongeneral': 12,\n",
              " 'dyk': 9,\n",
              " 'handwashing': 5,\n",
              " 'remains': 100,\n",
              " 'best': 40,\n",
              " 'ways': 26,\n",
              " 'viruses': 23,\n",
              " 'things': 20,\n",
              " 'according': 59,\n",
              " 'department': 23,\n",
              " 'haryana': 5,\n",
              " 'recoveryrate': 8,\n",
              " 'gurugram': 2,\n",
              " 'sundays': 5,\n",
              " 'mondays': 9,\n",
              " 'tend': 3,\n",
              " 'numbers': 166,\n",
              " 'dipand': 1,\n",
              " 'still': 128,\n",
              " 'rising': 32,\n",
              " 'hospitalizations': 77,\n",
              " 'jump': 8,\n",
              " 'holiday': 11,\n",
              " 'report': 334,\n",
              " 'world': 200,\n",
              " 'organization': 58,\n",
              " 'brazailian': 1,\n",
              " 'parliament': 10,\n",
              " 'went': 14,\n",
              " 'empty': 13,\n",
              " 'thousands': 51,\n",
              " 'times': 111,\n",
              " 'twitter': 43,\n",
              " 'youtube': 18,\n",
              " 'salt': 12,\n",
              " 'remedy': 20,\n",
              " 'un': 13,\n",
              " 'secretarygeneral': 1,\n",
              " 'antonio': 3,\n",
              " 'guterres': 1,\n",
              " 'dramatically': 1,\n",
              " 'derailed': 1,\n",
              " 'sustainable': 4,\n",
              " 'development': 26,\n",
              " 'goals': 2,\n",
              " 'question': 9,\n",
              " 'made': 73,\n",
              " 'eradication': 1,\n",
              " 'poverty': 3,\n",
              " 'hunger': 7,\n",
              " 'instagram': 14,\n",
              " 'tainted': 2,\n",
              " 'circulation': 3,\n",
              " 'many': 124,\n",
              " 'months': 50,\n",
              " 'across': 106,\n",
              " 'tracked': 60,\n",
              " 'bulk': 3,\n",
              " 'louisiana': 12,\n",
              " 'philippines': 14,\n",
              " 'senators': 2,\n",
              " 'grace': 1,\n",
              " 'poe': 1,\n",
              " 'risa': 1,\n",
              " 'hontiveros': 1,\n",
              " 'silent': 2,\n",
              " 'crisis': 43,\n",
              " 'vocal': 3,\n",
              " 'closure': 4,\n",
              " 'abscbn': 1,\n",
              " 'indias': 41,\n",
              " 'contribute': 15,\n",
              " 'fatality': 42,\n",
              " 'consequence': 1,\n",
              " 'seeing': 12,\n",
              " 'syndemic': 1,\n",
              " 'underline': 1,\n",
              " 'origins': 1,\n",
              " 'vulnerability': 1,\n",
              " 'older': 28,\n",
              " 'citizens': 19,\n",
              " 'black': 29,\n",
              " 'asian': 5,\n",
              " 'minority': 6,\n",
              " 'ethnic': 9,\n",
              " 'communities': 28,\n",
              " 'key': 35,\n",
              " 'commonly': 5,\n",
              " 'poorly': 4,\n",
              " 'paid': 11,\n",
              " 'welfare': 4,\n",
              " 'protections': 2,\n",
              " 'covidnewsbymib': 30,\n",
              " 'scales': 14,\n",
              " 'tota': 4,\n",
              " 'italian': 35,\n",
              " 'nobody': 9,\n",
              " 'dangerous': 16,\n",
              " 'flu': 84,\n",
              " 'seasonal': 7,\n",
              " 'influenza': 8,\n",
              " 'vaccination': 16,\n",
              " 'mandatory': 9,\n",
              " 'georgia': 24,\n",
              " 'fall': 21,\n",
              " 'mortality': 32,\n",
              " 'rates': 57,\n",
              " 'significantly': 10,\n",
              " 'lower': 44,\n",
              " 'fatalities': 6,\n",
              " 'caused': 49,\n",
              " 'mt': 8,\n",
              " 'roskill': 4,\n",
              " 'evangelical': 4,\n",
              " 'fellowship': 5,\n",
              " 'bereavement': 5,\n",
              " 'subcluster': 2,\n",
              " 'includes': 40,\n",
              " 'whose': 13,\n",
              " 'source': 36,\n",
              " 'events': 17,\n",
              " 'zealand': 121,\n",
              " 'receiving': 44,\n",
              " 'hospitallevel': 34,\n",
              " 'care': 152,\n",
              " 'bringing': 54,\n",
              " 'covidnz': 5,\n",
              " 'april': 108,\n",
              " 'breakdown': 32,\n",
              " 'fct': 158,\n",
              " 'kano': 87,\n",
              " 'oyo': 120,\n",
              " 'edo': 111,\n",
              " 'kaduna': 110,\n",
              " 'akwa': 42,\n",
              " 'ibom': 42,\n",
              " 'delta': 74,\n",
              " 'ondo': 83,\n",
              " 'niger': 39,\n",
              " 'benue': 41,\n",
              " 'anambra': 35,\n",
              " 'borno': 66,\n",
              " 'jigawa': 21,\n",
              " 'biggest': 11,\n",
              " 'change': 30,\n",
              " 'hospitalized': 43,\n",
              " 'mayand': 1,\n",
              " 'seem': 9,\n",
              " 'likely': 68,\n",
              " 'decline': 18,\n",
              " 'soon': 37,\n",
              " 'september': 100,\n",
              " 'recovered': 207,\n",
              " 'via': 99,\n",
              " 'galicia': 3,\n",
              " 'samplesday': 1,\n",
              " 'enabled': 5,\n",
              " 'commitment': 7,\n",
              " 'set': 49,\n",
              " 'expanding': 1,\n",
              " 'mechanisms': 2,\n",
              " 'details': 126,\n",
              " 'visit': 34,\n",
              " 'icmrfightscovid': 9,\n",
              " 'jordanian': 1,\n",
              " 'minister': 94,\n",
              " 'conspiracy': 10,\n",
              " 'pregnant': 13,\n",
              " 'women': 33,\n",
              " 'higher': 66,\n",
              " 'premature': 1,\n",
              " 'births': 1,\n",
              " 'trials': 35,\n",
              " 'underway': 5,\n",
              " 'projects': 9,\n",
              " 'complete': 23,\n",
              " 'controlling': 6,\n",
              " 'effectively': 6,\n",
              " 'easier': 6,\n",
              " 'proper': 7,\n",
              " 'medicines': 11,\n",
              " 'vaccines': 82,\n",
              " 'etc': 18,\n",
              " 'infectious': 23,\n",
              " 'diseases': 18,\n",
              " 'acquired': 22,\n",
              " 'locally': 21,\n",
              " 'unknown': 23,\n",
              " 'compare': 5,\n",
              " 'mexico': 9,\n",
              " 'population': 67,\n",
              " 'californias': 5,\n",
              " 'even': 76,\n",
              " 'close': 68,\n",
              " 'community': 135,\n",
              " 'auckland': 84,\n",
              " 'based': 30,\n",
              " 'connected': 8,\n",
              " 'existing': 9,\n",
              " 'contacts': 54,\n",
              " 'household': 34,\n",
              " 'previously': 35,\n",
              " 'investigation': 15,\n",
              " 'gp': 5,\n",
              " 'wellington': 8,\n",
              " 'precautionary': 7,\n",
              " 'message': 49,\n",
              " 'catch': 6,\n",
              " 'fire': 16,\n",
              " 'amount': 9,\n",
              " 'alcohol': 22,\n",
              " 'hands': 67,\n",
              " 'lady': 3,\n",
              " 'applying': 2,\n",
              " 'near': 17,\n",
              " 'stove': 1,\n",
              " 'ended': 3,\n",
              " 'burning': 6,\n",
              " 'zealands': 11,\n",
              " 'rudy': 1,\n",
              " 'giuliani': 2,\n",
              " 'bought': 6,\n",
              " 'shares': 8,\n",
              " 'novartis': 2,\n",
              " 'primary': 9,\n",
              " 'supplier': 3,\n",
              " 'hydroxychloroquine': 55,\n",
              " 'february': 7,\n",
              " 'student': 6,\n",
              " 'pondicherry': 4,\n",
              " 'accepted': 5,\n",
              " 'footballer': 1,\n",
              " 'turning': 5,\n",
              " 'records': 26,\n",
              " 'ever': 37,\n",
              " 'peak': 45,\n",
              " 'exceed': 14,\n",
              " 'fever': 17,\n",
              " 'runny': 4,\n",
              " 'nose': 15,\n",
              " 'came': 21,\n",
              " 'suddenly': 3,\n",
              " 'theres': 18,\n",
              " 'good': 51,\n",
              " 'chance': 13,\n",
              " 'could': 122,\n",
              " 'watch': 19,\n",
              " 'find': 47,\n",
              " 'fightflu': 1,\n",
              " 'pandas': 4,\n",
              " 'china': 126,\n",
              " 'zoo': 2,\n",
              " 'mumbai': 27,\n",
              " 'district': 24,\n",
              " 'maharastra': 3,\n",
              " 'drhvoffice': 20,\n",
              " 'mantralayaroom': 4,\n",
              " 'coronaupdatesinindia': 4,\n",
              " 'weekly': 18,\n",
              " 'rhinovirus': 1,\n",
              " 'include': 39,\n",
              " 'common': 26,\n",
              " 'cold': 25,\n",
              " 'suspected': 20,\n",
              " 'causing': 9,\n",
              " 'become': 32,\n",
              " 'severely': 6,\n",
              " 'ill': 19,\n",
              " 'means': 41,\n",
              " 'require': 11,\n",
              " 'hospitalization': 55,\n",
              " 'intensive': 7,\n",
              " 'ventilator': 15,\n",
              " 'breathe': 7,\n",
              " 'die': 30,\n",
              " 'camila': 3,\n",
              " 'pitanga': 2,\n",
              " 'brazilian': 19,\n",
              " 'actress': 5,\n",
              " 'contracted': 9,\n",
              " 'caught': 21,\n",
              " 'malaria': 13,\n",
              " 'admitting': 2,\n",
              " 'wrong': 19,\n",
              " 'causes': 30,\n",
              " 'sudden': 7,\n",
              " 'syndrome': 5,\n",
              " 'gap': 14,\n",
              " 'parties': 5,\n",
              " 'deadly': 18,\n",
              " 'consequences': 4,\n",
              " 'cabinet': 10,\n",
              " 'office': 12,\n",
              " 'michael': 1,\n",
              " 'gove': 1,\n",
              " 'shift': 1,\n",
              " 'emphasis': 2,\n",
              " 'working': 55,\n",
              " 'kayburley': 23,\n",
              " 'jamesgross': 2,\n",
              " 'well': 63,\n",
              " 'quite': 16,\n",
              " 'refuse': 8,\n",
              " 'table': 7,\n",
              " 'dashboard': 5,\n",
              " 'reasons': 14,\n",
              " 'beyond': 4,\n",
              " 'looking': 23,\n",
              " 'drove': 4,\n",
              " 'increase': 92,\n",
              " 'seems': 18,\n",
              " 'much': 57,\n",
              " 'solid': 7,\n",
              " 'driven': 10,\n",
              " 'lost': 26,\n",
              " 'view': 7,\n",
              " 'bihar': 14,\n",
              " 'extends': 5,\n",
              " 'nationalist': 1,\n",
              " 'congress': 12,\n",
              " 'party': 20,\n",
              " 'chief': 20,\n",
              " 'sharad': 1,\n",
              " 'pawars': 1,\n",
              " 'residence': 3,\n",
              " 'four': 51,\n",
              " 'profits': 3,\n",
              " 'wants': 25,\n",
              " 'reduce': 49,\n",
              " 'held': 9,\n",
              " 'virtual': 5,\n",
              " 'meeting': 16,\n",
              " 'uts': 4,\n",
              " ...}"
            ]
          },
          "metadata": {},
          "execution_count": 206
        }
      ],
      "source": [
        "bagOfWords(df)"
      ]
    },
    {
      "cell_type": "code",
      "source": [
        "\n",
        "# def preprocess(text):\n",
        "#   # lowercase the text\n",
        "#   text=text.lower()\n",
        "#   # remove the words counting just one letter\n",
        "#   text = [t for t in text.split(\" \") if len(t) > 1]\n",
        "#   # text = re.sub('https?://\\S+|www\\.\\S+', '', text)\n",
        "#   # text =re.sub(r'''(?i)\\b((?:https?://|www\\d{0,3}[.]|[a-z0-9.\\-]+[.][a-z]{2,4}/)(?:[^\\s()<>]+|\\(([^\\s()<>]+|(\\([^\\s()<>]+\\)))*\\))+(?:\\(([^\\s()<>]+|(\\([^\\s()<>]+\\)))*\\)|[^\\s`!()\\[\\]{};:'\".,<>?«»“”‘’]))''', \" \", text )\n",
        "#   # Remove all traces of emoji from a text file.\n",
        "#   # text= remove_emoji(text)\n",
        "#   text = [ps.stem(word) for word in text if not word in stopwords.words('english')]\n",
        "#   return text\n",
        "\n"
      ],
      "metadata": {
        "id": "zT12fiijOjwJ"
      },
      "execution_count": null,
      "outputs": []
    },
    {
      "cell_type": "code",
      "source": [
        "# !pip install nltk\n",
        "# import nltk\n",
        "# import re\n",
        "# from nltk.corpus import stopwords\n",
        "# from nltk.stem.porter import PorterStemmer\n",
        "# df = pd.read_excel(\"/content/drive/MyDrive/PROJET_IA/Data-FakeRealCOVID.xlsx\")\n",
        "# # \n",
        "# df['tweet']=df['tweet'].apply(preprocess)"
      ],
      "metadata": {
        "id": "A2AmG0FoOj4b"
      },
      "execution_count": null,
      "outputs": []
    },
    {
      "cell_type": "code",
      "source": [
        "df.head()"
      ],
      "metadata": {
        "colab": {
          "base_uri": "https://localhost:8080/",
          "height": 206
        },
        "id": "7gXuHN9keZBq",
        "outputId": "1c3bebc1-c6f8-47a9-be78-32a9bc40fd82"
      },
      "execution_count": null,
      "outputs": [
        {
          "output_type": "execute_result",
          "data": {
            "text/html": [
              "\n",
              "  <div id=\"df-91ce9e5d-0c65-4451-8ef6-89cf9f8bad53\">\n",
              "    <div class=\"colab-df-container\">\n",
              "      <div>\n",
              "<style scoped>\n",
              "    .dataframe tbody tr th:only-of-type {\n",
              "        vertical-align: middle;\n",
              "    }\n",
              "\n",
              "    .dataframe tbody tr th {\n",
              "        vertical-align: top;\n",
              "    }\n",
              "\n",
              "    .dataframe thead th {\n",
              "        text-align: right;\n",
              "    }\n",
              "</style>\n",
              "<table border=\"1\" class=\"dataframe\">\n",
              "  <thead>\n",
              "    <tr style=\"text-align: right;\">\n",
              "      <th></th>\n",
              "      <th>id</th>\n",
              "      <th>tweet</th>\n",
              "      <th>label</th>\n",
              "    </tr>\n",
              "  </thead>\n",
              "  <tbody>\n",
              "    <tr>\n",
              "      <th>0</th>\n",
              "      <td>1</td>\n",
              "      <td>The CDC currently reports 99031 deaths. In gen...</td>\n",
              "      <td>real</td>\n",
              "    </tr>\n",
              "    <tr>\n",
              "      <th>1</th>\n",
              "      <td>2</td>\n",
              "      <td>States reported 1121 deaths a small rise from ...</td>\n",
              "      <td>real</td>\n",
              "    </tr>\n",
              "    <tr>\n",
              "      <th>2</th>\n",
              "      <td>3</td>\n",
              "      <td>Politically Correct Woman (Almost) Uses Pandem...</td>\n",
              "      <td>fake</td>\n",
              "    </tr>\n",
              "    <tr>\n",
              "      <th>3</th>\n",
              "      <td>4</td>\n",
              "      <td>#IndiaFightsCorona: We have 1524 #COVID testin...</td>\n",
              "      <td>real</td>\n",
              "    </tr>\n",
              "    <tr>\n",
              "      <th>4</th>\n",
              "      <td>5</td>\n",
              "      <td>Populous states can generate large case counts...</td>\n",
              "      <td>real</td>\n",
              "    </tr>\n",
              "  </tbody>\n",
              "</table>\n",
              "</div>\n",
              "      <button class=\"colab-df-convert\" onclick=\"convertToInteractive('df-91ce9e5d-0c65-4451-8ef6-89cf9f8bad53')\"\n",
              "              title=\"Convert this dataframe to an interactive table.\"\n",
              "              style=\"display:none;\">\n",
              "        \n",
              "  <svg xmlns=\"http://www.w3.org/2000/svg\" height=\"24px\"viewBox=\"0 0 24 24\"\n",
              "       width=\"24px\">\n",
              "    <path d=\"M0 0h24v24H0V0z\" fill=\"none\"/>\n",
              "    <path d=\"M18.56 5.44l.94 2.06.94-2.06 2.06-.94-2.06-.94-.94-2.06-.94 2.06-2.06.94zm-11 1L8.5 8.5l.94-2.06 2.06-.94-2.06-.94L8.5 2.5l-.94 2.06-2.06.94zm10 10l.94 2.06.94-2.06 2.06-.94-2.06-.94-.94-2.06-.94 2.06-2.06.94z\"/><path d=\"M17.41 7.96l-1.37-1.37c-.4-.4-.92-.59-1.43-.59-.52 0-1.04.2-1.43.59L10.3 9.45l-7.72 7.72c-.78.78-.78 2.05 0 2.83L4 21.41c.39.39.9.59 1.41.59.51 0 1.02-.2 1.41-.59l7.78-7.78 2.81-2.81c.8-.78.8-2.07 0-2.86zM5.41 20L4 18.59l7.72-7.72 1.47 1.35L5.41 20z\"/>\n",
              "  </svg>\n",
              "      </button>\n",
              "      \n",
              "  <style>\n",
              "    .colab-df-container {\n",
              "      display:flex;\n",
              "      flex-wrap:wrap;\n",
              "      gap: 12px;\n",
              "    }\n",
              "\n",
              "    .colab-df-convert {\n",
              "      background-color: #E8F0FE;\n",
              "      border: none;\n",
              "      border-radius: 50%;\n",
              "      cursor: pointer;\n",
              "      display: none;\n",
              "      fill: #1967D2;\n",
              "      height: 32px;\n",
              "      padding: 0 0 0 0;\n",
              "      width: 32px;\n",
              "    }\n",
              "\n",
              "    .colab-df-convert:hover {\n",
              "      background-color: #E2EBFA;\n",
              "      box-shadow: 0px 1px 2px rgba(60, 64, 67, 0.3), 0px 1px 3px 1px rgba(60, 64, 67, 0.15);\n",
              "      fill: #174EA6;\n",
              "    }\n",
              "\n",
              "    [theme=dark] .colab-df-convert {\n",
              "      background-color: #3B4455;\n",
              "      fill: #D2E3FC;\n",
              "    }\n",
              "\n",
              "    [theme=dark] .colab-df-convert:hover {\n",
              "      background-color: #434B5C;\n",
              "      box-shadow: 0px 1px 3px 1px rgba(0, 0, 0, 0.15);\n",
              "      filter: drop-shadow(0px 1px 2px rgba(0, 0, 0, 0.3));\n",
              "      fill: #FFFFFF;\n",
              "    }\n",
              "  </style>\n",
              "\n",
              "      <script>\n",
              "        const buttonEl =\n",
              "          document.querySelector('#df-91ce9e5d-0c65-4451-8ef6-89cf9f8bad53 button.colab-df-convert');\n",
              "        buttonEl.style.display =\n",
              "          google.colab.kernel.accessAllowed ? 'block' : 'none';\n",
              "\n",
              "        async function convertToInteractive(key) {\n",
              "          const element = document.querySelector('#df-91ce9e5d-0c65-4451-8ef6-89cf9f8bad53');\n",
              "          const dataTable =\n",
              "            await google.colab.kernel.invokeFunction('convertToInteractive',\n",
              "                                                     [key], {});\n",
              "          if (!dataTable) return;\n",
              "\n",
              "          const docLinkHtml = 'Like what you see? Visit the ' +\n",
              "            '<a target=\"_blank\" href=https://colab.research.google.com/notebooks/data_table.ipynb>data table notebook</a>'\n",
              "            + ' to learn more about interactive tables.';\n",
              "          element.innerHTML = '';\n",
              "          dataTable['output_type'] = 'display_data';\n",
              "          await google.colab.output.renderOutput(dataTable, element);\n",
              "          const docLink = document.createElement('div');\n",
              "          docLink.innerHTML = docLinkHtml;\n",
              "          element.appendChild(docLink);\n",
              "        }\n",
              "      </script>\n",
              "    </div>\n",
              "  </div>\n",
              "  "
            ],
            "text/plain": [
              "   id                                              tweet label\n",
              "0   1  The CDC currently reports 99031 deaths. In gen...  real\n",
              "1   2  States reported 1121 deaths a small rise from ...  real\n",
              "2   3  Politically Correct Woman (Almost) Uses Pandem...  fake\n",
              "3   4  #IndiaFightsCorona: We have 1524 #COVID testin...  real\n",
              "4   5  Populous states can generate large case counts...  real"
            ]
          },
          "metadata": {},
          "execution_count": 209
        }
      ]
    },
    {
      "cell_type": "code",
      "source": [
        ""
      ],
      "metadata": {
        "id": "nEB-i_XoOj7B"
      },
      "execution_count": null,
      "outputs": []
    },
    {
      "cell_type": "code",
      "source": [
        ""
      ],
      "metadata": {
        "id": "n9GvOg3-Oj-b"
      },
      "execution_count": null,
      "outputs": []
    }
  ]
}