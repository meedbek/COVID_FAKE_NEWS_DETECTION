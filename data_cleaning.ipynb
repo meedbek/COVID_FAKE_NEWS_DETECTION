{
 "cells": [
  {
   "cell_type": "code",
   "execution_count": 1,
   "metadata": {
    "id": "wYmVUEzQw_Op"
   },
   "outputs": [],
   "source": [
    "import pandas as pd\n",
    "import numpy as np\n",
    "import nltk"
   ]
  },
  {
   "cell_type": "code",
   "execution_count": 29,
   "metadata": {},
   "outputs": [],
   "source": [
    "from itertools import chain"
   ]
  },
  {
   "cell_type": "code",
   "execution_count": 4,
   "metadata": {
    "colab": {
     "base_uri": "https://localhost:8080/"
    },
    "id": "HBn5U8Lvp8Fq",
    "outputId": "1e25e5ae-fb9f-48a5-c2cd-6bd157ec5d1a"
   },
   "outputs": [
    {
     "data": {
      "text/plain": [
       "\"from google.colab import drive\\ndrive.mount('/content/drive')\""
      ]
     },
     "execution_count": 4,
     "metadata": {},
     "output_type": "execute_result"
    }
   ],
   "source": [
    "'''from google.colab import drive\n",
    "drive.mount('/content/drive')'''"
   ]
  },
  {
   "cell_type": "code",
   "execution_count": 7,
   "metadata": {
    "id": "gzIOdCIEVNQD"
   },
   "outputs": [],
   "source": [
    "\n",
    "df = pd.read_excel(\"Data-FakeRealCOVID.xlsx\")\n"
   ]
  },
  {
   "cell_type": "code",
   "execution_count": 8,
   "metadata": {
    "colab": {
     "base_uri": "https://localhost:8080/",
     "height": 423
    },
    "id": "tLIk-Vgs4_Bb",
    "outputId": "e2af64c2-6d0c-4560-f948-9ca759fc4f35"
   },
   "outputs": [
    {
     "data": {
      "text/html": [
       "<div>\n",
       "<style scoped>\n",
       "    .dataframe tbody tr th:only-of-type {\n",
       "        vertical-align: middle;\n",
       "    }\n",
       "\n",
       "    .dataframe tbody tr th {\n",
       "        vertical-align: top;\n",
       "    }\n",
       "\n",
       "    .dataframe thead th {\n",
       "        text-align: right;\n",
       "    }\n",
       "</style>\n",
       "<table border=\"1\" class=\"dataframe\">\n",
       "  <thead>\n",
       "    <tr style=\"text-align: right;\">\n",
       "      <th></th>\n",
       "      <th>id</th>\n",
       "      <th>tweet</th>\n",
       "      <th>label</th>\n",
       "    </tr>\n",
       "  </thead>\n",
       "  <tbody>\n",
       "    <tr>\n",
       "      <th>0</th>\n",
       "      <td>1</td>\n",
       "      <td>The CDC currently reports 99031 deaths. In gen...</td>\n",
       "      <td>real</td>\n",
       "    </tr>\n",
       "    <tr>\n",
       "      <th>1</th>\n",
       "      <td>2</td>\n",
       "      <td>States reported 1121 deaths a small rise from ...</td>\n",
       "      <td>real</td>\n",
       "    </tr>\n",
       "    <tr>\n",
       "      <th>2</th>\n",
       "      <td>3</td>\n",
       "      <td>Politically Correct Woman (Almost) Uses Pandem...</td>\n",
       "      <td>fake</td>\n",
       "    </tr>\n",
       "    <tr>\n",
       "      <th>3</th>\n",
       "      <td>4</td>\n",
       "      <td>#IndiaFightsCorona: We have 1524 #COVID testin...</td>\n",
       "      <td>real</td>\n",
       "    </tr>\n",
       "    <tr>\n",
       "      <th>4</th>\n",
       "      <td>5</td>\n",
       "      <td>Populous states can generate large case counts...</td>\n",
       "      <td>real</td>\n",
       "    </tr>\n",
       "    <tr>\n",
       "      <th>...</th>\n",
       "      <td>...</td>\n",
       "      <td>...</td>\n",
       "      <td>...</td>\n",
       "    </tr>\n",
       "    <tr>\n",
       "      <th>6415</th>\n",
       "      <td>6416</td>\n",
       "      <td>A tiger tested positive for COVID-19 please st...</td>\n",
       "      <td>fake</td>\n",
       "    </tr>\n",
       "    <tr>\n",
       "      <th>6416</th>\n",
       "      <td>6417</td>\n",
       "      <td>???Autopsies prove that COVID-19 is??� a blood...</td>\n",
       "      <td>fake</td>\n",
       "    </tr>\n",
       "    <tr>\n",
       "      <th>6417</th>\n",
       "      <td>6418</td>\n",
       "      <td>_A post claims a COVID-19 vaccine has already ...</td>\n",
       "      <td>fake</td>\n",
       "    </tr>\n",
       "    <tr>\n",
       "      <th>6418</th>\n",
       "      <td>6419</td>\n",
       "      <td>Aamir Khan Donate 250 Cr. In PM Relief Cares Fund</td>\n",
       "      <td>fake</td>\n",
       "    </tr>\n",
       "    <tr>\n",
       "      <th>6419</th>\n",
       "      <td>6420</td>\n",
       "      <td>It has been 93 days since the last case of COV...</td>\n",
       "      <td>real</td>\n",
       "    </tr>\n",
       "  </tbody>\n",
       "</table>\n",
       "<p>6420 rows × 3 columns</p>\n",
       "</div>"
      ],
      "text/plain": [
       "        id                                              tweet label\n",
       "0        1  The CDC currently reports 99031 deaths. In gen...  real\n",
       "1        2  States reported 1121 deaths a small rise from ...  real\n",
       "2        3  Politically Correct Woman (Almost) Uses Pandem...  fake\n",
       "3        4  #IndiaFightsCorona: We have 1524 #COVID testin...  real\n",
       "4        5  Populous states can generate large case counts...  real\n",
       "...    ...                                                ...   ...\n",
       "6415  6416  A tiger tested positive for COVID-19 please st...  fake\n",
       "6416  6417  ???Autopsies prove that COVID-19 is??� a blood...  fake\n",
       "6417  6418  _A post claims a COVID-19 vaccine has already ...  fake\n",
       "6418  6419  Aamir Khan Donate 250 Cr. In PM Relief Cares Fund  fake\n",
       "6419  6420  It has been 93 days since the last case of COV...  real\n",
       "\n",
       "[6420 rows x 3 columns]"
      ]
     },
     "execution_count": 8,
     "metadata": {},
     "output_type": "execute_result"
    }
   ],
   "source": [
    "df"
   ]
  },
  {
   "cell_type": "code",
   "execution_count": 9,
   "metadata": {
    "id": "5tMr0XC2VNZj"
   },
   "outputs": [],
   "source": [
    "# df.loc[i,'tweet'].lower()\n",
    "# df.tweet=df.tweet.apply(lambda x : x.lower())\n",
    "df.tweet=df.tweet.str.lower()\n",
    "\n",
    "# df.loc[0,'tweet'].lower()"
   ]
  },
  {
   "cell_type": "code",
   "execution_count": 10,
   "metadata": {
    "colab": {
     "base_uri": "https://localhost:8080/",
     "height": 423
    },
    "id": "Y4aC9Bd_VNcV",
    "outputId": "e4c26037-7696-42fa-9f87-a929f2400dee"
   },
   "outputs": [
    {
     "data": {
      "text/html": [
       "<div>\n",
       "<style scoped>\n",
       "    .dataframe tbody tr th:only-of-type {\n",
       "        vertical-align: middle;\n",
       "    }\n",
       "\n",
       "    .dataframe tbody tr th {\n",
       "        vertical-align: top;\n",
       "    }\n",
       "\n",
       "    .dataframe thead th {\n",
       "        text-align: right;\n",
       "    }\n",
       "</style>\n",
       "<table border=\"1\" class=\"dataframe\">\n",
       "  <thead>\n",
       "    <tr style=\"text-align: right;\">\n",
       "      <th></th>\n",
       "      <th>id</th>\n",
       "      <th>tweet</th>\n",
       "      <th>label</th>\n",
       "    </tr>\n",
       "  </thead>\n",
       "  <tbody>\n",
       "    <tr>\n",
       "      <th>0</th>\n",
       "      <td>1</td>\n",
       "      <td>the cdc currently reports 99031 deaths. in gen...</td>\n",
       "      <td>real</td>\n",
       "    </tr>\n",
       "    <tr>\n",
       "      <th>1</th>\n",
       "      <td>2</td>\n",
       "      <td>states reported 1121 deaths a small rise from ...</td>\n",
       "      <td>real</td>\n",
       "    </tr>\n",
       "    <tr>\n",
       "      <th>2</th>\n",
       "      <td>3</td>\n",
       "      <td>politically correct woman (almost) uses pandem...</td>\n",
       "      <td>fake</td>\n",
       "    </tr>\n",
       "    <tr>\n",
       "      <th>3</th>\n",
       "      <td>4</td>\n",
       "      <td>#indiafightscorona: we have 1524 #covid testin...</td>\n",
       "      <td>real</td>\n",
       "    </tr>\n",
       "    <tr>\n",
       "      <th>4</th>\n",
       "      <td>5</td>\n",
       "      <td>populous states can generate large case counts...</td>\n",
       "      <td>real</td>\n",
       "    </tr>\n",
       "    <tr>\n",
       "      <th>...</th>\n",
       "      <td>...</td>\n",
       "      <td>...</td>\n",
       "      <td>...</td>\n",
       "    </tr>\n",
       "    <tr>\n",
       "      <th>6415</th>\n",
       "      <td>6416</td>\n",
       "      <td>a tiger tested positive for covid-19 please st...</td>\n",
       "      <td>fake</td>\n",
       "    </tr>\n",
       "    <tr>\n",
       "      <th>6416</th>\n",
       "      <td>6417</td>\n",
       "      <td>???autopsies prove that covid-19 is??� a blood...</td>\n",
       "      <td>fake</td>\n",
       "    </tr>\n",
       "    <tr>\n",
       "      <th>6417</th>\n",
       "      <td>6418</td>\n",
       "      <td>_a post claims a covid-19 vaccine has already ...</td>\n",
       "      <td>fake</td>\n",
       "    </tr>\n",
       "    <tr>\n",
       "      <th>6418</th>\n",
       "      <td>6419</td>\n",
       "      <td>aamir khan donate 250 cr. in pm relief cares fund</td>\n",
       "      <td>fake</td>\n",
       "    </tr>\n",
       "    <tr>\n",
       "      <th>6419</th>\n",
       "      <td>6420</td>\n",
       "      <td>it has been 93 days since the last case of cov...</td>\n",
       "      <td>real</td>\n",
       "    </tr>\n",
       "  </tbody>\n",
       "</table>\n",
       "<p>6420 rows × 3 columns</p>\n",
       "</div>"
      ],
      "text/plain": [
       "        id                                              tweet label\n",
       "0        1  the cdc currently reports 99031 deaths. in gen...  real\n",
       "1        2  states reported 1121 deaths a small rise from ...  real\n",
       "2        3  politically correct woman (almost) uses pandem...  fake\n",
       "3        4  #indiafightscorona: we have 1524 #covid testin...  real\n",
       "4        5  populous states can generate large case counts...  real\n",
       "...    ...                                                ...   ...\n",
       "6415  6416  a tiger tested positive for covid-19 please st...  fake\n",
       "6416  6417  ???autopsies prove that covid-19 is??� a blood...  fake\n",
       "6417  6418  _a post claims a covid-19 vaccine has already ...  fake\n",
       "6418  6419  aamir khan donate 250 cr. in pm relief cares fund  fake\n",
       "6419  6420  it has been 93 days since the last case of cov...  real\n",
       "\n",
       "[6420 rows x 3 columns]"
      ]
     },
     "execution_count": 10,
     "metadata": {},
     "output_type": "execute_result"
    }
   ],
   "source": [
    "df"
   ]
  },
  {
   "cell_type": "code",
   "execution_count": 11,
   "metadata": {
    "colab": {
     "base_uri": "https://localhost:8080/",
     "height": 53
    },
    "id": "XiU-sKyFVNew",
    "outputId": "0fcde665-9bd7-4caa-e037-f55eb20ac642"
   },
   "outputs": [
    {
     "data": {
      "text/plain": [
       "'populous states can generate large case counts but if you look at the new cases per million today 9 smaller states are showing more cases per million than california or texas: al ar id ks ky la ms nv and sc.  '"
      ]
     },
     "execution_count": 11,
     "metadata": {},
     "output_type": "execute_result"
    }
   ],
   "source": [
    "# In order to remove any URL within a string in Python, you can use this RegEx function :\n",
    "\n",
    "import re \n",
    "for i in range(df.shape[0]):\n",
    "    df.loc[i,'tweet']=re.sub(r'''(?i)\\b((?:https?://|www\\d{0,3}[.]|[a-z0-9.\\-]+[.][a-z]{2,4}/)(?:[^\\s()<>]+|\\(([^\\s()<>]+|(\\([^\\s()<>]+\\)))*\\))+(?:\\(([^\\s()<>]+|(\\([^\\s()<>]+\\)))*\\)|[^\\s`!()\\[\\]{};:'\".,<>?«»“”‘’]))''', \" \", df.loc[i,'tweet'])\n",
    "df.loc[4,'tweet']"
   ]
  },
  {
   "cell_type": "code",
   "execution_count": 12,
   "metadata": {
    "colab": {
     "base_uri": "https://localhost:8080/",
     "height": 53
    },
    "id": "dz0iW3aNVNhk",
    "outputId": "2a2f30f5-8ec9-4b46-c378-2a88ee4cf469"
   },
   "outputs": [
    {
     "data": {
      "text/plain": [
       "'populous states can generate large case counts but if you look at the new cases per million today 9 smaller states are showing more cases per million than california or texas: al ar id ks ky la ms nv and sc.  '"
      ]
     },
     "execution_count": 12,
     "metadata": {},
     "output_type": "execute_result"
    }
   ],
   "source": [
    "df.loc[4,'tweet']\n",
    "\n"
   ]
  },
  {
   "cell_type": "markdown",
   "metadata": {
    "id": "AVbrnjKs5SQf"
   },
   "source": [
    "We try to remove emojis"
   ]
  },
  {
   "cell_type": "code",
   "execution_count": null,
   "metadata": {
    "colab": {
     "base_uri": "https://localhost:8080/",
     "height": 53
    },
    "id": "GfucW2TuVNmF",
    "outputId": "261a685f-3394-4052-ed60-98e951fba442"
   },
   "outputs": [],
   "source": [
    "#I took an example to work on \n",
    "example = df.loc[6416,'tweet']\n",
    "example"
   ]
  },
  {
   "cell_type": "code",
   "execution_count": null,
   "metadata": {
    "colab": {
     "base_uri": "https://localhost:8080/",
     "height": 53
    },
    "id": "m1lSnt_9v5wP",
    "outputId": "4786a306-04e6-4c10-c9c5-4bed61ff1b0e"
   },
   "outputs": [],
   "source": [
    "# Remove all traces of emoji from a text file.\n",
    "\n",
    "'''def remove_emoji(string):\n",
    "    emoji_pattern = re.compile(\"[\"\n",
    "                               u\"\\U0001F600-\\U0001F64F\"  # emoticons\n",
    "                               u\"\\U0001F300-\\U0001F5FF\"  # symbols & pictographs\n",
    "                               u\"\\U0001F680-\\U0001F6FF\"  # transport & map symbols\n",
    "                               u\"\\U0001F1E0-\\U0001F1FF\"  # flags (iOS)\n",
    "                               u\"\\U00002500-\\U00002BEF\"  # chinese char\n",
    "                               u\"\\U00002702-\\U000027B0\"\n",
    "                               u\"\\U00002702-\\U000027B0\"\n",
    "                               u\"\\U000024C2-\\U0001F251\"\n",
    "                               u\"\\U0001f926-\\U0001f937\"\n",
    "                               u\"\\U00010000-\\U0010ffff\"\n",
    "                               u\"\\u2640-\\u2642\"\n",
    "                               u\"\\u2600-\\u2B55\"\n",
    "                               u\"\\u200d\"\n",
    "                               u\"\\u23cf\"\n",
    "                               u\"\\u23e9\"\n",
    "                               u\"\\u231a\"\n",
    "                               u\"\\ufe0f\"  # dingbats\n",
    "                               u\"\\u3030\"\n",
    "                               \"]+\", flags=re.UNICODE)\n",
    "    return emoji_pattern.sub(r'', string)\n",
    "remove_emoji(df.loc[6416,'tweet'])'''\n"
   ]
  },
  {
   "cell_type": "code",
   "execution_count": null,
   "metadata": {
    "id": "AnHFbNOl0RVM"
   },
   "outputs": [],
   "source": [
    "'''for i in range(df.shape[0]):\n",
    "  df.loc[i,'tweet']=remove_emoji(df.loc[i,'tweet'])'''\n",
    "  \n"
   ]
  },
  {
   "cell_type": "code",
   "execution_count": null,
   "metadata": {
    "colab": {
     "base_uri": "https://localhost:8080/",
     "height": 423
    },
    "id": "OSV0mSMPcWMh",
    "outputId": "2d01b7f8-fb3e-438e-8ec0-692009c54c06"
   },
   "outputs": [],
   "source": [
    "df"
   ]
  },
  {
   "cell_type": "code",
   "execution_count": null,
   "metadata": {
    "id": "vi1YkWlWcWTH"
   },
   "outputs": [],
   "source": []
  },
  {
   "cell_type": "code",
   "execution_count": null,
   "metadata": {
    "id": "bOwuqQvGcWWf"
   },
   "outputs": [],
   "source": []
  },
  {
   "cell_type": "markdown",
   "metadata": {
    "id": "qJ7F2xo2eQJq"
   },
   "source": [
    "We try to remove emojis"
   ]
  },
  {
   "cell_type": "code",
   "execution_count": 13,
   "metadata": {
    "colab": {
     "base_uri": "https://localhost:8080/",
     "height": 53
    },
    "id": "xjRC0UpjckeQ",
    "outputId": "38dcd235-df24-4933-c17f-548412197317"
   },
   "outputs": [
    {
     "data": {
      "text/plain": [
       "'📢#coronavirusupdates: 📍#covid19 india tracker (as on 7 september 2020 08:00 am) ➡️confirmed cases: 4204613 ➡️recovered: 3250429 (77.3%)👍 ➡️active cases: 882542 (21.0%) ➡️deaths: 71642 (1.7%) #indiafightscorona #indiawillwin #staysafe via @mohfw_india  '"
      ]
     },
     "execution_count": 13,
     "metadata": {},
     "output_type": "execute_result"
    }
   ],
   "source": [
    "#i took an example to work on \n",
    "example = df.loc[89,'tweet']\n",
    "example"
   ]
  },
  {
   "cell_type": "code",
   "execution_count": 14,
   "metadata": {
    "colab": {
     "base_uri": "https://localhost:8080/",
     "height": 53
    },
    "id": "WiDIvBKncnMa",
    "outputId": "4aec5af1-41d8-4a3e-8f10-68fa7bdcfa89"
   },
   "outputs": [
    {
     "data": {
      "text/plain": [
       "'#coronavirusupdates: #covid19 india tracker (as on 7 september 2020 08:00 am) confirmed cases: 4204613 recovered: 3250429 (77.3%) active cases: 882542 (21.0%) deaths: 71642 (1.7%) #indiafightscorona #indiawillwin #staysafe via @mohfw_india  '"
      ]
     },
     "execution_count": 14,
     "metadata": {},
     "output_type": "execute_result"
    }
   ],
   "source": [
    "#the easiet solution we found is to turn text incode into ascii wich does not include emojis and ignore all other characters that are not defined on ascii encode\n",
    "#we use encode function which turns string into ascii code and ignoring none ascii characters\n",
    "#then decode to make the ascii code a string again\n",
    "(example.encode('ascii',errors='ignore')).decode('ascii')"
   ]
  },
  {
   "cell_type": "code",
   "execution_count": 15,
   "metadata": {
    "id": "8BHTs-mIcpjD"
   },
   "outputs": [],
   "source": [
    "toAscii = lambda text : (text.encode('ascii',errors='ignore')).decode('ascii')\n",
    "df.tweet = df.tweet.apply(toAscii)"
   ]
  },
  {
   "cell_type": "code",
   "execution_count": 16,
   "metadata": {
    "colab": {
     "base_uri": "https://localhost:8080/",
     "height": 423
    },
    "id": "dd3EdGk0csH7",
    "outputId": "467953cb-5bc3-4af0-a8d7-936e420e5464"
   },
   "outputs": [
    {
     "data": {
      "text/html": [
       "<div>\n",
       "<style scoped>\n",
       "    .dataframe tbody tr th:only-of-type {\n",
       "        vertical-align: middle;\n",
       "    }\n",
       "\n",
       "    .dataframe tbody tr th {\n",
       "        vertical-align: top;\n",
       "    }\n",
       "\n",
       "    .dataframe thead th {\n",
       "        text-align: right;\n",
       "    }\n",
       "</style>\n",
       "<table border=\"1\" class=\"dataframe\">\n",
       "  <thead>\n",
       "    <tr style=\"text-align: right;\">\n",
       "      <th></th>\n",
       "      <th>id</th>\n",
       "      <th>tweet</th>\n",
       "      <th>label</th>\n",
       "    </tr>\n",
       "  </thead>\n",
       "  <tbody>\n",
       "    <tr>\n",
       "      <th>0</th>\n",
       "      <td>1</td>\n",
       "      <td>the cdc currently reports 99031 deaths. in gen...</td>\n",
       "      <td>real</td>\n",
       "    </tr>\n",
       "    <tr>\n",
       "      <th>1</th>\n",
       "      <td>2</td>\n",
       "      <td>states reported 1121 deaths a small rise from ...</td>\n",
       "      <td>real</td>\n",
       "    </tr>\n",
       "    <tr>\n",
       "      <th>2</th>\n",
       "      <td>3</td>\n",
       "      <td>politically correct woman (almost) uses pandem...</td>\n",
       "      <td>fake</td>\n",
       "    </tr>\n",
       "    <tr>\n",
       "      <th>3</th>\n",
       "      <td>4</td>\n",
       "      <td>#indiafightscorona: we have 1524 #covid testin...</td>\n",
       "      <td>real</td>\n",
       "    </tr>\n",
       "    <tr>\n",
       "      <th>4</th>\n",
       "      <td>5</td>\n",
       "      <td>populous states can generate large case counts...</td>\n",
       "      <td>real</td>\n",
       "    </tr>\n",
       "    <tr>\n",
       "      <th>...</th>\n",
       "      <td>...</td>\n",
       "      <td>...</td>\n",
       "      <td>...</td>\n",
       "    </tr>\n",
       "    <tr>\n",
       "      <th>6415</th>\n",
       "      <td>6416</td>\n",
       "      <td>a tiger tested positive for covid-19 please st...</td>\n",
       "      <td>fake</td>\n",
       "    </tr>\n",
       "    <tr>\n",
       "      <th>6416</th>\n",
       "      <td>6417</td>\n",
       "      <td>???autopsies prove that covid-19 is?? a blood ...</td>\n",
       "      <td>fake</td>\n",
       "    </tr>\n",
       "    <tr>\n",
       "      <th>6417</th>\n",
       "      <td>6418</td>\n",
       "      <td>_a post claims a covid-19 vaccine has already ...</td>\n",
       "      <td>fake</td>\n",
       "    </tr>\n",
       "    <tr>\n",
       "      <th>6418</th>\n",
       "      <td>6419</td>\n",
       "      <td>aamir khan donate 250 cr. in pm relief cares fund</td>\n",
       "      <td>fake</td>\n",
       "    </tr>\n",
       "    <tr>\n",
       "      <th>6419</th>\n",
       "      <td>6420</td>\n",
       "      <td>it has been 93 days since the last case of cov...</td>\n",
       "      <td>real</td>\n",
       "    </tr>\n",
       "  </tbody>\n",
       "</table>\n",
       "<p>6420 rows × 3 columns</p>\n",
       "</div>"
      ],
      "text/plain": [
       "        id                                              tweet label\n",
       "0        1  the cdc currently reports 99031 deaths. in gen...  real\n",
       "1        2  states reported 1121 deaths a small rise from ...  real\n",
       "2        3  politically correct woman (almost) uses pandem...  fake\n",
       "3        4  #indiafightscorona: we have 1524 #covid testin...  real\n",
       "4        5  populous states can generate large case counts...  real\n",
       "...    ...                                                ...   ...\n",
       "6415  6416  a tiger tested positive for covid-19 please st...  fake\n",
       "6416  6417  ???autopsies prove that covid-19 is?? a blood ...  fake\n",
       "6417  6418  _a post claims a covid-19 vaccine has already ...  fake\n",
       "6418  6419  aamir khan donate 250 cr. in pm relief cares fund  fake\n",
       "6419  6420  it has been 93 days since the last case of cov...  real\n",
       "\n",
       "[6420 rows x 3 columns]"
      ]
     },
     "execution_count": 16,
     "metadata": {},
     "output_type": "execute_result"
    }
   ],
   "source": [
    "df"
   ]
  },
  {
   "cell_type": "code",
   "execution_count": 17,
   "metadata": {
    "colab": {
     "base_uri": "https://localhost:8080/",
     "height": 53
    },
    "id": "6wMDPtfocvg1",
    "outputId": "6c67d29e-f086-4ace-827e-ced4eefb0613"
   },
   "outputs": [
    {
     "data": {
      "text/plain": [
       "'#coronavirusupdates: #covid19 india tracker (as on 7 september 2020 08:00 am) confirmed cases: 4204613 recovered: 3250429 (77.3%) active cases: 882542 (21.0%) deaths: 71642 (1.7%) #indiafightscorona #indiawillwin #staysafe via @mohfw_india  '"
      ]
     },
     "execution_count": 17,
     "metadata": {},
     "output_type": "execute_result"
    }
   ],
   "source": [
    "df.loc[89].tweet"
   ]
  },
  {
   "cell_type": "markdown",
   "metadata": {},
   "source": [
    "Remove ponctuation "
   ]
  },
  {
   "cell_type": "code",
   "execution_count": 40,
   "metadata": {},
   "outputs": [],
   "source": [
    "#removing all numbers ,ponctuation & special characters such as @ and #\n",
    "#refrence to https://www.kerryr.net/pioneers/ascii3.htm\n",
    "\n",
    "def removeSpecialChar(text):\n",
    "    text = list(text)\n",
    "    for i in range(10):\n",
    "        #remove special character & ponctuations \n",
    "        if ord(text[i]) in chain(range(33,48),range(58,64),range(91,97),range(123,127)):\n",
    "            text.pop(i) \n",
    "        \n",
    "        #remove numbers\n",
    "        if (text[i]).isdigit():\n",
    "            text.pop(i)\n",
    "    return ''.join(text);"
   ]
  },
  {
   "cell_type": "code",
   "execution_count": 24,
   "metadata": {},
   "outputs": [
    {
     "data": {
      "text/plain": [
       "'132 new cases of #covid19nigeria; lagos-52 gombe-27 plateau-17 kwara-10 enugu-9 ogun-9 katsina-3 ekiti-2 bauchi-1 osun-1 rivers-1 56388 confirmed 44337 discharged 1083 deaths  '"
      ]
     },
     "execution_count": 24,
     "metadata": {},
     "output_type": "execute_result"
    }
   ],
   "source": [
    "#lets test on this example\n",
    "df.loc[51].tweet"
   ]
  },
  {
   "cell_type": "code",
   "execution_count": 41,
   "metadata": {},
   "outputs": [
    {
     "data": {
      "text/plain": [
       "'3 new cases of #covid19nigeria; lagos-52 gombe-27 plateau-17 kwara-10 enugu-9 ogun-9 katsina-3 ekiti-2 bauchi-1 osun-1 rivers-1 56388 confirmed 44337 discharged 1083 deaths  '"
      ]
     },
     "execution_count": 41,
     "metadata": {},
     "output_type": "execute_result"
    }
   ],
   "source": [
    "removeSpecialChar(df.loc[51].tweet)"
   ]
  },
  {
   "cell_type": "code",
   "execution_count": 26,
   "metadata": {},
   "outputs": [
    {
     "data": {
      "text/plain": [
       "range(0, 10)"
      ]
     },
     "execution_count": 26,
     "metadata": {},
     "output_type": "execute_result"
    }
   ],
   "source": [
    "range(10)"
   ]
  },
  {
   "cell_type": "raw",
   "metadata": {},
   "source": []
  },
  {
   "cell_type": "markdown",
   "metadata": {
    "id": "XZJOrcfYR-As"
   },
   "source": [
    "**Data** **Preprocessing**:"
   ]
  },
  {
   "cell_type": "code",
   "execution_count": null,
   "metadata": {
    "id": "zT12fiijOjwJ"
   },
   "outputs": [],
   "source": [
    "\n",
    "# def preprocess(text):\n",
    "  # lowercase the text\n",
    "  # text=text.lower()\n",
    "  # remove the words counting just one letter\n",
    "  # text = [t for t in text.split(\" \") if len(t) > 1]\n",
    "  # text = re.sub('https?://\\S+|www\\.\\S+', '', text)\n",
    "  # return text\n"
   ]
  },
  {
   "cell_type": "code",
   "execution_count": null,
   "metadata": {
    "id": "A2AmG0FoOj4b"
   },
   "outputs": [],
   "source": [
    "# df = pd.read_excel(\"/content/drive/MyDrive/PROJET_IA/Data-FakeRealCOVID.xlsx\")\n",
    "\n",
    "# df['tweet']=df['tweet'].apply(preprocess)"
   ]
  },
  {
   "cell_type": "code",
   "execution_count": null,
   "metadata": {
    "colab": {
     "base_uri": "https://localhost:8080/",
     "height": 206
    },
    "id": "7gXuHN9keZBq",
    "outputId": "fb1d1b18-e546-4466-f51d-1070dd313811"
   },
   "outputs": [],
   "source": [
    "df.head()"
   ]
  },
  {
   "cell_type": "code",
   "execution_count": null,
   "metadata": {
    "id": "nEB-i_XoOj7B"
   },
   "outputs": [],
   "source": []
  },
  {
   "cell_type": "code",
   "execution_count": null,
   "metadata": {
    "id": "n9GvOg3-Oj-b"
   },
   "outputs": [],
   "source": []
  }
 ],
 "metadata": {
  "colab": {
   "collapsed_sections": [],
   "name": "Projet_IA.ipynb",
   "provenance": []
  },
  "kernelspec": {
   "display_name": "Python 3",
   "language": "python",
   "name": "python3"
  },
  "language_info": {
   "codemirror_mode": {
    "name": "ipython",
    "version": 3
   },
   "file_extension": ".py",
   "mimetype": "text/x-python",
   "name": "python",
   "nbconvert_exporter": "python",
   "pygments_lexer": "ipython3",
   "version": "3.8.8"
  }
 },
 "nbformat": 4,
 "nbformat_minor": 1
}
