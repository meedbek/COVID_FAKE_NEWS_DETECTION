{
  "nbformat": 4,
  "nbformat_minor": 0,
  "metadata": {
    "colab": {
      "name": "Projet_IA.ipynb",
      "provenance": [],
      "collapsed_sections": []
    },
    "kernelspec": {
      "name": "python3",
      "display_name": "Python 3"
    },
    "language_info": {
      "name": "python"
    }
  },
  "cells": [
    {
      "cell_type": "code",
      "execution_count": 10,
      "metadata": {
        "id": "RKvkYzhJBh1S"
      },
      "outputs": [],
      "source": [
        "import pandas as pd\n",
        "import numpy as np\n",
        "import nltk as nk\n",
        "import re "
      ]
    },
    {
      "cell_type": "code",
      "execution_count": 11,
      "metadata": {
        "id": "CYIrpUkuAK18"
      },
      "outputs": [],
      "source": [
        "from itertools import chain"
      ]
    },
    {
      "cell_type": "code",
      "execution_count": 12,
      "metadata": {
        "colab": {
          "base_uri": "https://localhost:8080/"
        },
        "outputId": "25138d74-296c-41dd-a44a-59d27d4e5fe9",
        "id": "FWb8XwL0Bh1V"
      },
      "outputs": [
        {
          "output_type": "stream",
          "name": "stdout",
          "text": [
            "Drive already mounted at /content/drive; to attempt to forcibly remount, call drive.mount(\"/content/drive\", force_remount=True).\n"
          ]
        }
      ],
      "source": [
        "from google.colab import drive\n",
        "drive.mount('/content/drive')"
      ]
    },
    {
      "cell_type": "code",
      "execution_count": 13,
      "metadata": {
        "id": "VGQ5EhS1Bh1X"
      },
      "outputs": [],
      "source": [
        "#df = pd.read_excel(\"Data-FakeRealCOVID.xlsx\")\n",
        "df = pd.read_excel(\"/content/drive/MyDrive/PROJET_IA/Data-FakeRealCOVID.xlsx\")"
      ]
    },
    {
      "cell_type": "code",
      "execution_count": 14,
      "metadata": {
        "colab": {
          "base_uri": "https://localhost:8080/",
          "height": 423
        },
        "id": "9uR7foXZBh1Y",
        "outputId": "49da219f-8e9c-47a3-f5d8-9c0a39f41575"
      },
      "outputs": [
        {
          "output_type": "execute_result",
          "data": {
            "text/html": [
              "\n",
              "  <div id=\"df-743ef215-9d55-4cd2-bf01-7b357add4e69\">\n",
              "    <div class=\"colab-df-container\">\n",
              "      <div>\n",
              "<style scoped>\n",
              "    .dataframe tbody tr th:only-of-type {\n",
              "        vertical-align: middle;\n",
              "    }\n",
              "\n",
              "    .dataframe tbody tr th {\n",
              "        vertical-align: top;\n",
              "    }\n",
              "\n",
              "    .dataframe thead th {\n",
              "        text-align: right;\n",
              "    }\n",
              "</style>\n",
              "<table border=\"1\" class=\"dataframe\">\n",
              "  <thead>\n",
              "    <tr style=\"text-align: right;\">\n",
              "      <th></th>\n",
              "      <th>id</th>\n",
              "      <th>tweet</th>\n",
              "      <th>label</th>\n",
              "    </tr>\n",
              "  </thead>\n",
              "  <tbody>\n",
              "    <tr>\n",
              "      <th>0</th>\n",
              "      <td>1</td>\n",
              "      <td>The CDC currently reports 99031 deaths. In gen...</td>\n",
              "      <td>real</td>\n",
              "    </tr>\n",
              "    <tr>\n",
              "      <th>1</th>\n",
              "      <td>2</td>\n",
              "      <td>States reported 1121 deaths a small rise from ...</td>\n",
              "      <td>real</td>\n",
              "    </tr>\n",
              "    <tr>\n",
              "      <th>2</th>\n",
              "      <td>3</td>\n",
              "      <td>Politically Correct Woman (Almost) Uses Pandem...</td>\n",
              "      <td>fake</td>\n",
              "    </tr>\n",
              "    <tr>\n",
              "      <th>3</th>\n",
              "      <td>4</td>\n",
              "      <td>#IndiaFightsCorona: We have 1524 #COVID testin...</td>\n",
              "      <td>real</td>\n",
              "    </tr>\n",
              "    <tr>\n",
              "      <th>4</th>\n",
              "      <td>5</td>\n",
              "      <td>Populous states can generate large case counts...</td>\n",
              "      <td>real</td>\n",
              "    </tr>\n",
              "    <tr>\n",
              "      <th>...</th>\n",
              "      <td>...</td>\n",
              "      <td>...</td>\n",
              "      <td>...</td>\n",
              "    </tr>\n",
              "    <tr>\n",
              "      <th>6415</th>\n",
              "      <td>6416</td>\n",
              "      <td>A tiger tested positive for COVID-19 please st...</td>\n",
              "      <td>fake</td>\n",
              "    </tr>\n",
              "    <tr>\n",
              "      <th>6416</th>\n",
              "      <td>6417</td>\n",
              "      <td>???Autopsies prove that COVID-19 is??� a blood...</td>\n",
              "      <td>fake</td>\n",
              "    </tr>\n",
              "    <tr>\n",
              "      <th>6417</th>\n",
              "      <td>6418</td>\n",
              "      <td>_A post claims a COVID-19 vaccine has already ...</td>\n",
              "      <td>fake</td>\n",
              "    </tr>\n",
              "    <tr>\n",
              "      <th>6418</th>\n",
              "      <td>6419</td>\n",
              "      <td>Aamir Khan Donate 250 Cr. In PM Relief Cares Fund</td>\n",
              "      <td>fake</td>\n",
              "    </tr>\n",
              "    <tr>\n",
              "      <th>6419</th>\n",
              "      <td>6420</td>\n",
              "      <td>It has been 93 days since the last case of COV...</td>\n",
              "      <td>real</td>\n",
              "    </tr>\n",
              "  </tbody>\n",
              "</table>\n",
              "<p>6420 rows × 3 columns</p>\n",
              "</div>\n",
              "      <button class=\"colab-df-convert\" onclick=\"convertToInteractive('df-743ef215-9d55-4cd2-bf01-7b357add4e69')\"\n",
              "              title=\"Convert this dataframe to an interactive table.\"\n",
              "              style=\"display:none;\">\n",
              "        \n",
              "  <svg xmlns=\"http://www.w3.org/2000/svg\" height=\"24px\"viewBox=\"0 0 24 24\"\n",
              "       width=\"24px\">\n",
              "    <path d=\"M0 0h24v24H0V0z\" fill=\"none\"/>\n",
              "    <path d=\"M18.56 5.44l.94 2.06.94-2.06 2.06-.94-2.06-.94-.94-2.06-.94 2.06-2.06.94zm-11 1L8.5 8.5l.94-2.06 2.06-.94-2.06-.94L8.5 2.5l-.94 2.06-2.06.94zm10 10l.94 2.06.94-2.06 2.06-.94-2.06-.94-.94-2.06-.94 2.06-2.06.94z\"/><path d=\"M17.41 7.96l-1.37-1.37c-.4-.4-.92-.59-1.43-.59-.52 0-1.04.2-1.43.59L10.3 9.45l-7.72 7.72c-.78.78-.78 2.05 0 2.83L4 21.41c.39.39.9.59 1.41.59.51 0 1.02-.2 1.41-.59l7.78-7.78 2.81-2.81c.8-.78.8-2.07 0-2.86zM5.41 20L4 18.59l7.72-7.72 1.47 1.35L5.41 20z\"/>\n",
              "  </svg>\n",
              "      </button>\n",
              "      \n",
              "  <style>\n",
              "    .colab-df-container {\n",
              "      display:flex;\n",
              "      flex-wrap:wrap;\n",
              "      gap: 12px;\n",
              "    }\n",
              "\n",
              "    .colab-df-convert {\n",
              "      background-color: #E8F0FE;\n",
              "      border: none;\n",
              "      border-radius: 50%;\n",
              "      cursor: pointer;\n",
              "      display: none;\n",
              "      fill: #1967D2;\n",
              "      height: 32px;\n",
              "      padding: 0 0 0 0;\n",
              "      width: 32px;\n",
              "    }\n",
              "\n",
              "    .colab-df-convert:hover {\n",
              "      background-color: #E2EBFA;\n",
              "      box-shadow: 0px 1px 2px rgba(60, 64, 67, 0.3), 0px 1px 3px 1px rgba(60, 64, 67, 0.15);\n",
              "      fill: #174EA6;\n",
              "    }\n",
              "\n",
              "    [theme=dark] .colab-df-convert {\n",
              "      background-color: #3B4455;\n",
              "      fill: #D2E3FC;\n",
              "    }\n",
              "\n",
              "    [theme=dark] .colab-df-convert:hover {\n",
              "      background-color: #434B5C;\n",
              "      box-shadow: 0px 1px 3px 1px rgba(0, 0, 0, 0.15);\n",
              "      filter: drop-shadow(0px 1px 2px rgba(0, 0, 0, 0.3));\n",
              "      fill: #FFFFFF;\n",
              "    }\n",
              "  </style>\n",
              "\n",
              "      <script>\n",
              "        const buttonEl =\n",
              "          document.querySelector('#df-743ef215-9d55-4cd2-bf01-7b357add4e69 button.colab-df-convert');\n",
              "        buttonEl.style.display =\n",
              "          google.colab.kernel.accessAllowed ? 'block' : 'none';\n",
              "\n",
              "        async function convertToInteractive(key) {\n",
              "          const element = document.querySelector('#df-743ef215-9d55-4cd2-bf01-7b357add4e69');\n",
              "          const dataTable =\n",
              "            await google.colab.kernel.invokeFunction('convertToInteractive',\n",
              "                                                     [key], {});\n",
              "          if (!dataTable) return;\n",
              "\n",
              "          const docLinkHtml = 'Like what you see? Visit the ' +\n",
              "            '<a target=\"_blank\" href=https://colab.research.google.com/notebooks/data_table.ipynb>data table notebook</a>'\n",
              "            + ' to learn more about interactive tables.';\n",
              "          element.innerHTML = '';\n",
              "          dataTable['output_type'] = 'display_data';\n",
              "          await google.colab.output.renderOutput(dataTable, element);\n",
              "          const docLink = document.createElement('div');\n",
              "          docLink.innerHTML = docLinkHtml;\n",
              "          element.appendChild(docLink);\n",
              "        }\n",
              "      </script>\n",
              "    </div>\n",
              "  </div>\n",
              "  "
            ],
            "text/plain": [
              "        id                                              tweet label\n",
              "0        1  The CDC currently reports 99031 deaths. In gen...  real\n",
              "1        2  States reported 1121 deaths a small rise from ...  real\n",
              "2        3  Politically Correct Woman (Almost) Uses Pandem...  fake\n",
              "3        4  #IndiaFightsCorona: We have 1524 #COVID testin...  real\n",
              "4        5  Populous states can generate large case counts...  real\n",
              "...    ...                                                ...   ...\n",
              "6415  6416  A tiger tested positive for COVID-19 please st...  fake\n",
              "6416  6417  ???Autopsies prove that COVID-19 is??� a blood...  fake\n",
              "6417  6418  _A post claims a COVID-19 vaccine has already ...  fake\n",
              "6418  6419  Aamir Khan Donate 250 Cr. In PM Relief Cares Fund  fake\n",
              "6419  6420  It has been 93 days since the last case of COV...  real\n",
              "\n",
              "[6420 rows x 3 columns]"
            ]
          },
          "metadata": {},
          "execution_count": 14
        }
      ],
      "source": [
        "df"
      ]
    },
    {
      "cell_type": "markdown",
      "metadata": {
        "id": "IuaXGYdlAK2B"
      },
      "source": [
        "**Hamronization**"
      ]
    },
    {
      "cell_type": "code",
      "execution_count": 15,
      "metadata": {
        "id": "d8MREbtdBh1a"
      },
      "outputs": [],
      "source": [
        "def lowerTweet(tweet):\n",
        "    return tweet.lower()"
      ]
    },
    {
      "cell_type": "code",
      "execution_count": 16,
      "metadata": {
        "id": "h10LTyP8AK2G",
        "colab": {
          "base_uri": "https://localhost:8080/",
          "height": 52
        },
        "outputId": "5e50b720-9496-4b07-b2c4-76fc570749cd"
      },
      "outputs": [
        {
          "output_type": "execute_result",
          "data": {
            "application/vnd.google.colaboratory.intrinsic+json": {
              "type": "string"
            },
            "text/plain": [
              "'The CDC currently reports 99031 deaths. In general the discrepancies in death counts between different sources are small and explicable. The death toll stands at roughly 100000 people today.'"
            ]
          },
          "metadata": {},
          "execution_count": 16
        }
      ],
      "source": [
        "df.tweet.loc[0]"
      ]
    },
    {
      "cell_type": "code",
      "execution_count": 17,
      "metadata": {
        "id": "SMwYKRrWAK2H",
        "colab": {
          "base_uri": "https://localhost:8080/",
          "height": 52
        },
        "outputId": "f571dd79-95b8-4502-e773-838775aba282"
      },
      "outputs": [
        {
          "output_type": "execute_result",
          "data": {
            "application/vnd.google.colaboratory.intrinsic+json": {
              "type": "string"
            },
            "text/plain": [
              "'the cdc currently reports 99031 deaths. in general the discrepancies in death counts between different sources are small and explicable. the death toll stands at roughly 100000 people today.'"
            ]
          },
          "metadata": {},
          "execution_count": 17
        }
      ],
      "source": [
        "lowerTweet(df.tweet.loc[0])"
      ]
    },
    {
      "cell_type": "markdown",
      "metadata": {
        "id": "rT1UKNIwAK2J"
      },
      "source": [
        "**Remove URLS**"
      ]
    },
    {
      "cell_type": "code",
      "execution_count": 18,
      "metadata": {
        "id": "4H6l4kg_Bh1d"
      },
      "outputs": [],
      "source": [
        "# In order to remove any URL within a string in Python, you can use this RegEx function :\n",
        "def removeURLs(tweet):\n",
        "        return re.sub(r'''(?i)\\b((?:https?://|www\\d{0,3}[.]|[a-z0-9.\\-]+[.][a-z]{2,4}/)(?:[^\\s()<>]+|\\(([^\\s()<>]+|(\\([^\\s()<>]+\\)))*\\))+(?:\\(([^\\s()<>]+|(\\([^\\s()<>]+\\)))*\\)|[^\\s`!()\\[\\]{};:'\".,<>?«»“”‘’]))''', \" \", tweet)\n"
      ]
    },
    {
      "cell_type": "code",
      "execution_count": 19,
      "metadata": {
        "id": "96VIbAd_AK2L",
        "colab": {
          "base_uri": "https://localhost:8080/",
          "height": 52
        },
        "outputId": "f79856fb-3b7c-4ab0-ebed-88ddbda845d8"
      },
      "outputs": [
        {
          "output_type": "execute_result",
          "data": {
            "application/vnd.google.colaboratory.intrinsic+json": {
              "type": "string"
            },
            "text/plain": [
              "'Populous states can generate large case counts but if you look at the new cases per million today 9 smaller states are showing more cases per million than California or Texas: AL AR ID KS KY LA MS NV and SC. https://t.co/1pYW6cWRaS'"
            ]
          },
          "metadata": {},
          "execution_count": 19
        }
      ],
      "source": [
        "df.loc[4,'tweet']"
      ]
    },
    {
      "cell_type": "code",
      "execution_count": 21,
      "metadata": {
        "colab": {
          "base_uri": "https://localhost:8080/",
          "height": 52
        },
        "id": "jb4ZbzuGBh1g",
        "outputId": "1a792c22-dc1f-494e-c31b-dade932e6ecb"
      },
      "outputs": [
        {
          "output_type": "execute_result",
          "data": {
            "application/vnd.google.colaboratory.intrinsic+json": {
              "type": "string"
            },
            "text/plain": [
              "'Populous states can generate large case counts but if you look at the new cases per million today 9 smaller states are showing more cases per million than California or Texas: AL AR ID KS KY LA MS NV and SC.  '"
            ]
          },
          "metadata": {},
          "execution_count": 21
        }
      ],
      "source": [
        "removeURLs(df.loc[4,'tweet'])"
      ]
    },
    {
      "cell_type": "markdown",
      "metadata": {
        "id": "XiUWKGfaBh1g"
      },
      "source": [
        "**Remove emojis**"
      ]
    },
    {
      "cell_type": "code",
      "execution_count": 22,
      "metadata": {
        "colab": {
          "base_uri": "https://localhost:8080/",
          "height": 52
        },
        "id": "_nMd6A1uBh1h",
        "outputId": "56fee464-1304-4b04-cc6e-87c9a2509684"
      },
      "outputs": [
        {
          "output_type": "execute_result",
          "data": {
            "application/vnd.google.colaboratory.intrinsic+json": {
              "type": "string"
            },
            "text/plain": [
              "'📢#CoronaVirusUpdates: 📍#COVID19 India Tracker (As on 7 September 2020 08:00 AM) ➡️Confirmed cases: 4204613 ➡️Recovered: 3250429 (77.3%)👍 ➡️Active cases: 882542 (21.0%) ➡️Deaths: 71642 (1.7%) #IndiaFightsCorona #IndiaWillWin #StaySafe Via @MoHFW_INDIA https://t.co/WVQslxqBPC'"
            ]
          },
          "metadata": {},
          "execution_count": 22
        }
      ],
      "source": [
        "#i took an example to work on \n",
        "example = df.loc[89,'tweet']\n",
        "example"
      ]
    },
    {
      "cell_type": "code",
      "execution_count": 25,
      "metadata": {
        "id": "nBl6paisAK2O",
        "colab": {
          "base_uri": "https://localhost:8080/",
          "height": 122
        },
        "outputId": "82ce3e2a-b01f-4f1d-81c6-861494cca266"
      },
      "outputs": [
        {
          "output_type": "execute_result",
          "data": {
            "application/vnd.google.colaboratory.intrinsic+json": {
              "type": "string"
            },
            "text/plain": [
              "'def remove_emoji(string):\\n    emoji_pattern = re.compile(\"[\"\\n                               u\"😀-🙏\"  # emoticons\\n                               u\"🌀-🗿\"  # symbols & pictographs\\n                               u\"🚀-\\U0001f6ff\"  # transport & map symbols\\n                               u\"\\U0001f1e0-🇿\"  # flags (iOS)\\n                               u\"─-⯯\"  # chinese char\\n                               u\"✂-➰\"\\n                               u\"✂-➰\"\\n                               u\"Ⓜ-🉑\"\\n                               u\"🤦-🤷\"\\n                               u\"𐀀-\\U0010ffff\"\\n                               u\"♀-♂\"\\n                               u\"☀-⭕\"\\n                               u\"\\u200d\"\\n                               u\"⏏\"\\n                               u\"⏩\"\\n                               u\"⌚\"\\n                               u\"️\"  # dingbats\\n                               u\"〰\"\\n                               \"]+\", flags=re.UNICODE)\\n    return emoji_pattern.sub(r\\'\\', string)\\nremove_emoji(df.loc[6416,\\'tweet\\'])'"
            ]
          },
          "metadata": {},
          "execution_count": 25
        }
      ],
      "source": [
        "# Remove all traces of emoji from a text file.\n",
        "\n",
        "'''def remove_emoji(string):\n",
        "    emoji_pattern = re.compile(\"[\"\n",
        "                               u\"\\U0001F600-\\U0001F64F\"  # emoticons\n",
        "                               u\"\\U0001F300-\\U0001F5FF\"  # symbols & pictographs\n",
        "                               u\"\\U0001F680-\\U0001F6FF\"  # transport & map symbols\n",
        "                               u\"\\U0001F1E0-\\U0001F1FF\"  # flags (iOS)\n",
        "                               u\"\\U00002500-\\U00002BEF\"  # chinese char\n",
        "                               u\"\\U00002702-\\U000027B0\"\n",
        "                               u\"\\U00002702-\\U000027B0\"\n",
        "                               u\"\\U000024C2-\\U0001F251\"\n",
        "                               u\"\\U0001f926-\\U0001f937\"\n",
        "                               u\"\\U00010000-\\U0010ffff\"\n",
        "                               u\"\\u2640-\\u2642\"\n",
        "                               u\"\\u2600-\\u2B55\"\n",
        "                               u\"\\u200d\"\n",
        "                               u\"\\u23cf\"\n",
        "                               u\"\\u23e9\"\n",
        "                               u\"\\u231a\"\n",
        "                               u\"\\ufe0f\"  # dingbats\n",
        "                               u\"\\u3030\"\n",
        "                               \"]+\", flags=re.UNICODE)\n",
        "    return emoji_pattern.sub(r'', string)\n",
        "remove_emoji(df.loc[6416,'tweet'])'''"
      ]
    },
    {
      "cell_type": "code",
      "execution_count": 26,
      "metadata": {
        "id": "23hpmeK4Bh1j"
      },
      "outputs": [],
      "source": [
        "#the easiet solution we found is to turn text incode into ascii wich does not include emojis and ignore all other characters that are not defined on ascii encode\n",
        "#we use encode function which turns string into ascii code and ignoring none ascii characters\n",
        "#then decode to make the ascii code a string again\n",
        "def toAscii(tweet):\n",
        "  return  (tweet.encode('ascii',errors='ignore')).decode('ascii') \n"
      ]
    },
    {
      "cell_type": "code",
      "execution_count": 27,
      "metadata": {
        "id": "5fC1-oelAK2Q",
        "colab": {
          "base_uri": "https://localhost:8080/",
          "height": 52
        },
        "outputId": "65224eab-9827-4645-d086-862450fa67f2"
      },
      "outputs": [
        {
          "output_type": "execute_result",
          "data": {
            "application/vnd.google.colaboratory.intrinsic+json": {
              "type": "string"
            },
            "text/plain": [
              "'#CoronaVirusUpdates: #COVID19 India Tracker (As on 7 September 2020 08:00 AM) Confirmed cases: 4204613 Recovered: 3250429 (77.3%) Active cases: 882542 (21.0%) Deaths: 71642 (1.7%) #IndiaFightsCorona #IndiaWillWin #StaySafe Via @MoHFW_INDIA https://t.co/WVQslxqBPC'"
            ]
          },
          "metadata": {},
          "execution_count": 27
        }
      ],
      "source": [
        "toAscii(example)"
      ]
    },
    {
      "cell_type": "markdown",
      "metadata": {
        "id": "fhWZSTsaAK2Q"
      },
      "source": [
        "**Remove ponctuation**"
      ]
    },
    {
      "cell_type": "code",
      "execution_count": 28,
      "metadata": {
        "id": "T_TEK1ZFAK2Q"
      },
      "outputs": [],
      "source": [
        "#removing all numbers ,ponctuation & special characters such as @ and #\n",
        "#refrence to https://www.kerryr.net/pioneers/ascii3.htm\n",
        "\n",
        "def removeSpecialChar(text):\n",
        "    text = list(text)\n",
        "    \n",
        "    #remove special character & ponctuations & numbers\n",
        "    listOfSpecialChars =  [*range(33,48),*range(58,64),*range(91,97),*range(123,127)]\n",
        "    \n",
        "    text = [char for char in text if (ord(char) not in listOfSpecialChars and not char.isdigit())] \n",
        "    \n",
        "    return ''.join(text)"
      ]
    },
    {
      "cell_type": "code",
      "execution_count": 29,
      "metadata": {
        "id": "F6Xwd6YoAK2R",
        "colab": {
          "base_uri": "https://localhost:8080/",
          "height": 52
        },
        "outputId": "96248dc1-bbfa-4a8d-f8b5-9266ace98eaa"
      },
      "outputs": [
        {
          "output_type": "execute_result",
          "data": {
            "application/vnd.google.colaboratory.intrinsic+json": {
              "type": "string"
            },
            "text/plain": [
              "'132 new cases of #COVID19Nigeria; Lagos-52 Gombe-27 Plateau-17 Kwara-10 Enugu-9 Ogun-9 Katsina-3 Ekiti-2 Bauchi-1 Osun-1 Rivers-1 56388 confirmed 44337 discharged 1083 deaths https://t.co/Enpey5u7xh'"
            ]
          },
          "metadata": {},
          "execution_count": 29
        }
      ],
      "source": [
        "#lets test on this example\n",
        "df.loc[51].tweet"
      ]
    },
    {
      "cell_type": "code",
      "execution_count": 30,
      "metadata": {
        "id": "1IdKq6JTAK2S",
        "colab": {
          "base_uri": "https://localhost:8080/",
          "height": 35
        },
        "outputId": "6b9b55d5-8e34-4d89-e2f2-e268882233fb"
      },
      "outputs": [
        {
          "output_type": "execute_result",
          "data": {
            "application/vnd.google.colaboratory.intrinsic+json": {
              "type": "string"
            },
            "text/plain": [
              "' new cases of COVIDNigeria Lagos Gombe Plateau Kwara Enugu Ogun Katsina Ekiti Bauchi Osun Rivers  confirmed  discharged  deaths httpstcoEnpeyuxh'"
            ]
          },
          "metadata": {},
          "execution_count": 30
        }
      ],
      "source": [
        "removeSpecialChar(df.loc[51].tweet)"
      ]
    },
    {
      "cell_type": "markdown",
      "metadata": {
        "id": "7w0yzUVTAK2S"
      },
      "source": [
        "**Removing stopWords**"
      ]
    },
    {
      "cell_type": "code",
      "execution_count": 31,
      "metadata": {
        "id": "25i_Ef2-AK2T",
        "colab": {
          "base_uri": "https://localhost:8080/"
        },
        "outputId": "5238efa1-7bd7-46fe-84cf-c3167c2eef0e"
      },
      "outputs": [
        {
          "output_type": "stream",
          "name": "stdout",
          "text": [
            "[nltk_data] Downloading package stopwords to /root/nltk_data...\n",
            "[nltk_data]   Unzipping corpora/stopwords.zip.\n"
          ]
        }
      ],
      "source": [
        "nk.download('stopwords')\n",
        "\n",
        "from nltk.corpus import stopwords"
      ]
    },
    {
      "cell_type": "code",
      "execution_count": 53,
      "metadata": {
        "id": "uF2Jpr9YAK2T"
      },
      "outputs": [],
      "source": [
        "def removeStopWords(text):\n",
        "    sw = stopwords.words(\"english\")\n",
        "    return removeSpecialChar(text)"
      ]
    },
    {
      "cell_type": "code",
      "execution_count": 33,
      "metadata": {
        "id": "SjkwLOvwAK2U",
        "colab": {
          "base_uri": "https://localhost:8080/",
          "height": 52
        },
        "outputId": "0aad748d-ef08-40fb-8e13-04ef97230e3c"
      },
      "outputs": [
        {
          "output_type": "execute_result",
          "data": {
            "application/vnd.google.colaboratory.intrinsic+json": {
              "type": "string"
            },
            "text/plain": [
              "'132 new cases of #COVID19Nigeria; Lagos-52 Gombe-27 Plateau-17 Kwara-10 Enugu-9 Ogun-9 Katsina-3 Ekiti-2 Bauchi-1 Osun-1 Rivers-1 56388 confirmed 44337 discharged 1083 deaths https://t.co/Enpey5u7xh'"
            ]
          },
          "metadata": {},
          "execution_count": 33
        }
      ],
      "source": [
        "df.loc[51].tweet"
      ]
    },
    {
      "cell_type": "code",
      "execution_count": 54,
      "metadata": {
        "id": "pr4WOn-QAK2U",
        "colab": {
          "base_uri": "https://localhost:8080/",
          "height": 35
        },
        "outputId": "21d7a2e2-5432-4f5a-bb2a-61ae9ecc327f"
      },
      "outputs": [
        {
          "output_type": "execute_result",
          "data": {
            "application/vnd.google.colaboratory.intrinsic+json": {
              "type": "string"
            },
            "text/plain": [
              "' new cases of COVIDNigeria Lagos Gombe Plateau Kwara Enugu Ogun Katsina Ekiti Bauchi Osun Rivers  confirmed  discharged  deaths httpstcoEnpeyuxh'"
            ]
          },
          "metadata": {},
          "execution_count": 54
        }
      ],
      "source": [
        "removeStopWords(df.loc[51].tweet)"
      ]
    },
    {
      "cell_type": "markdown",
      "metadata": {
        "id": "S4rmI9gQBh1r"
      },
      "source": [
        "**Data** **Preprocessing**:"
      ]
    },
    {
      "cell_type": "code",
      "execution_count": 35,
      "metadata": {
        "id": "juS8Upz8Bh1s"
      },
      "outputs": [],
      "source": [
        "\n",
        "# def preprocess(text):\n",
        "  # lowercase the text\n",
        "  # text=text.lower()\n",
        "  # remove the words counting just one letter\n",
        "  # text = [t for t in text.split(\" \") if len(t) > 1]\n",
        "  # text = re.sub('https?://\\S+|www\\.\\S+', '', text)\n",
        "  # return text\n"
      ]
    },
    {
      "cell_type": "code",
      "execution_count": 36,
      "metadata": {
        "id": "qJ7PX2UbBh1t"
      },
      "outputs": [],
      "source": [
        "# df = pd.read_excel(\"/content/drive/MyDrive/PROJET_IA/Data-FakeRealCOVID.xlsx\")\n",
        "\n",
        "# df['tweet']=df['tweet'].apply(preprocess)"
      ]
    },
    {
      "cell_type": "code",
      "execution_count": 55,
      "metadata": {
        "id": "ODA_kQ4GBh1z"
      },
      "outputs": [],
      "source": [
        "def preprocess(text):\n",
        "    text = lowerTweet(text)\n",
        "    text = removeURLs(text)\n",
        "    text = toAscii(text)\n",
        "    text = removeSpecialChar(text)\n",
        "    text = removeStopWords(text)\n",
        "    return text"
      ]
    },
    {
      "cell_type": "code",
      "execution_count": 51,
      "metadata": {
        "colab": {
          "base_uri": "https://localhost:8080/",
          "height": 52
        },
        "id": "BbkXq8umBh10",
        "outputId": "344c00aa-ab38-4441-cac5-d29db5dba74a"
      },
      "outputs": [
        {
          "output_type": "execute_result",
          "data": {
            "application/vnd.google.colaboratory.intrinsic+json": {
              "type": "string"
            },
            "text/plain": [
              "'Children under 18 years represent about 8.5% of reported #COVID19 cases with few deaths compared to other age groups &amp; usually mild disease. 👉 https://t.co/Cs7uxQRRMN https://t.co/l4gqfttYmg'"
            ]
          },
          "metadata": {},
          "execution_count": 51
        }
      ],
      "source": [
        "df.loc[209,'tweet']"
      ]
    },
    {
      "cell_type": "code",
      "execution_count": 56,
      "metadata": {
        "colab": {
          "base_uri": "https://localhost:8080/",
          "height": 35
        },
        "id": "MoYV-TKYBh11",
        "outputId": "892416a5-15a6-43b6-cbf4-65d2d3cdd40f"
      },
      "outputs": [
        {
          "output_type": "execute_result",
          "data": {
            "application/vnd.google.colaboratory.intrinsic+json": {
              "type": "string"
            },
            "text/plain": [
              "'children under  years represent about  of reported covid cases with few deaths compared to other age groups amp usually mild disease     '"
            ]
          },
          "metadata": {},
          "execution_count": 56
        }
      ],
      "source": [
        "preprocess(df.loc[209,'tweet'])"
      ]
    },
    {
      "cell_type": "markdown",
      "metadata": {
        "id": "6oZ8nAmpAK2W"
      },
      "source": [
        "**Tokenize**"
      ]
    },
    {
      "cell_type": "code",
      "execution_count": 40,
      "metadata": {
        "id": "_bcp7KTQAK2W",
        "colab": {
          "base_uri": "https://localhost:8080/"
        },
        "outputId": "726d9c7e-fa7b-42de-8fd2-ee7b399da1eb"
      },
      "outputs": [
        {
          "output_type": "stream",
          "name": "stdout",
          "text": [
            "[nltk_data] Downloading package punkt to /root/nltk_data...\n",
            "[nltk_data]   Unzipping tokenizers/punkt.zip.\n"
          ]
        },
        {
          "output_type": "execute_result",
          "data": {
            "text/plain": [
              "True"
            ]
          },
          "metadata": {},
          "execution_count": 40
        }
      ],
      "source": [
        "nk.download('punkt')"
      ]
    },
    {
      "cell_type": "code",
      "execution_count": 41,
      "metadata": {
        "id": "Edze_HVqAK2W"
      },
      "outputs": [],
      "source": [
        "def tokenize(text):\n",
        "    return nk.word_tokenize(text)"
      ]
    },
    {
      "cell_type": "code",
      "execution_count": 46,
      "metadata": {
        "id": "27cbSYoQAK2X",
        "colab": {
          "base_uri": "https://localhost:8080/",
          "height": 52
        },
        "outputId": "822d9ec7-a8ac-4472-c019-954ecda0b747"
      },
      "outputs": [
        {
          "output_type": "execute_result",
          "data": {
            "application/vnd.google.colaboratory.intrinsic+json": {
              "type": "string"
            },
            "text/plain": [
              "'132 new cases of #COVID19Nigeria; Lagos-52 Gombe-27 Plateau-17 Kwara-10 Enugu-9 Ogun-9 Katsina-3 Ekiti-2 Bauchi-1 Osun-1 Rivers-1 56388 confirmed 44337 discharged 1083 deaths https://t.co/Enpey5u7xh'"
            ]
          },
          "metadata": {},
          "execution_count": 46
        }
      ],
      "source": [
        "df.loc[51,'tweet']"
      ]
    },
    {
      "cell_type": "code",
      "execution_count": 57,
      "metadata": {
        "id": "qkWFJCQHAK2X",
        "colab": {
          "base_uri": "https://localhost:8080/"
        },
        "outputId": "864dd7c1-7341-4ce4-a7da-98d98a8eed53"
      },
      "outputs": [
        {
          "output_type": "execute_result",
          "data": {
            "text/plain": [
              "['new',\n",
              " 'cases',\n",
              " 'of',\n",
              " 'COVIDNigeria',\n",
              " 'Lagos',\n",
              " 'Gombe',\n",
              " 'Plateau',\n",
              " 'Kwara',\n",
              " 'Enugu',\n",
              " 'Ogun',\n",
              " 'Katsina',\n",
              " 'Ekiti',\n",
              " 'Bauchi',\n",
              " 'Osun',\n",
              " 'Rivers',\n",
              " 'confirmed',\n",
              " 'discharged',\n",
              " 'deaths',\n",
              " 'httpstcoEnpeyuxh']"
            ]
          },
          "metadata": {},
          "execution_count": 57
        }
      ],
      "source": [
        "tokenize(removeSpecialChar(df.loc[51,'tweet']))"
      ]
    },
    {
      "cell_type": "code",
      "execution_count": 58,
      "metadata": {
        "id": "Yz5P-tXXAK2X"
      },
      "outputs": [],
      "source": [
        "def bagOfWords(df):\n",
        "    bag = []\n",
        "    for tweet in df.tweet:\n",
        "        bag += tokenize(preprocess(tweet))\n",
        "    return bag"
      ]
    },
    {
      "cell_type": "code",
      "execution_count": 59,
      "metadata": {
        "id": "MzSoYzC1AK2Y",
        "colab": {
          "base_uri": "https://localhost:8080/"
        },
        "outputId": "9d7840b1-9005-4a1d-c328-340e79fd58c1"
      },
      "outputs": [
        {
          "output_type": "execute_result",
          "data": {
            "text/plain": [
              "['the',\n",
              " 'cdc',\n",
              " 'currently',\n",
              " 'reports',\n",
              " 'deaths',\n",
              " 'in',\n",
              " 'general',\n",
              " 'the',\n",
              " 'discrepancies',\n",
              " 'in',\n",
              " 'death',\n",
              " 'counts',\n",
              " 'between',\n",
              " 'different',\n",
              " 'sources',\n",
              " 'are',\n",
              " 'small',\n",
              " 'and',\n",
              " 'explicable',\n",
              " 'the',\n",
              " 'death',\n",
              " 'toll',\n",
              " 'stands',\n",
              " 'at',\n",
              " 'roughly',\n",
              " 'people',\n",
              " 'today',\n",
              " 'states',\n",
              " 'reported',\n",
              " 'deaths',\n",
              " 'a',\n",
              " 'small',\n",
              " 'rise',\n",
              " 'from',\n",
              " 'last',\n",
              " 'tuesday',\n",
              " 'southern',\n",
              " 'states',\n",
              " 'reported',\n",
              " 'of',\n",
              " 'those',\n",
              " 'deaths',\n",
              " 'politically',\n",
              " 'correct',\n",
              " 'woman',\n",
              " 'almost',\n",
              " 'uses',\n",
              " 'pandemic',\n",
              " 'as',\n",
              " 'excuse',\n",
              " 'not',\n",
              " 'to',\n",
              " 'reuse',\n",
              " 'plastic',\n",
              " 'bag',\n",
              " 'coronavirus',\n",
              " 'nashville',\n",
              " 'indiafightscorona',\n",
              " 'we',\n",
              " 'have',\n",
              " 'covid',\n",
              " 'testing',\n",
              " 'laboratories',\n",
              " 'in',\n",
              " 'india',\n",
              " 'and',\n",
              " 'as',\n",
              " 'on',\n",
              " 'th',\n",
              " 'august',\n",
              " 'tests',\n",
              " 'have',\n",
              " 'been',\n",
              " 'done',\n",
              " '@',\n",
              " 'profbhargava',\n",
              " 'dg',\n",
              " '@',\n",
              " 'icmrdelhi',\n",
              " 'staysafe',\n",
              " 'indiawillwin',\n",
              " 'populous',\n",
              " 'states',\n",
              " 'can',\n",
              " 'generate',\n",
              " 'large',\n",
              " 'case',\n",
              " 'counts',\n",
              " 'but',\n",
              " 'if',\n",
              " 'you',\n",
              " 'look',\n",
              " 'at',\n",
              " 'the',\n",
              " 'new',\n",
              " 'cases',\n",
              " 'per',\n",
              " 'million',\n",
              " 'today',\n",
              " 'smaller',\n",
              " 'states',\n",
              " 'are',\n",
              " 'showing',\n",
              " 'more',\n",
              " 'cases',\n",
              " 'per',\n",
              " 'million',\n",
              " 'than',\n",
              " 'california',\n",
              " 'or',\n",
              " 'texas',\n",
              " 'al',\n",
              " 'ar',\n",
              " 'id',\n",
              " 'ks',\n",
              " 'ky',\n",
              " 'la',\n",
              " 'ms',\n",
              " 'nv',\n",
              " 'and',\n",
              " 'sc',\n",
              " 'covid',\n",
              " 'act',\n",
              " 'now',\n",
              " 'found',\n",
              " 'on',\n",
              " 'average',\n",
              " 'each',\n",
              " 'person',\n",
              " 'in',\n",
              " 'illinois',\n",
              " 'with',\n",
              " 'covid',\n",
              " 'is',\n",
              " 'infecting',\n",
              " 'other',\n",
              " 'people',\n",
              " 'data',\n",
              " 'shows',\n",
              " 'that',\n",
              " 'the',\n",
              " 'infection',\n",
              " 'growth',\n",
              " 'rate',\n",
              " 'has',\n",
              " 'declined',\n",
              " 'over',\n",
              " 'time',\n",
              " 'this',\n",
              " 'factors',\n",
              " 'in',\n",
              " 'the',\n",
              " 'stayathome',\n",
              " 'order',\n",
              " 'and',\n",
              " 'other',\n",
              " 'restrictions',\n",
              " 'put',\n",
              " 'in',\n",
              " 'place',\n",
              " 'if',\n",
              " 'you',\n",
              " 'tested',\n",
              " 'positive',\n",
              " 'for',\n",
              " 'covid',\n",
              " 'and',\n",
              " 'have',\n",
              " 'no',\n",
              " 'symptoms',\n",
              " 'stay',\n",
              " 'home',\n",
              " 'and',\n",
              " 'away',\n",
              " 'from',\n",
              " 'other',\n",
              " 'people',\n",
              " 'learn',\n",
              " 'more',\n",
              " 'about',\n",
              " 'cdcs',\n",
              " 'recommendations',\n",
              " 'about',\n",
              " 'when',\n",
              " 'you',\n",
              " 'can',\n",
              " 'be',\n",
              " 'around',\n",
              " 'others',\n",
              " 'after',\n",
              " 'covid',\n",
              " 'infection',\n",
              " 'obama',\n",
              " 'calls',\n",
              " 'trumps',\n",
              " 'coronavirus',\n",
              " 'response',\n",
              " 'a',\n",
              " 'chaotic',\n",
              " 'disaster',\n",
              " 'clearly',\n",
              " 'the',\n",
              " 'obama',\n",
              " 'administration',\n",
              " 'did',\n",
              " 'not',\n",
              " 'leave',\n",
              " 'any',\n",
              " 'kind',\n",
              " 'of',\n",
              " 'game',\n",
              " 'plan',\n",
              " 'for',\n",
              " 'something',\n",
              " 'like',\n",
              " 'this',\n",
              " 'retractionhydroxychloroquine',\n",
              " 'or',\n",
              " 'chloroquine',\n",
              " 'with',\n",
              " 'or',\n",
              " 'without',\n",
              " 'a',\n",
              " 'macrolide',\n",
              " 'for',\n",
              " 'treatment',\n",
              " 'of',\n",
              " 'covid',\n",
              " 'a',\n",
              " 'multinational',\n",
              " 'registry',\n",
              " 'analysis',\n",
              " 'the',\n",
              " 'lancet',\n",
              " 'take',\n",
              " 'simple',\n",
              " 'daily',\n",
              " 'precautions',\n",
              " 'to',\n",
              " 'help',\n",
              " 'prevent',\n",
              " 'the',\n",
              " 'spread',\n",
              " 'of',\n",
              " 'respiratory',\n",
              " 'illnesses',\n",
              " 'like',\n",
              " 'covid',\n",
              " 'learn',\n",
              " 'how',\n",
              " 'to',\n",
              " 'protect',\n",
              " 'yourself',\n",
              " 'from',\n",
              " 'coronavirus',\n",
              " 'covid',\n",
              " 'the',\n",
              " 'nba',\n",
              " 'is',\n",
              " 'poised',\n",
              " 'to',\n",
              " 'restart',\n",
              " 'this',\n",
              " 'month',\n",
              " 'in',\n",
              " 'march',\n",
              " 'we',\n",
              " 'reported',\n",
              " 'on',\n",
              " 'how',\n",
              " 'the',\n",
              " 'utah',\n",
              " 'jazz',\n",
              " 'got',\n",
              " 'coronavirus',\n",
              " 'tests',\n",
              " 'in',\n",
              " 'a',\n",
              " 'matter',\n",
              " 'of',\n",
              " 'hours',\n",
              " 'at',\n",
              " 'a',\n",
              " 'time',\n",
              " 'when',\n",
              " 'us',\n",
              " 'testing',\n",
              " 'was',\n",
              " 'sluggish',\n",
              " 'we',\n",
              " 'just',\n",
              " 'announced',\n",
              " 'that',\n",
              " 'the',\n",
              " 'first',\n",
              " 'participants',\n",
              " 'in',\n",
              " 'each',\n",
              " 'age',\n",
              " 'cohort',\n",
              " 'have',\n",
              " 'been',\n",
              " 'dosed',\n",
              " 'in',\n",
              " 'the',\n",
              " 'phase',\n",
              " 'study',\n",
              " 'of',\n",
              " 'our',\n",
              " 'mrna',\n",
              " 'vaccine',\n",
              " 'mrna',\n",
              " 'against',\n",
              " 'novel',\n",
              " 'coronavirus',\n",
              " 'read',\n",
              " 'more',\n",
              " 'mrna',\n",
              " 'coronavirusupdates',\n",
              " 'indiafightscorona',\n",
              " 'more',\n",
              " 'than',\n",
              " 'lakh',\n",
              " 'tests',\n",
              " 'done',\n",
              " 'for',\n",
              " 'rd',\n",
              " 'successive',\n",
              " 'day',\n",
              " 'cumulative',\n",
              " 'testing',\n",
              " 'as',\n",
              " 'on',\n",
              " 'date',\n",
              " 'has',\n",
              " 'reached',\n",
              " 'covid',\n",
              " 'tests',\n",
              " 'per',\n",
              " 'million',\n",
              " 'tpm',\n",
              " 'cross',\n",
              " 'protect',\n",
              " 'yourself',\n",
              " 'and',\n",
              " 'others',\n",
              " 'from',\n",
              " 'covid',\n",
              " 'when',\n",
              " 'using',\n",
              " 'public',\n",
              " 'transportation',\n",
              " 'practice',\n",
              " 'social',\n",
              " 'distancing',\n",
              " 'avoid',\n",
              " 'touching',\n",
              " 'surfaces',\n",
              " 'and',\n",
              " 'practice',\n",
              " 'hand',\n",
              " 'hygiene',\n",
              " 'learn',\n",
              " 'more',\n",
              " 'as',\n",
              " 'of',\n",
              " 'august',\n",
              " 'am',\n",
              " 'till',\n",
              " 'now',\n",
              " 'there',\n",
              " 'have',\n",
              " 'been',\n",
              " 'a',\n",
              " 'total',\n",
              " 'of',\n",
              " 'covid',\n",
              " 'positive',\n",
              " 'cases',\n",
              " 'amp',\n",
              " 'covid',\n",
              " 'related',\n",
              " 'deaths',\n",
              " 'in',\n",
              " 'manipur',\n",
              " 'covid',\n",
              " 'covid',\n",
              " 'covidindia',\n",
              " 'covidupdates',\n",
              " 'coronaupdates',\n",
              " 'corona',\n",
              " 'coronavirus',\n",
              " 'coronavirusindia',\n",
              " 'coronavirusupdates',\n",
              " 'coronaviruspandemic',\n",
              " 'because',\n",
              " 'of',\n",
              " 'donald',\n",
              " 'trumps',\n",
              " 'negligence',\n",
              " 'and',\n",
              " 'incompetence',\n",
              " 'more',\n",
              " 'than',\n",
              " 'people',\n",
              " 'have',\n",
              " 'died',\n",
              " 'we',\n",
              " 'have',\n",
              " 'nearly',\n",
              " 'million',\n",
              " 'cases',\n",
              " 'of',\n",
              " 'covid',\n",
              " 'over',\n",
              " 'million',\n",
              " 'americans',\n",
              " 'are',\n",
              " 'out',\n",
              " 'of',\n",
              " 'work',\n",
              " 'and',\n",
              " 'yet',\n",
              " 'hes',\n",
              " 'patting',\n",
              " 'himself',\n",
              " 'on',\n",
              " 'the',\n",
              " 'back',\n",
              " 'unbelievable',\n",
              " 'indiafightscorona',\n",
              " 'india',\n",
              " 'continues',\n",
              " 'to',\n",
              " 'scale',\n",
              " 'new',\n",
              " 'peaks',\n",
              " 'in',\n",
              " 'covid',\n",
              " 'tests',\n",
              " 'more',\n",
              " 'than',\n",
              " 'lakh',\n",
              " 'samples',\n",
              " 'tested',\n",
              " 'daily',\n",
              " 'for',\n",
              " 'consecutive',\n",
              " 'days',\n",
              " 'no',\n",
              " 'other',\n",
              " 'country',\n",
              " 'has',\n",
              " 'achieved',\n",
              " 'these',\n",
              " 'levels',\n",
              " 'of',\n",
              " 'very',\n",
              " 'high',\n",
              " 'daily',\n",
              " 'testing',\n",
              " '@',\n",
              " 'pmoindia',\n",
              " '@',\n",
              " 'drharshvardhan',\n",
              " '@',\n",
              " 'ashwinikchoubey',\n",
              " '@',\n",
              " 'pibindia',\n",
              " '@',\n",
              " 'ddnewslive',\n",
              " 'we',\n",
              " 'just',\n",
              " 'announced',\n",
              " 'that',\n",
              " 'we',\n",
              " 'have',\n",
              " 'shipped',\n",
              " 'vials',\n",
              " 'of',\n",
              " 'mrna',\n",
              " 'the',\n",
              " 'companys',\n",
              " 'vaccine',\n",
              " 'against',\n",
              " 'the',\n",
              " 'novel',\n",
              " 'coronavirus',\n",
              " 'to',\n",
              " 'the',\n",
              " 'nih',\n",
              " 'to',\n",
              " 'be',\n",
              " 'used',\n",
              " 'in',\n",
              " 'the',\n",
              " 'planned',\n",
              " 'phase',\n",
              " 'study',\n",
              " 'in',\n",
              " 'the',\n",
              " 'us',\n",
              " 'multiple',\n",
              " 'facebook',\n",
              " 'posts',\n",
              " 'claim',\n",
              " 'that',\n",
              " 'aussies',\n",
              " 'will',\n",
              " 'be',\n",
              " 'fined',\n",
              " 'if',\n",
              " 'they',\n",
              " 'are',\n",
              " 'found',\n",
              " 'to',\n",
              " 'be',\n",
              " 'talking',\n",
              " 'about',\n",
              " 'conspiracies',\n",
              " 'to',\n",
              " 'do',\n",
              " 'with',\n",
              " 'covid',\n",
              " 'the',\n",
              " 'posts',\n",
              " 'included',\n",
              " 'a',\n",
              " 'screenshot',\n",
              " 'of',\n",
              " 'a',\n",
              " 'segment',\n",
              " 'from',\n",
              " 'an',\n",
              " 'australian',\n",
              " 'breakfast',\n",
              " 'television',\n",
              " 'show',\n",
              " 'as',\n",
              " 'evidence',\n",
              " 'for',\n",
              " 'the',\n",
              " 'claim',\n",
              " 'no',\n",
              " 'nobel',\n",
              " 'prize',\n",
              " 'laureate',\n",
              " 'tasuku',\n",
              " 'honjo',\n",
              " 'didnt',\n",
              " 'say',\n",
              " 'the',\n",
              " 'coronavirus',\n",
              " 'is',\n",
              " 'not',\n",
              " 'natural',\n",
              " 'as',\n",
              " 'a',\n",
              " 'post',\n",
              " 'on',\n",
              " 'facebook',\n",
              " 'claims',\n",
              " 'in',\n",
              " 'fact',\n",
              " 'professor',\n",
              " 'honjo',\n",
              " 'said',\n",
              " 'hes',\n",
              " 'greatly',\n",
              " 'saddened',\n",
              " 'his',\n",
              " 'name',\n",
              " 'was',\n",
              " 'used',\n",
              " 'to',\n",
              " 'spread',\n",
              " 'misinformation',\n",
              " 'this',\n",
              " 'and',\n",
              " 'more',\n",
              " 'in',\n",
              " 'the',\n",
              " 'latest',\n",
              " 'coronacheck',\n",
              " 'the',\n",
              " 'nz',\n",
              " 'covid',\n",
              " 'tracker',\n",
              " 'app',\n",
              " 'will',\n",
              " 'remain',\n",
              " 'important',\n",
              " 'and',\n",
              " 'useful',\n",
              " 'at',\n",
              " 'alert',\n",
              " 'level',\n",
              " 'people',\n",
              " 'are',\n",
              " 'encouraged',\n",
              " 'to',\n",
              " 'download',\n",
              " 'the',\n",
              " 'app',\n",
              " 'or',\n",
              " 'a',\n",
              " 'similar',\n",
              " 'one',\n",
              " 'or',\n",
              " 'keep',\n",
              " 'a',\n",
              " 'record',\n",
              " 'of',\n",
              " 'where',\n",
              " 'youre',\n",
              " 'going',\n",
              " 'to',\n",
              " 'be',\n",
              " 'breaking',\n",
              " 'news',\n",
              " 'the',\n",
              " 'president',\n",
              " 'cryill',\n",
              " 'ramaphosa',\n",
              " 'has',\n",
              " 'asked',\n",
              " 'all',\n",
              " 'foreign',\n",
              " 'nations',\n",
              " 'to',\n",
              " 'depart',\n",
              " 'south',\n",
              " 'africa',\n",
              " 'before',\n",
              " 'june',\n",
              " 'due',\n",
              " 'to',\n",
              " 'increasing',\n",
              " 'cases',\n",
              " 'of',\n",
              " 'covid',\n",
              " 'we',\n",
              " 'are',\n",
              " 'delighted',\n",
              " 'that',\n",
              " 'high',\n",
              " 'and',\n",
              " 'uppermiddle',\n",
              " 'countries',\n",
              " 'and',\n",
              " 'economies',\n",
              " 'have',\n",
              " 'now',\n",
              " 'confirmed',\n",
              " 'they',\n",
              " 'will',\n",
              " 'participate',\n",
              " 'in',\n",
              " 'the',\n",
              " 'covax',\n",
              " 'facility',\n",
              " 'and',\n",
              " 'the',\n",
              " 'number',\n",
              " 'is',\n",
              " 'growing',\n",
              " 'i',\n",
              " 'urge',\n",
              " 'those',\n",
              " 'who',\n",
              " 'have',\n",
              " 'not',\n",
              " 'yet',\n",
              " 'joined',\n",
              " 'to',\n",
              " 'do',\n",
              " 'so',\n",
              " 'by',\n",
              " 'the',\n",
              " 'th',\n",
              " 'of',\n",
              " 'september',\n",
              " '@',\n",
              " 'drtedros',\n",
              " 'covid',\n",
              " 'very',\n",
              " 'intriguing',\n",
              " 'possibility',\n",
              " 'that',\n",
              " 'mood',\n",
              " 'changes',\n",
              " 'and',\n",
              " 'anxiety',\n",
              " 'may',\n",
              " 'be',\n",
              " 'a',\n",
              " 'function',\n",
              " 'of',\n",
              " 'invasion',\n",
              " 'of',\n",
              " 'the',\n",
              " 'coronavirus',\n",
              " 'into',\n",
              " 'the',\n",
              " 'cns',\n",
              " 'and',\n",
              " 'brain',\n",
              " 'elon',\n",
              " 'musck',\n",
              " 'to',\n",
              " 'new',\n",
              " 'baby',\n",
              " 'get',\n",
              " 'a',\n",
              " 'job',\n",
              " 'kid',\n",
              " 'christmas',\n",
              " 'covid',\n",
              " 'elonmusk',\n",
              " 'achristmascarol',\n",
              " 'a',\n",
              " 'new',\n",
              " 'alcoholfree',\n",
              " 'sanitizer',\n",
              " 'has',\n",
              " 'been',\n",
              " 'developed',\n",
              " 'by',\n",
              " 'the',\n",
              " 'dedan',\n",
              " 'kimathi',\n",
              " 'university',\n",
              " 'in',\n",
              " 'kenya',\n",
              " 'just',\n",
              " 'appendix',\n",
              " 'b',\n",
              " 'gathering',\n",
              " 'all',\n",
              " 'the',\n",
              " 'state',\n",
              " 'orders',\n",
              " 'on',\n",
              " 'testing',\n",
              " 'was',\n",
              " 'a',\n",
              " 'huge',\n",
              " 'chunk',\n",
              " 'of',\n",
              " 'work',\n",
              " 'same',\n",
              " 'goes',\n",
              " 'for',\n",
              " 'appendix',\n",
              " 'd',\n",
              " 'an',\n",
              " 'evaluation',\n",
              " 'of',\n",
              " 'the',\n",
              " 'accessibility',\n",
              " 'of',\n",
              " 'the',\n",
              " 'cdcs',\n",
              " 'data',\n",
              " 'tracker',\n",
              " 'yesterday',\n",
              " 'our',\n",
              " 'laboratories',\n",
              " 'completed',\n",
              " 'tests',\n",
              " 'of',\n",
              " 'those',\n",
              " 'were',\n",
              " 'testing',\n",
              " 'of',\n",
              " 'people',\n",
              " 'in',\n",
              " 'managed',\n",
              " 'isolation',\n",
              " 'and',\n",
              " 'quarantine',\n",
              " 'for',\n",
              " 'the',\n",
              " 'routine',\n",
              " 'testing',\n",
              " 'on',\n",
              " 'either',\n",
              " 'days',\n",
              " 'or',\n",
              " 'of',\n",
              " 'their',\n",
              " 'stay',\n",
              " 'that',\n",
              " 'brings',\n",
              " 'the',\n",
              " 'total',\n",
              " 'number',\n",
              " 'of',\n",
              " 'tests',\n",
              " 'completed',\n",
              " 'to',\n",
              " 'date',\n",
              " 'to',\n",
              " 'reusing',\n",
              " 'n',\n",
              " 'masks',\n",
              " 'nih',\n",
              " 'found',\n",
              " 'vaporized',\n",
              " 'hydrogen',\n",
              " 'peroxide',\n",
              " 'uv',\n",
              " 'light',\n",
              " 'and',\n",
              " 'heat',\n",
              " 'to',\n",
              " 'be',\n",
              " 'effective',\n",
              " 'sanitizers',\n",
              " 'coronavirus',\n",
              " '@',\n",
              " 'realdonaldtrump',\n",
              " 'has',\n",
              " 'shifted',\n",
              " 'his',\n",
              " 'focus',\n",
              " 'at',\n",
              " 'different',\n",
              " 'moments',\n",
              " 'in',\n",
              " 'the',\n",
              " 'coronavirusoutbreak',\n",
              " 'we',\n",
              " 'updated',\n",
              " 'our',\n",
              " 'running',\n",
              " 'timeline',\n",
              " 'of',\n",
              " 'his',\n",
              " 'response',\n",
              " 'to',\n",
              " 'the',\n",
              " 'virus',\n",
              " 'reply',\n",
              " 'to',\n",
              " 'us',\n",
              " 'with',\n",
              " 'any',\n",
              " 'recent',\n",
              " 'trump',\n",
              " 'moments',\n",
              " 'you',\n",
              " 'think',\n",
              " 'belong',\n",
              " 'on',\n",
              " 'this',\n",
              " 'running',\n",
              " 'list',\n",
              " 'doctored',\n",
              " 'image',\n",
              " 'of',\n",
              " 'president',\n",
              " 'donald',\n",
              " 'trump',\n",
              " 'shared',\n",
              " 'claiming',\n",
              " 'he',\n",
              " 'asked',\n",
              " 'people',\n",
              " 'to',\n",
              " 'chant',\n",
              " 'hare',\n",
              " 'krishna',\n",
              " 'hare',\n",
              " 'rama',\n",
              " 'this',\n",
              " 'fourthofjuly',\n",
              " 'weekend',\n",
              " 'if',\n",
              " 'you',\n",
              " 'choose',\n",
              " 'to',\n",
              " 'spend',\n",
              " 'time',\n",
              " 'outdoors',\n",
              " 'at',\n",
              " 'an',\n",
              " 'event',\n",
              " 'or',\n",
              " 'gathering',\n",
              " 'stay',\n",
              " 'ft',\n",
              " 'apart',\n",
              " 'amp',\n",
              " 'wear',\n",
              " 'a',\n",
              " 'cloth',\n",
              " 'face',\n",
              " 'cover',\n",
              " 'to',\n",
              " 'slow',\n",
              " 'the',\n",
              " 'spread',\n",
              " 'of',\n",
              " 'covid',\n",
              " 'learn',\n",
              " 'more',\n",
              " 'at',\n",
              " 'cdc',\n",
              " 'recommends',\n",
              " 'mothers',\n",
              " 'stop',\n",
              " 'breastfeeding',\n",
              " 'to',\n",
              " 'boost',\n",
              " 'vaccine',\n",
              " 'efficacy',\n",
              " 'singapore',\n",
              " 'airlines',\n",
              " 'haults',\n",
              " 'all',\n",
              " 'flights',\n",
              " 'due',\n",
              " 'to',\n",
              " 'coronavirus',\n",
              " 'outbreak',\n",
              " 'florida',\n",
              " 'governor',\n",
              " 'ron',\n",
              " 'desantis',\n",
              " 'botches',\n",
              " 'covid',\n",
              " 'response',\n",
              " 'by',\n",
              " 'banning',\n",
              " 'corona',\n",
              " 'beer',\n",
              " 'in',\n",
              " 'order',\n",
              " 'to',\n",
              " 'flatten',\n",
              " 'pandemic',\n",
              " 'curve',\n",
              " 'we',\n",
              " 'apologise',\n",
              " 'to',\n",
              " 'the',\n",
              " 'government',\n",
              " 'of',\n",
              " 'ekiti',\n",
              " 'state',\n",
              " 'for',\n",
              " 'this',\n",
              " 'error',\n",
              " 'we',\n",
              " 'remain',\n",
              " 'committed',\n",
              " 'to',\n",
              " 'improving',\n",
              " 'our',\n",
              " 'quality',\n",
              " 'control',\n",
              " 'processes',\n",
              " 'to',\n",
              " 'ensure',\n",
              " 'accurate',\n",
              " 'and',\n",
              " 'transparent',\n",
              " 'reporting',\n",
              " 'of',\n",
              " 'cases',\n",
              " 'nyt',\n",
              " 'invented',\n",
              " 'the',\n",
              " 'video',\n",
              " 'of',\n",
              " 'a',\n",
              " 'doctor',\n",
              " 'fighting',\n",
              " 'coronavirus',\n",
              " 'in',\n",
              " 'hospital',\n",
              " 'in',\n",
              " 'may',\n",
              " 'we',\n",
              " 'did',\n",
              " 'not',\n",
              " 'break',\n",
              " 'k',\n",
              " 'cases',\n",
              " 'in',\n",
              " 'a',\n",
              " 'day',\n",
              " 'today',\n",
              " 'the',\n",
              " 'south',\n",
              " 'alone',\n",
              " 'reported',\n",
              " 'alert',\n",
              " 'americans',\n",
              " ...]"
            ]
          },
          "metadata": {},
          "execution_count": 59
        }
      ],
      "source": [
        "bagOfWords(df)"
      ]
    },
    {
      "cell_type": "code",
      "source": [
        "\n",
        "# def preprocess(text):\n",
        "#   # lowercase the text\n",
        "#   text=text.lower()\n",
        "#   # remove the words counting just one letter\n",
        "#   text = [t for t in text.split(\" \") if len(t) > 1]\n",
        "#   # text = re.sub('https?://\\S+|www\\.\\S+', '', text)\n",
        "#   # text =re.sub(r'''(?i)\\b((?:https?://|www\\d{0,3}[.]|[a-z0-9.\\-]+[.][a-z]{2,4}/)(?:[^\\s()<>]+|\\(([^\\s()<>]+|(\\([^\\s()<>]+\\)))*\\))+(?:\\(([^\\s()<>]+|(\\([^\\s()<>]+\\)))*\\)|[^\\s`!()\\[\\]{};:'\".,<>?«»“”‘’]))''', \" \", text )\n",
        "#   # Remove all traces of emoji from a text file.\n",
        "#   # text= remove_emoji(text)\n",
        "#   text = [ps.stem(word) for word in text if not word in stopwords.words('english')]\n",
        "#   return text\n",
        "\n"
      ],
      "metadata": {
        "id": "zT12fiijOjwJ"
      },
      "execution_count": null,
      "outputs": []
    },
    {
      "cell_type": "code",
      "source": [
        "# !pip install nltk\n",
        "# import nltk\n",
        "# import re\n",
        "# from nltk.corpus import stopwords\n",
        "# from nltk.stem.porter import PorterStemmer\n",
        "# df = pd.read_excel(\"/content/drive/MyDrive/PROJET_IA/Data-FakeRealCOVID.xlsx\")\n",
        "# # \n",
        "# df['tweet']=df['tweet'].apply(preprocess)"
      ],
      "metadata": {
        "id": "A2AmG0FoOj4b"
      },
      "execution_count": null,
      "outputs": []
    },
    {
      "cell_type": "code",
      "source": [
        "df.head()"
      ],
      "metadata": {
        "id": "7gXuHN9keZBq"
      },
      "execution_count": null,
      "outputs": []
    },
    {
      "cell_type": "code",
      "source": [
        ""
      ],
      "metadata": {
        "id": "nEB-i_XoOj7B"
      },
      "execution_count": null,
      "outputs": []
    },
    {
      "cell_type": "code",
      "source": [
        ""
      ],
      "metadata": {
        "id": "n9GvOg3-Oj-b"
      },
      "execution_count": null,
      "outputs": []
    }
  ]
}